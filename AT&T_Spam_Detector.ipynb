{
  "nbformat": 4,
  "nbformat_minor": 0,
  "metadata": {
    "colab": {
      "provenance": [],
      "authorship_tag": "ABX9TyO00M0K9vtbgOkKs/So2MtL",
      "include_colab_link": true
    },
    "kernelspec": {
      "name": "python3",
      "display_name": "Python 3"
    },
    "language_info": {
      "name": "python"
    }
  },
  "cells": [
    {
      "cell_type": "markdown",
      "metadata": {
        "id": "view-in-github",
        "colab_type": "text"
      },
      "source": [
        "<a href=\"https://colab.research.google.com/github/NadiaPreuvot/Deep_learning_AT-T-Spam-Detector_Project/blob/main/AT%26T_Spam_Detector.ipynb\" target=\"_parent\"><img src=\"https://colab.research.google.com/assets/colab-badge.svg\" alt=\"Open In Colab\"/></a>"
      ]
    },
    {
      "cell_type": "markdown",
      "source": [
        "<u><h1><h1 align=\"center\">**AT&T SPAM DETECTOR**</h1>\n",
        "\n",
        "\n",
        "\n"
      ],
      "metadata": {
        "id": "nMyruNvI9VjT"
      }
    },
    {
      "cell_type": "markdown",
      "source": [
        "## <u> Part 1 : Import libraries and load the dataset"
      ],
      "metadata": {
        "id": "36q6NNZrEqLS"
      }
    },
    {
      "cell_type": "markdown",
      "source": [
        "<u><h4>1.Import useful modules"
      ],
      "metadata": {
        "id": "IHg0M-8vrWCh"
      }
    },
    {
      "cell_type": "code",
      "source": [
        "# Import Libraries\n",
        "\n",
        "import pandas as pd\n",
        "import plotly.express as px\n",
        "import numpy as np\n",
        "import tensorflow as tf\n",
        "import pathlib\n",
        "import os\n",
        "import io\n",
        "import warnings\n",
        "warnings.filterwarnings('ignore')\n",
        "import matplotlib.pyplot as plt\n",
        "from sklearn.model_selection import train_test_split\n",
        "from tensorflow.keras.layers import Embedding, SimpleRNN, Dense, GRU, LSTM\n"
      ],
      "metadata": {
        "id": "Sp74a9KOTQwF"
      },
      "execution_count": 1,
      "outputs": []
    },
    {
      "cell_type": "markdown",
      "source": [
        "<u><h4>2.Load the data"
      ],
      "metadata": {
        "id": "YL4dxy5prpA1"
      }
    },
    {
      "cell_type": "code",
      "execution_count": 2,
      "metadata": {
        "id": "zwj4x01lS6ww",
        "colab": {
          "base_uri": "https://localhost:8080/"
        },
        "outputId": "fb85bdde-9632-4c8a-c098-0d2cfa62e9f6"
      },
      "outputs": [
        {
          "output_type": "stream",
          "name": "stdout",
          "text": [
            "Loading dataset...\n",
            "...Done\n"
          ]
        }
      ],
      "source": [
        "#Import dataset with Pandas\n",
        "print(\"Loading dataset...\")\n",
        "df=pd.read_csv(\"/content/spam.csv\", encoding=\"ISO-8859-1\")\n",
        "print(\"...Done\")"
      ]
    },
    {
      "cell_type": "markdown",
      "source": [
        "## <u> Part 2 : Understand the data  "
      ],
      "metadata": {
        "id": "d8qCGJAx23Mx"
      }
    },
    {
      "cell_type": "markdown",
      "source": [
        "<u><h4>1.Understand the data"
      ],
      "metadata": {
        "id": "a6XECJaj08eM"
      }
    },
    {
      "cell_type": "code",
      "source": [
        "#Basic stats\n",
        "print(\"Number of rows: {}\".format(df.shape[0]))\n",
        "print(\"Number of columns: {}\".format(df.shape[1]))\n",
        "print()\n",
        "\n",
        "print (\"Display of dataset: \")\n",
        "display(df.head())\n",
        "print()\n",
        "\n",
        "print (\"Basics statistics: \")\n",
        "df_desc= df.describe(include=\"all\")\n",
        "display(df_desc)\n",
        "print()\n",
        "\n",
        "print (\"Percentage of missing values: \")\n",
        "display(100*df.isnull().sum()/df.shape[0])"
      ],
      "metadata": {
        "colab": {
          "base_uri": "https://localhost:8080/",
          "height": 614
        },
        "id": "PirmOatFSc_9",
        "outputId": "4084668c-e010-4884-f5e5-6288fa070ae7"
      },
      "execution_count": 3,
      "outputs": [
        {
          "output_type": "stream",
          "name": "stdout",
          "text": [
            "Number of rows: 5572\n",
            "Number of columns: 5\n",
            "\n",
            "Display of dataset: \n"
          ]
        },
        {
          "output_type": "display_data",
          "data": {
            "text/plain": [
              "     v1                                                 v2 Unnamed: 2  \\\n",
              "0   ham  Go until jurong point, crazy.. Available only ...        NaN   \n",
              "1   ham                      Ok lar... Joking wif u oni...        NaN   \n",
              "2  spam  Free entry in 2 a wkly comp to win FA Cup fina...        NaN   \n",
              "3   ham  U dun say so early hor... U c already then say...        NaN   \n",
              "4   ham  Nah I don't think he goes to usf, he lives aro...        NaN   \n",
              "\n",
              "  Unnamed: 3 Unnamed: 4  \n",
              "0        NaN        NaN  \n",
              "1        NaN        NaN  \n",
              "2        NaN        NaN  \n",
              "3        NaN        NaN  \n",
              "4        NaN        NaN  "
            ],
            "text/html": [
              "\n",
              "  <div id=\"df-66f7d706-18c2-4b13-a1fe-c8b31c182b8d\" class=\"colab-df-container\">\n",
              "    <div>\n",
              "<style scoped>\n",
              "    .dataframe tbody tr th:only-of-type {\n",
              "        vertical-align: middle;\n",
              "    }\n",
              "\n",
              "    .dataframe tbody tr th {\n",
              "        vertical-align: top;\n",
              "    }\n",
              "\n",
              "    .dataframe thead th {\n",
              "        text-align: right;\n",
              "    }\n",
              "</style>\n",
              "<table border=\"1\" class=\"dataframe\">\n",
              "  <thead>\n",
              "    <tr style=\"text-align: right;\">\n",
              "      <th></th>\n",
              "      <th>v1</th>\n",
              "      <th>v2</th>\n",
              "      <th>Unnamed: 2</th>\n",
              "      <th>Unnamed: 3</th>\n",
              "      <th>Unnamed: 4</th>\n",
              "    </tr>\n",
              "  </thead>\n",
              "  <tbody>\n",
              "    <tr>\n",
              "      <th>0</th>\n",
              "      <td>ham</td>\n",
              "      <td>Go until jurong point, crazy.. Available only ...</td>\n",
              "      <td>NaN</td>\n",
              "      <td>NaN</td>\n",
              "      <td>NaN</td>\n",
              "    </tr>\n",
              "    <tr>\n",
              "      <th>1</th>\n",
              "      <td>ham</td>\n",
              "      <td>Ok lar... Joking wif u oni...</td>\n",
              "      <td>NaN</td>\n",
              "      <td>NaN</td>\n",
              "      <td>NaN</td>\n",
              "    </tr>\n",
              "    <tr>\n",
              "      <th>2</th>\n",
              "      <td>spam</td>\n",
              "      <td>Free entry in 2 a wkly comp to win FA Cup fina...</td>\n",
              "      <td>NaN</td>\n",
              "      <td>NaN</td>\n",
              "      <td>NaN</td>\n",
              "    </tr>\n",
              "    <tr>\n",
              "      <th>3</th>\n",
              "      <td>ham</td>\n",
              "      <td>U dun say so early hor... U c already then say...</td>\n",
              "      <td>NaN</td>\n",
              "      <td>NaN</td>\n",
              "      <td>NaN</td>\n",
              "    </tr>\n",
              "    <tr>\n",
              "      <th>4</th>\n",
              "      <td>ham</td>\n",
              "      <td>Nah I don't think he goes to usf, he lives aro...</td>\n",
              "      <td>NaN</td>\n",
              "      <td>NaN</td>\n",
              "      <td>NaN</td>\n",
              "    </tr>\n",
              "  </tbody>\n",
              "</table>\n",
              "</div>\n",
              "    <div class=\"colab-df-buttons\">\n",
              "\n",
              "  <div class=\"colab-df-container\">\n",
              "    <button class=\"colab-df-convert\" onclick=\"convertToInteractive('df-66f7d706-18c2-4b13-a1fe-c8b31c182b8d')\"\n",
              "            title=\"Convert this dataframe to an interactive table.\"\n",
              "            style=\"display:none;\">\n",
              "\n",
              "  <svg xmlns=\"http://www.w3.org/2000/svg\" height=\"24px\" viewBox=\"0 -960 960 960\">\n",
              "    <path d=\"M120-120v-720h720v720H120Zm60-500h600v-160H180v160Zm220 220h160v-160H400v160Zm0 220h160v-160H400v160ZM180-400h160v-160H180v160Zm440 0h160v-160H620v160ZM180-180h160v-160H180v160Zm440 0h160v-160H620v160Z\"/>\n",
              "  </svg>\n",
              "    </button>\n",
              "\n",
              "  <style>\n",
              "    .colab-df-container {\n",
              "      display:flex;\n",
              "      gap: 12px;\n",
              "    }\n",
              "\n",
              "    .colab-df-convert {\n",
              "      background-color: #E8F0FE;\n",
              "      border: none;\n",
              "      border-radius: 50%;\n",
              "      cursor: pointer;\n",
              "      display: none;\n",
              "      fill: #1967D2;\n",
              "      height: 32px;\n",
              "      padding: 0 0 0 0;\n",
              "      width: 32px;\n",
              "    }\n",
              "\n",
              "    .colab-df-convert:hover {\n",
              "      background-color: #E2EBFA;\n",
              "      box-shadow: 0px 1px 2px rgba(60, 64, 67, 0.3), 0px 1px 3px 1px rgba(60, 64, 67, 0.15);\n",
              "      fill: #174EA6;\n",
              "    }\n",
              "\n",
              "    .colab-df-buttons div {\n",
              "      margin-bottom: 4px;\n",
              "    }\n",
              "\n",
              "    [theme=dark] .colab-df-convert {\n",
              "      background-color: #3B4455;\n",
              "      fill: #D2E3FC;\n",
              "    }\n",
              "\n",
              "    [theme=dark] .colab-df-convert:hover {\n",
              "      background-color: #434B5C;\n",
              "      box-shadow: 0px 1px 3px 1px rgba(0, 0, 0, 0.15);\n",
              "      filter: drop-shadow(0px 1px 2px rgba(0, 0, 0, 0.3));\n",
              "      fill: #FFFFFF;\n",
              "    }\n",
              "  </style>\n",
              "\n",
              "    <script>\n",
              "      const buttonEl =\n",
              "        document.querySelector('#df-66f7d706-18c2-4b13-a1fe-c8b31c182b8d button.colab-df-convert');\n",
              "      buttonEl.style.display =\n",
              "        google.colab.kernel.accessAllowed ? 'block' : 'none';\n",
              "\n",
              "      async function convertToInteractive(key) {\n",
              "        const element = document.querySelector('#df-66f7d706-18c2-4b13-a1fe-c8b31c182b8d');\n",
              "        const dataTable =\n",
              "          await google.colab.kernel.invokeFunction('convertToInteractive',\n",
              "                                                    [key], {});\n",
              "        if (!dataTable) return;\n",
              "\n",
              "        const docLinkHtml = 'Like what you see? Visit the ' +\n",
              "          '<a target=\"_blank\" href=https://colab.research.google.com/notebooks/data_table.ipynb>data table notebook</a>'\n",
              "          + ' to learn more about interactive tables.';\n",
              "        element.innerHTML = '';\n",
              "        dataTable['output_type'] = 'display_data';\n",
              "        await google.colab.output.renderOutput(dataTable, element);\n",
              "        const docLink = document.createElement('div');\n",
              "        docLink.innerHTML = docLinkHtml;\n",
              "        element.appendChild(docLink);\n",
              "      }\n",
              "    </script>\n",
              "  </div>\n",
              "\n",
              "\n",
              "<div id=\"df-9d9c0701-433e-40b2-b156-2e2bf69a2c52\">\n",
              "  <button class=\"colab-df-quickchart\" onclick=\"quickchart('df-9d9c0701-433e-40b2-b156-2e2bf69a2c52')\"\n",
              "            title=\"Suggest charts\"\n",
              "            style=\"display:none;\">\n",
              "\n",
              "<svg xmlns=\"http://www.w3.org/2000/svg\" height=\"24px\"viewBox=\"0 0 24 24\"\n",
              "     width=\"24px\">\n",
              "    <g>\n",
              "        <path d=\"M19 3H5c-1.1 0-2 .9-2 2v14c0 1.1.9 2 2 2h14c1.1 0 2-.9 2-2V5c0-1.1-.9-2-2-2zM9 17H7v-7h2v7zm4 0h-2V7h2v10zm4 0h-2v-4h2v4z\"/>\n",
              "    </g>\n",
              "</svg>\n",
              "  </button>\n",
              "\n",
              "<style>\n",
              "  .colab-df-quickchart {\n",
              "      --bg-color: #E8F0FE;\n",
              "      --fill-color: #1967D2;\n",
              "      --hover-bg-color: #E2EBFA;\n",
              "      --hover-fill-color: #174EA6;\n",
              "      --disabled-fill-color: #AAA;\n",
              "      --disabled-bg-color: #DDD;\n",
              "  }\n",
              "\n",
              "  [theme=dark] .colab-df-quickchart {\n",
              "      --bg-color: #3B4455;\n",
              "      --fill-color: #D2E3FC;\n",
              "      --hover-bg-color: #434B5C;\n",
              "      --hover-fill-color: #FFFFFF;\n",
              "      --disabled-bg-color: #3B4455;\n",
              "      --disabled-fill-color: #666;\n",
              "  }\n",
              "\n",
              "  .colab-df-quickchart {\n",
              "    background-color: var(--bg-color);\n",
              "    border: none;\n",
              "    border-radius: 50%;\n",
              "    cursor: pointer;\n",
              "    display: none;\n",
              "    fill: var(--fill-color);\n",
              "    height: 32px;\n",
              "    padding: 0;\n",
              "    width: 32px;\n",
              "  }\n",
              "\n",
              "  .colab-df-quickchart:hover {\n",
              "    background-color: var(--hover-bg-color);\n",
              "    box-shadow: 0 1px 2px rgba(60, 64, 67, 0.3), 0 1px 3px 1px rgba(60, 64, 67, 0.15);\n",
              "    fill: var(--button-hover-fill-color);\n",
              "  }\n",
              "\n",
              "  .colab-df-quickchart-complete:disabled,\n",
              "  .colab-df-quickchart-complete:disabled:hover {\n",
              "    background-color: var(--disabled-bg-color);\n",
              "    fill: var(--disabled-fill-color);\n",
              "    box-shadow: none;\n",
              "  }\n",
              "\n",
              "  .colab-df-spinner {\n",
              "    border: 2px solid var(--fill-color);\n",
              "    border-color: transparent;\n",
              "    border-bottom-color: var(--fill-color);\n",
              "    animation:\n",
              "      spin 1s steps(1) infinite;\n",
              "  }\n",
              "\n",
              "  @keyframes spin {\n",
              "    0% {\n",
              "      border-color: transparent;\n",
              "      border-bottom-color: var(--fill-color);\n",
              "      border-left-color: var(--fill-color);\n",
              "    }\n",
              "    20% {\n",
              "      border-color: transparent;\n",
              "      border-left-color: var(--fill-color);\n",
              "      border-top-color: var(--fill-color);\n",
              "    }\n",
              "    30% {\n",
              "      border-color: transparent;\n",
              "      border-left-color: var(--fill-color);\n",
              "      border-top-color: var(--fill-color);\n",
              "      border-right-color: var(--fill-color);\n",
              "    }\n",
              "    40% {\n",
              "      border-color: transparent;\n",
              "      border-right-color: var(--fill-color);\n",
              "      border-top-color: var(--fill-color);\n",
              "    }\n",
              "    60% {\n",
              "      border-color: transparent;\n",
              "      border-right-color: var(--fill-color);\n",
              "    }\n",
              "    80% {\n",
              "      border-color: transparent;\n",
              "      border-right-color: var(--fill-color);\n",
              "      border-bottom-color: var(--fill-color);\n",
              "    }\n",
              "    90% {\n",
              "      border-color: transparent;\n",
              "      border-bottom-color: var(--fill-color);\n",
              "    }\n",
              "  }\n",
              "</style>\n",
              "\n",
              "  <script>\n",
              "    async function quickchart(key) {\n",
              "      const quickchartButtonEl =\n",
              "        document.querySelector('#' + key + ' button');\n",
              "      quickchartButtonEl.disabled = true;  // To prevent multiple clicks.\n",
              "      quickchartButtonEl.classList.add('colab-df-spinner');\n",
              "      try {\n",
              "        const charts = await google.colab.kernel.invokeFunction(\n",
              "            'suggestCharts', [key], {});\n",
              "      } catch (error) {\n",
              "        console.error('Error during call to suggestCharts:', error);\n",
              "      }\n",
              "      quickchartButtonEl.classList.remove('colab-df-spinner');\n",
              "      quickchartButtonEl.classList.add('colab-df-quickchart-complete');\n",
              "    }\n",
              "    (() => {\n",
              "      let quickchartButtonEl =\n",
              "        document.querySelector('#df-9d9c0701-433e-40b2-b156-2e2bf69a2c52 button');\n",
              "      quickchartButtonEl.style.display =\n",
              "        google.colab.kernel.accessAllowed ? 'block' : 'none';\n",
              "    })();\n",
              "  </script>\n",
              "</div>\n",
              "    </div>\n",
              "  </div>\n"
            ]
          },
          "metadata": {}
        },
        {
          "output_type": "stream",
          "name": "stdout",
          "text": [
            "\n",
            "Basics statistics: \n"
          ]
        },
        {
          "output_type": "display_data",
          "data": {
            "text/plain": [
              "          v1                      v2  \\\n",
              "count   5572                    5572   \n",
              "unique     2                    5169   \n",
              "top      ham  Sorry, I'll call later   \n",
              "freq    4825                      30   \n",
              "\n",
              "                                               Unnamed: 2  \\\n",
              "count                                                  50   \n",
              "unique                                                 43   \n",
              "top      bt not his girlfrnd... G o o d n i g h t . . .@\"   \n",
              "freq                                                    3   \n",
              "\n",
              "                   Unnamed: 3 Unnamed: 4  \n",
              "count                      12          6  \n",
              "unique                     10          5  \n",
              "top      MK17 92H. 450Ppw 16\"    GNT:-)\"  \n",
              "freq                        2          2  "
            ],
            "text/html": [
              "\n",
              "  <div id=\"df-f62662c4-b3f5-4b45-a29a-7fec13e95287\" class=\"colab-df-container\">\n",
              "    <div>\n",
              "<style scoped>\n",
              "    .dataframe tbody tr th:only-of-type {\n",
              "        vertical-align: middle;\n",
              "    }\n",
              "\n",
              "    .dataframe tbody tr th {\n",
              "        vertical-align: top;\n",
              "    }\n",
              "\n",
              "    .dataframe thead th {\n",
              "        text-align: right;\n",
              "    }\n",
              "</style>\n",
              "<table border=\"1\" class=\"dataframe\">\n",
              "  <thead>\n",
              "    <tr style=\"text-align: right;\">\n",
              "      <th></th>\n",
              "      <th>v1</th>\n",
              "      <th>v2</th>\n",
              "      <th>Unnamed: 2</th>\n",
              "      <th>Unnamed: 3</th>\n",
              "      <th>Unnamed: 4</th>\n",
              "    </tr>\n",
              "  </thead>\n",
              "  <tbody>\n",
              "    <tr>\n",
              "      <th>count</th>\n",
              "      <td>5572</td>\n",
              "      <td>5572</td>\n",
              "      <td>50</td>\n",
              "      <td>12</td>\n",
              "      <td>6</td>\n",
              "    </tr>\n",
              "    <tr>\n",
              "      <th>unique</th>\n",
              "      <td>2</td>\n",
              "      <td>5169</td>\n",
              "      <td>43</td>\n",
              "      <td>10</td>\n",
              "      <td>5</td>\n",
              "    </tr>\n",
              "    <tr>\n",
              "      <th>top</th>\n",
              "      <td>ham</td>\n",
              "      <td>Sorry, I'll call later</td>\n",
              "      <td>bt not his girlfrnd... G o o d n i g h t . . .@\"</td>\n",
              "      <td>MK17 92H. 450Ppw 16\"</td>\n",
              "      <td>GNT:-)\"</td>\n",
              "    </tr>\n",
              "    <tr>\n",
              "      <th>freq</th>\n",
              "      <td>4825</td>\n",
              "      <td>30</td>\n",
              "      <td>3</td>\n",
              "      <td>2</td>\n",
              "      <td>2</td>\n",
              "    </tr>\n",
              "  </tbody>\n",
              "</table>\n",
              "</div>\n",
              "    <div class=\"colab-df-buttons\">\n",
              "\n",
              "  <div class=\"colab-df-container\">\n",
              "    <button class=\"colab-df-convert\" onclick=\"convertToInteractive('df-f62662c4-b3f5-4b45-a29a-7fec13e95287')\"\n",
              "            title=\"Convert this dataframe to an interactive table.\"\n",
              "            style=\"display:none;\">\n",
              "\n",
              "  <svg xmlns=\"http://www.w3.org/2000/svg\" height=\"24px\" viewBox=\"0 -960 960 960\">\n",
              "    <path d=\"M120-120v-720h720v720H120Zm60-500h600v-160H180v160Zm220 220h160v-160H400v160Zm0 220h160v-160H400v160ZM180-400h160v-160H180v160Zm440 0h160v-160H620v160ZM180-180h160v-160H180v160Zm440 0h160v-160H620v160Z\"/>\n",
              "  </svg>\n",
              "    </button>\n",
              "\n",
              "  <style>\n",
              "    .colab-df-container {\n",
              "      display:flex;\n",
              "      gap: 12px;\n",
              "    }\n",
              "\n",
              "    .colab-df-convert {\n",
              "      background-color: #E8F0FE;\n",
              "      border: none;\n",
              "      border-radius: 50%;\n",
              "      cursor: pointer;\n",
              "      display: none;\n",
              "      fill: #1967D2;\n",
              "      height: 32px;\n",
              "      padding: 0 0 0 0;\n",
              "      width: 32px;\n",
              "    }\n",
              "\n",
              "    .colab-df-convert:hover {\n",
              "      background-color: #E2EBFA;\n",
              "      box-shadow: 0px 1px 2px rgba(60, 64, 67, 0.3), 0px 1px 3px 1px rgba(60, 64, 67, 0.15);\n",
              "      fill: #174EA6;\n",
              "    }\n",
              "\n",
              "    .colab-df-buttons div {\n",
              "      margin-bottom: 4px;\n",
              "    }\n",
              "\n",
              "    [theme=dark] .colab-df-convert {\n",
              "      background-color: #3B4455;\n",
              "      fill: #D2E3FC;\n",
              "    }\n",
              "\n",
              "    [theme=dark] .colab-df-convert:hover {\n",
              "      background-color: #434B5C;\n",
              "      box-shadow: 0px 1px 3px 1px rgba(0, 0, 0, 0.15);\n",
              "      filter: drop-shadow(0px 1px 2px rgba(0, 0, 0, 0.3));\n",
              "      fill: #FFFFFF;\n",
              "    }\n",
              "  </style>\n",
              "\n",
              "    <script>\n",
              "      const buttonEl =\n",
              "        document.querySelector('#df-f62662c4-b3f5-4b45-a29a-7fec13e95287 button.colab-df-convert');\n",
              "      buttonEl.style.display =\n",
              "        google.colab.kernel.accessAllowed ? 'block' : 'none';\n",
              "\n",
              "      async function convertToInteractive(key) {\n",
              "        const element = document.querySelector('#df-f62662c4-b3f5-4b45-a29a-7fec13e95287');\n",
              "        const dataTable =\n",
              "          await google.colab.kernel.invokeFunction('convertToInteractive',\n",
              "                                                    [key], {});\n",
              "        if (!dataTable) return;\n",
              "\n",
              "        const docLinkHtml = 'Like what you see? Visit the ' +\n",
              "          '<a target=\"_blank\" href=https://colab.research.google.com/notebooks/data_table.ipynb>data table notebook</a>'\n",
              "          + ' to learn more about interactive tables.';\n",
              "        element.innerHTML = '';\n",
              "        dataTable['output_type'] = 'display_data';\n",
              "        await google.colab.output.renderOutput(dataTable, element);\n",
              "        const docLink = document.createElement('div');\n",
              "        docLink.innerHTML = docLinkHtml;\n",
              "        element.appendChild(docLink);\n",
              "      }\n",
              "    </script>\n",
              "  </div>\n",
              "\n",
              "\n",
              "<div id=\"df-d6f60e5e-3818-4ad5-8096-949c129a063e\">\n",
              "  <button class=\"colab-df-quickchart\" onclick=\"quickchart('df-d6f60e5e-3818-4ad5-8096-949c129a063e')\"\n",
              "            title=\"Suggest charts\"\n",
              "            style=\"display:none;\">\n",
              "\n",
              "<svg xmlns=\"http://www.w3.org/2000/svg\" height=\"24px\"viewBox=\"0 0 24 24\"\n",
              "     width=\"24px\">\n",
              "    <g>\n",
              "        <path d=\"M19 3H5c-1.1 0-2 .9-2 2v14c0 1.1.9 2 2 2h14c1.1 0 2-.9 2-2V5c0-1.1-.9-2-2-2zM9 17H7v-7h2v7zm4 0h-2V7h2v10zm4 0h-2v-4h2v4z\"/>\n",
              "    </g>\n",
              "</svg>\n",
              "  </button>\n",
              "\n",
              "<style>\n",
              "  .colab-df-quickchart {\n",
              "      --bg-color: #E8F0FE;\n",
              "      --fill-color: #1967D2;\n",
              "      --hover-bg-color: #E2EBFA;\n",
              "      --hover-fill-color: #174EA6;\n",
              "      --disabled-fill-color: #AAA;\n",
              "      --disabled-bg-color: #DDD;\n",
              "  }\n",
              "\n",
              "  [theme=dark] .colab-df-quickchart {\n",
              "      --bg-color: #3B4455;\n",
              "      --fill-color: #D2E3FC;\n",
              "      --hover-bg-color: #434B5C;\n",
              "      --hover-fill-color: #FFFFFF;\n",
              "      --disabled-bg-color: #3B4455;\n",
              "      --disabled-fill-color: #666;\n",
              "  }\n",
              "\n",
              "  .colab-df-quickchart {\n",
              "    background-color: var(--bg-color);\n",
              "    border: none;\n",
              "    border-radius: 50%;\n",
              "    cursor: pointer;\n",
              "    display: none;\n",
              "    fill: var(--fill-color);\n",
              "    height: 32px;\n",
              "    padding: 0;\n",
              "    width: 32px;\n",
              "  }\n",
              "\n",
              "  .colab-df-quickchart:hover {\n",
              "    background-color: var(--hover-bg-color);\n",
              "    box-shadow: 0 1px 2px rgba(60, 64, 67, 0.3), 0 1px 3px 1px rgba(60, 64, 67, 0.15);\n",
              "    fill: var(--button-hover-fill-color);\n",
              "  }\n",
              "\n",
              "  .colab-df-quickchart-complete:disabled,\n",
              "  .colab-df-quickchart-complete:disabled:hover {\n",
              "    background-color: var(--disabled-bg-color);\n",
              "    fill: var(--disabled-fill-color);\n",
              "    box-shadow: none;\n",
              "  }\n",
              "\n",
              "  .colab-df-spinner {\n",
              "    border: 2px solid var(--fill-color);\n",
              "    border-color: transparent;\n",
              "    border-bottom-color: var(--fill-color);\n",
              "    animation:\n",
              "      spin 1s steps(1) infinite;\n",
              "  }\n",
              "\n",
              "  @keyframes spin {\n",
              "    0% {\n",
              "      border-color: transparent;\n",
              "      border-bottom-color: var(--fill-color);\n",
              "      border-left-color: var(--fill-color);\n",
              "    }\n",
              "    20% {\n",
              "      border-color: transparent;\n",
              "      border-left-color: var(--fill-color);\n",
              "      border-top-color: var(--fill-color);\n",
              "    }\n",
              "    30% {\n",
              "      border-color: transparent;\n",
              "      border-left-color: var(--fill-color);\n",
              "      border-top-color: var(--fill-color);\n",
              "      border-right-color: var(--fill-color);\n",
              "    }\n",
              "    40% {\n",
              "      border-color: transparent;\n",
              "      border-right-color: var(--fill-color);\n",
              "      border-top-color: var(--fill-color);\n",
              "    }\n",
              "    60% {\n",
              "      border-color: transparent;\n",
              "      border-right-color: var(--fill-color);\n",
              "    }\n",
              "    80% {\n",
              "      border-color: transparent;\n",
              "      border-right-color: var(--fill-color);\n",
              "      border-bottom-color: var(--fill-color);\n",
              "    }\n",
              "    90% {\n",
              "      border-color: transparent;\n",
              "      border-bottom-color: var(--fill-color);\n",
              "    }\n",
              "  }\n",
              "</style>\n",
              "\n",
              "  <script>\n",
              "    async function quickchart(key) {\n",
              "      const quickchartButtonEl =\n",
              "        document.querySelector('#' + key + ' button');\n",
              "      quickchartButtonEl.disabled = true;  // To prevent multiple clicks.\n",
              "      quickchartButtonEl.classList.add('colab-df-spinner');\n",
              "      try {\n",
              "        const charts = await google.colab.kernel.invokeFunction(\n",
              "            'suggestCharts', [key], {});\n",
              "      } catch (error) {\n",
              "        console.error('Error during call to suggestCharts:', error);\n",
              "      }\n",
              "      quickchartButtonEl.classList.remove('colab-df-spinner');\n",
              "      quickchartButtonEl.classList.add('colab-df-quickchart-complete');\n",
              "    }\n",
              "    (() => {\n",
              "      let quickchartButtonEl =\n",
              "        document.querySelector('#df-d6f60e5e-3818-4ad5-8096-949c129a063e button');\n",
              "      quickchartButtonEl.style.display =\n",
              "        google.colab.kernel.accessAllowed ? 'block' : 'none';\n",
              "    })();\n",
              "  </script>\n",
              "</div>\n",
              "    </div>\n",
              "  </div>\n"
            ]
          },
          "metadata": {}
        },
        {
          "output_type": "stream",
          "name": "stdout",
          "text": [
            "\n",
            "Percentage of missing values: \n"
          ]
        },
        {
          "output_type": "display_data",
          "data": {
            "text/plain": [
              "v1             0.000000\n",
              "v2             0.000000\n",
              "Unnamed: 2    99.102656\n",
              "Unnamed: 3    99.784637\n",
              "Unnamed: 4    99.892319\n",
              "dtype: float64"
            ]
          },
          "metadata": {}
        }
      ]
    },
    {
      "cell_type": "markdown",
      "source": [
        "***observations:***\n",
        "\n",
        "\n",
        "*   The primary columns of interest are ***v1***, which contains labels ('ham' for non-spam and 'spam' for spam messages), and ***v2***, which contains the SMS message content.\n",
        "*   The columns Unnamed: 2, Unnamed: 3, and Unnamed: 4 appear to have a significant number of missing values.\n",
        "\n",
        "\n",
        "\n"
      ],
      "metadata": {
        "id": "zUjXcrRHXxtT"
      }
    },
    {
      "cell_type": "markdown",
      "source": [
        "<u><h4>2.Data cleaning"
      ],
      "metadata": {
        "id": "zQgwutZx4o5T"
      }
    },
    {
      "cell_type": "markdown",
      "source": [
        "The columns Unnamed: 2, Unnamed: 3, and Unnamed: 4 have an exceptionally high percentage of missing values (approximately 99.1%, 99.78%, and 99.89% respectively), indicating that these columns are largely irrelevant for the analysis of spam detection. This suggests that the dataset's useful information is primarily contained within the v1 (label) and v2 (text) columns."
      ],
      "metadata": {
        "id": "GJbOwnpp5Dg_"
      }
    },
    {
      "cell_type": "code",
      "source": [
        "#Drop unuseful columns \"Unnamed: 2\"/\"Unnamed: 3\"/\"Unnamed: 4\"\n",
        "\n",
        "print(\"Dropping uselss columns...\")\n",
        "df = df.drop(df.columns[[2,3,4]], axis=1)\n",
        "print(\"...Done\")\n",
        "df.head()\n"
      ],
      "metadata": {
        "colab": {
          "base_uri": "https://localhost:8080/",
          "height": 242
        },
        "id": "UogEi_o7UPVS",
        "outputId": "1cda28b3-add1-48ce-fb84-1be7433e3a67"
      },
      "execution_count": 4,
      "outputs": [
        {
          "output_type": "stream",
          "name": "stdout",
          "text": [
            "Dropping uselss columns...\n",
            "...Done\n"
          ]
        },
        {
          "output_type": "execute_result",
          "data": {
            "text/plain": [
              "     v1                                                 v2\n",
              "0   ham  Go until jurong point, crazy.. Available only ...\n",
              "1   ham                      Ok lar... Joking wif u oni...\n",
              "2  spam  Free entry in 2 a wkly comp to win FA Cup fina...\n",
              "3   ham  U dun say so early hor... U c already then say...\n",
              "4   ham  Nah I don't think he goes to usf, he lives aro..."
            ],
            "text/html": [
              "\n",
              "  <div id=\"df-484aea3c-4e96-49b5-b934-8719ecabd557\" class=\"colab-df-container\">\n",
              "    <div>\n",
              "<style scoped>\n",
              "    .dataframe tbody tr th:only-of-type {\n",
              "        vertical-align: middle;\n",
              "    }\n",
              "\n",
              "    .dataframe tbody tr th {\n",
              "        vertical-align: top;\n",
              "    }\n",
              "\n",
              "    .dataframe thead th {\n",
              "        text-align: right;\n",
              "    }\n",
              "</style>\n",
              "<table border=\"1\" class=\"dataframe\">\n",
              "  <thead>\n",
              "    <tr style=\"text-align: right;\">\n",
              "      <th></th>\n",
              "      <th>v1</th>\n",
              "      <th>v2</th>\n",
              "    </tr>\n",
              "  </thead>\n",
              "  <tbody>\n",
              "    <tr>\n",
              "      <th>0</th>\n",
              "      <td>ham</td>\n",
              "      <td>Go until jurong point, crazy.. Available only ...</td>\n",
              "    </tr>\n",
              "    <tr>\n",
              "      <th>1</th>\n",
              "      <td>ham</td>\n",
              "      <td>Ok lar... Joking wif u oni...</td>\n",
              "    </tr>\n",
              "    <tr>\n",
              "      <th>2</th>\n",
              "      <td>spam</td>\n",
              "      <td>Free entry in 2 a wkly comp to win FA Cup fina...</td>\n",
              "    </tr>\n",
              "    <tr>\n",
              "      <th>3</th>\n",
              "      <td>ham</td>\n",
              "      <td>U dun say so early hor... U c already then say...</td>\n",
              "    </tr>\n",
              "    <tr>\n",
              "      <th>4</th>\n",
              "      <td>ham</td>\n",
              "      <td>Nah I don't think he goes to usf, he lives aro...</td>\n",
              "    </tr>\n",
              "  </tbody>\n",
              "</table>\n",
              "</div>\n",
              "    <div class=\"colab-df-buttons\">\n",
              "\n",
              "  <div class=\"colab-df-container\">\n",
              "    <button class=\"colab-df-convert\" onclick=\"convertToInteractive('df-484aea3c-4e96-49b5-b934-8719ecabd557')\"\n",
              "            title=\"Convert this dataframe to an interactive table.\"\n",
              "            style=\"display:none;\">\n",
              "\n",
              "  <svg xmlns=\"http://www.w3.org/2000/svg\" height=\"24px\" viewBox=\"0 -960 960 960\">\n",
              "    <path d=\"M120-120v-720h720v720H120Zm60-500h600v-160H180v160Zm220 220h160v-160H400v160Zm0 220h160v-160H400v160ZM180-400h160v-160H180v160Zm440 0h160v-160H620v160ZM180-180h160v-160H180v160Zm440 0h160v-160H620v160Z\"/>\n",
              "  </svg>\n",
              "    </button>\n",
              "\n",
              "  <style>\n",
              "    .colab-df-container {\n",
              "      display:flex;\n",
              "      gap: 12px;\n",
              "    }\n",
              "\n",
              "    .colab-df-convert {\n",
              "      background-color: #E8F0FE;\n",
              "      border: none;\n",
              "      border-radius: 50%;\n",
              "      cursor: pointer;\n",
              "      display: none;\n",
              "      fill: #1967D2;\n",
              "      height: 32px;\n",
              "      padding: 0 0 0 0;\n",
              "      width: 32px;\n",
              "    }\n",
              "\n",
              "    .colab-df-convert:hover {\n",
              "      background-color: #E2EBFA;\n",
              "      box-shadow: 0px 1px 2px rgba(60, 64, 67, 0.3), 0px 1px 3px 1px rgba(60, 64, 67, 0.15);\n",
              "      fill: #174EA6;\n",
              "    }\n",
              "\n",
              "    .colab-df-buttons div {\n",
              "      margin-bottom: 4px;\n",
              "    }\n",
              "\n",
              "    [theme=dark] .colab-df-convert {\n",
              "      background-color: #3B4455;\n",
              "      fill: #D2E3FC;\n",
              "    }\n",
              "\n",
              "    [theme=dark] .colab-df-convert:hover {\n",
              "      background-color: #434B5C;\n",
              "      box-shadow: 0px 1px 3px 1px rgba(0, 0, 0, 0.15);\n",
              "      filter: drop-shadow(0px 1px 2px rgba(0, 0, 0, 0.3));\n",
              "      fill: #FFFFFF;\n",
              "    }\n",
              "  </style>\n",
              "\n",
              "    <script>\n",
              "      const buttonEl =\n",
              "        document.querySelector('#df-484aea3c-4e96-49b5-b934-8719ecabd557 button.colab-df-convert');\n",
              "      buttonEl.style.display =\n",
              "        google.colab.kernel.accessAllowed ? 'block' : 'none';\n",
              "\n",
              "      async function convertToInteractive(key) {\n",
              "        const element = document.querySelector('#df-484aea3c-4e96-49b5-b934-8719ecabd557');\n",
              "        const dataTable =\n",
              "          await google.colab.kernel.invokeFunction('convertToInteractive',\n",
              "                                                    [key], {});\n",
              "        if (!dataTable) return;\n",
              "\n",
              "        const docLinkHtml = 'Like what you see? Visit the ' +\n",
              "          '<a target=\"_blank\" href=https://colab.research.google.com/notebooks/data_table.ipynb>data table notebook</a>'\n",
              "          + ' to learn more about interactive tables.';\n",
              "        element.innerHTML = '';\n",
              "        dataTable['output_type'] = 'display_data';\n",
              "        await google.colab.output.renderOutput(dataTable, element);\n",
              "        const docLink = document.createElement('div');\n",
              "        docLink.innerHTML = docLinkHtml;\n",
              "        element.appendChild(docLink);\n",
              "      }\n",
              "    </script>\n",
              "  </div>\n",
              "\n",
              "\n",
              "<div id=\"df-e0a534ad-61e7-4e2e-b365-cd65c00e03ca\">\n",
              "  <button class=\"colab-df-quickchart\" onclick=\"quickchart('df-e0a534ad-61e7-4e2e-b365-cd65c00e03ca')\"\n",
              "            title=\"Suggest charts\"\n",
              "            style=\"display:none;\">\n",
              "\n",
              "<svg xmlns=\"http://www.w3.org/2000/svg\" height=\"24px\"viewBox=\"0 0 24 24\"\n",
              "     width=\"24px\">\n",
              "    <g>\n",
              "        <path d=\"M19 3H5c-1.1 0-2 .9-2 2v14c0 1.1.9 2 2 2h14c1.1 0 2-.9 2-2V5c0-1.1-.9-2-2-2zM9 17H7v-7h2v7zm4 0h-2V7h2v10zm4 0h-2v-4h2v4z\"/>\n",
              "    </g>\n",
              "</svg>\n",
              "  </button>\n",
              "\n",
              "<style>\n",
              "  .colab-df-quickchart {\n",
              "      --bg-color: #E8F0FE;\n",
              "      --fill-color: #1967D2;\n",
              "      --hover-bg-color: #E2EBFA;\n",
              "      --hover-fill-color: #174EA6;\n",
              "      --disabled-fill-color: #AAA;\n",
              "      --disabled-bg-color: #DDD;\n",
              "  }\n",
              "\n",
              "  [theme=dark] .colab-df-quickchart {\n",
              "      --bg-color: #3B4455;\n",
              "      --fill-color: #D2E3FC;\n",
              "      --hover-bg-color: #434B5C;\n",
              "      --hover-fill-color: #FFFFFF;\n",
              "      --disabled-bg-color: #3B4455;\n",
              "      --disabled-fill-color: #666;\n",
              "  }\n",
              "\n",
              "  .colab-df-quickchart {\n",
              "    background-color: var(--bg-color);\n",
              "    border: none;\n",
              "    border-radius: 50%;\n",
              "    cursor: pointer;\n",
              "    display: none;\n",
              "    fill: var(--fill-color);\n",
              "    height: 32px;\n",
              "    padding: 0;\n",
              "    width: 32px;\n",
              "  }\n",
              "\n",
              "  .colab-df-quickchart:hover {\n",
              "    background-color: var(--hover-bg-color);\n",
              "    box-shadow: 0 1px 2px rgba(60, 64, 67, 0.3), 0 1px 3px 1px rgba(60, 64, 67, 0.15);\n",
              "    fill: var(--button-hover-fill-color);\n",
              "  }\n",
              "\n",
              "  .colab-df-quickchart-complete:disabled,\n",
              "  .colab-df-quickchart-complete:disabled:hover {\n",
              "    background-color: var(--disabled-bg-color);\n",
              "    fill: var(--disabled-fill-color);\n",
              "    box-shadow: none;\n",
              "  }\n",
              "\n",
              "  .colab-df-spinner {\n",
              "    border: 2px solid var(--fill-color);\n",
              "    border-color: transparent;\n",
              "    border-bottom-color: var(--fill-color);\n",
              "    animation:\n",
              "      spin 1s steps(1) infinite;\n",
              "  }\n",
              "\n",
              "  @keyframes spin {\n",
              "    0% {\n",
              "      border-color: transparent;\n",
              "      border-bottom-color: var(--fill-color);\n",
              "      border-left-color: var(--fill-color);\n",
              "    }\n",
              "    20% {\n",
              "      border-color: transparent;\n",
              "      border-left-color: var(--fill-color);\n",
              "      border-top-color: var(--fill-color);\n",
              "    }\n",
              "    30% {\n",
              "      border-color: transparent;\n",
              "      border-left-color: var(--fill-color);\n",
              "      border-top-color: var(--fill-color);\n",
              "      border-right-color: var(--fill-color);\n",
              "    }\n",
              "    40% {\n",
              "      border-color: transparent;\n",
              "      border-right-color: var(--fill-color);\n",
              "      border-top-color: var(--fill-color);\n",
              "    }\n",
              "    60% {\n",
              "      border-color: transparent;\n",
              "      border-right-color: var(--fill-color);\n",
              "    }\n",
              "    80% {\n",
              "      border-color: transparent;\n",
              "      border-right-color: var(--fill-color);\n",
              "      border-bottom-color: var(--fill-color);\n",
              "    }\n",
              "    90% {\n",
              "      border-color: transparent;\n",
              "      border-bottom-color: var(--fill-color);\n",
              "    }\n",
              "  }\n",
              "</style>\n",
              "\n",
              "  <script>\n",
              "    async function quickchart(key) {\n",
              "      const quickchartButtonEl =\n",
              "        document.querySelector('#' + key + ' button');\n",
              "      quickchartButtonEl.disabled = true;  // To prevent multiple clicks.\n",
              "      quickchartButtonEl.classList.add('colab-df-spinner');\n",
              "      try {\n",
              "        const charts = await google.colab.kernel.invokeFunction(\n",
              "            'suggestCharts', [key], {});\n",
              "      } catch (error) {\n",
              "        console.error('Error during call to suggestCharts:', error);\n",
              "      }\n",
              "      quickchartButtonEl.classList.remove('colab-df-spinner');\n",
              "      quickchartButtonEl.classList.add('colab-df-quickchart-complete');\n",
              "    }\n",
              "    (() => {\n",
              "      let quickchartButtonEl =\n",
              "        document.querySelector('#df-e0a534ad-61e7-4e2e-b365-cd65c00e03ca button');\n",
              "      quickchartButtonEl.style.display =\n",
              "        google.colab.kernel.accessAllowed ? 'block' : 'none';\n",
              "    })();\n",
              "  </script>\n",
              "</div>\n",
              "    </div>\n",
              "  </div>\n"
            ]
          },
          "metadata": {},
          "execution_count": 4
        }
      ]
    },
    {
      "cell_type": "markdown",
      "source": [
        "<u><h4>3.Data Distribution"
      ],
      "metadata": {
        "id": "Q_zpiFJp5c0I"
      }
    },
    {
      "cell_type": "code",
      "source": [
        "# Plotting the counts of v1 (ham and spam)\n",
        "fig = px.histogram(df, x='v1',\n",
        "                   title=\"Class Distribution (Spam vs Ham)\",\n",
        "                   text_auto=True, # Afficher le nbr d'obs sur le graph\n",
        "                   )\n",
        "\n",
        "fig.update_layout(yaxis_title=\"Number of Observations\", # Titre de l'axe des ordonnées\n",
        "                  bargap=0.2, # Ajuster l'espacement entre les barres\n",
        "                  )\n",
        "\n",
        "fig.show()\n"
      ],
      "metadata": {
        "colab": {
          "base_uri": "https://localhost:8080/",
          "height": 542
        },
        "id": "G8TcWCGK6toC",
        "outputId": "c6d9c93f-8961-40b4-ceca-21b36d2c096e"
      },
      "execution_count": 5,
      "outputs": [
        {
          "output_type": "display_data",
          "data": {
            "text/html": [
              "<html>\n",
              "<head><meta charset=\"utf-8\" /></head>\n",
              "<body>\n",
              "    <div>            <script src=\"https://cdnjs.cloudflare.com/ajax/libs/mathjax/2.7.5/MathJax.js?config=TeX-AMS-MML_SVG\"></script><script type=\"text/javascript\">if (window.MathJax && window.MathJax.Hub && window.MathJax.Hub.Config) {window.MathJax.Hub.Config({SVG: {font: \"STIX-Web\"}});}</script>                <script type=\"text/javascript\">window.PlotlyConfig = {MathJaxConfig: 'local'};</script>\n",
              "        <script charset=\"utf-8\" src=\"https://cdn.plot.ly/plotly-2.24.1.min.js\"></script>                <div id=\"1abef969-143d-4ff0-9a74-6293771121bc\" class=\"plotly-graph-div\" style=\"height:525px; width:100%;\"></div>            <script type=\"text/javascript\">                                    window.PLOTLYENV=window.PLOTLYENV || {};                                    if (document.getElementById(\"1abef969-143d-4ff0-9a74-6293771121bc\")) {                    Plotly.newPlot(                        \"1abef969-143d-4ff0-9a74-6293771121bc\",                        [{\"alignmentgroup\":\"True\",\"bingroup\":\"x\",\"hovertemplate\":\"v1=%{x}\\u003cbr\\u003ecount=%{y}\\u003cextra\\u003e\\u003c\\u002fextra\\u003e\",\"legendgroup\":\"\",\"marker\":{\"color\":\"#636efa\",\"pattern\":{\"shape\":\"\"}},\"name\":\"\",\"offsetgroup\":\"\",\"orientation\":\"v\",\"showlegend\":false,\"texttemplate\":\"%{value}\",\"x\":[\"ham\",\"ham\",\"spam\",\"ham\",\"ham\",\"spam\",\"ham\",\"ham\",\"spam\",\"spam\",\"ham\",\"spam\",\"spam\",\"ham\",\"ham\",\"spam\",\"ham\",\"ham\",\"ham\",\"spam\",\"ham\",\"ham\",\"ham\",\"ham\",\"ham\",\"ham\",\"ham\",\"ham\",\"ham\",\"ham\",\"ham\",\"ham\",\"ham\",\"ham\",\"spam\",\"ham\",\"ham\",\"ham\",\"ham\",\"ham\",\"ham\",\"ham\",\"spam\",\"ham\",\"ham\",\"ham\",\"ham\",\"ham\",\"ham\",\"ham\",\"ham\",\"ham\",\"ham\",\"ham\",\"spam\",\"ham\",\"spam\",\"ham\",\"ham\",\"ham\",\"ham\",\"ham\",\"ham\",\"ham\",\"ham\",\"spam\",\"ham\",\"spam\",\"spam\",\"ham\",\"ham\",\"ham\",\"ham\",\"ham\",\"ham\",\"ham\",\"ham\",\"ham\",\"ham\",\"ham\",\"ham\",\"ham\",\"ham\",\"ham\",\"ham\",\"ham\",\"ham\",\"ham\",\"ham\",\"ham\",\"ham\",\"ham\",\"ham\",\"spam\",\"ham\",\"spam\",\"ham\",\"ham\",\"ham\",\"ham\",\"ham\",\"ham\",\"ham\",\"ham\",\"ham\",\"ham\",\"ham\",\"ham\",\"ham\",\"ham\",\"ham\",\"ham\",\"ham\",\"spam\",\"ham\",\"ham\",\"spam\",\"ham\",\"ham\",\"spam\",\"spam\",\"ham\",\"spam\",\"ham\",\"ham\",\"ham\",\"ham\",\"ham\",\"ham\",\"ham\",\"ham\",\"ham\",\"ham\",\"spam\",\"spam\",\"ham\",\"ham\",\"ham\",\"spam\",\"ham\",\"ham\",\"ham\",\"ham\",\"ham\",\"ham\",\"ham\",\"spam\",\"ham\",\"ham\",\"ham\",\"ham\",\"ham\",\"ham\",\"ham\",\"ham\",\"ham\",\"ham\",\"ham\",\"spam\",\"spam\",\"ham\",\"ham\",\"ham\",\"spam\",\"spam\",\"ham\",\"spam\",\"ham\",\"ham\",\"ham\",\"ham\",\"ham\",\"ham\",\"ham\",\"ham\",\"ham\",\"ham\",\"ham\",\"ham\",\"ham\",\"ham\",\"ham\",\"ham\",\"ham\",\"ham\",\"ham\",\"ham\",\"spam\",\"ham\",\"ham\",\"spam\",\"ham\",\"ham\",\"ham\",\"ham\",\"ham\",\"ham\",\"ham\",\"ham\",\"ham\",\"ham\",\"ham\",\"ham\",\"ham\",\"ham\",\"ham\",\"ham\",\"ham\",\"ham\",\"ham\",\"ham\",\"ham\",\"ham\",\"ham\",\"ham\",\"ham\",\"ham\",\"ham\",\"ham\",\"ham\",\"ham\",\"ham\",\"ham\",\"ham\",\"spam\",\"ham\",\"spam\",\"ham\",\"ham\",\"ham\",\"ham\",\"ham\",\"ham\",\"ham\",\"spam\",\"ham\",\"ham\",\"ham\",\"ham\",\"spam\",\"ham\",\"ham\",\"ham\",\"ham\",\"ham\",\"ham\",\"ham\",\"ham\",\"ham\",\"spam\",\"ham\",\"ham\",\"ham\",\"ham\",\"ham\",\"ham\",\"ham\",\"ham\",\"spam\",\"ham\",\"ham\",\"ham\",\"ham\",\"spam\",\"ham\",\"ham\",\"ham\",\"spam\",\"ham\",\"spam\",\"ham\",\"ham\",\"spam\",\"ham\",\"ham\",\"ham\",\"ham\",\"ham\",\"ham\",\"ham\",\"ham\",\"ham\",\"ham\",\"ham\",\"ham\",\"ham\",\"ham\",\"ham\",\"ham\",\"ham\",\"ham\",\"ham\",\"ham\",\"ham\",\"ham\",\"spam\",\"ham\",\"ham\",\"ham\",\"ham\",\"ham\",\"ham\",\"ham\",\"ham\",\"spam\",\"ham\",\"ham\",\"ham\",\"spam\",\"ham\",\"ham\",\"spam\",\"ham\",\"ham\",\"ham\",\"ham\",\"ham\",\"ham\",\"spam\",\"ham\",\"ham\",\"ham\",\"ham\",\"ham\",\"ham\",\"ham\",\"ham\",\"ham\",\"ham\",\"ham\",\"ham\",\"ham\",\"spam\",\"ham\",\"spam\",\"ham\",\"ham\",\"ham\",\"ham\",\"ham\",\"ham\",\"ham\",\"ham\",\"ham\",\"ham\",\"ham\",\"ham\",\"ham\",\"spam\",\"ham\",\"ham\",\"ham\",\"ham\",\"ham\",\"ham\",\"ham\",\"spam\",\"spam\",\"ham\",\"ham\",\"ham\",\"ham\",\"ham\",\"ham\",\"ham\",\"ham\",\"spam\",\"spam\",\"ham\",\"ham\",\"ham\",\"ham\",\"ham\",\"ham\",\"spam\",\"ham\",\"ham\",\"ham\",\"ham\",\"ham\",\"ham\",\"ham\",\"ham\",\"ham\",\"spam\",\"ham\",\"ham\",\"ham\",\"spam\",\"ham\",\"ham\",\"ham\",\"ham\",\"ham\",\"ham\",\"ham\",\"ham\",\"ham\",\"ham\",\"ham\",\"spam\",\"ham\",\"ham\",\"ham\",\"ham\",\"ham\",\"ham\",\"ham\",\"ham\",\"ham\",\"ham\",\"ham\",\"ham\",\"ham\",\"spam\",\"ham\",\"ham\",\"spam\",\"ham\",\"spam\",\"ham\",\"spam\",\"ham\",\"spam\",\"ham\",\"ham\",\"ham\",\"ham\",\"ham\",\"ham\",\"ham\",\"ham\",\"spam\",\"ham\",\"ham\",\"ham\",\"ham\",\"ham\",\"ham\",\"ham\",\"ham\",\"ham\",\"ham\",\"ham\",\"ham\",\"ham\",\"ham\",\"ham\",\"ham\",\"ham\",\"ham\",\"ham\",\"ham\",\"ham\",\"spam\",\"ham\",\"ham\",\"ham\",\"ham\",\"ham\",\"ham\",\"ham\",\"spam\",\"ham\",\"ham\",\"ham\",\"ham\",\"ham\",\"ham\",\"ham\",\"spam\",\"ham\",\"ham\",\"spam\",\"ham\",\"ham\",\"ham\",\"ham\",\"ham\",\"ham\",\"ham\",\"ham\",\"ham\",\"ham\",\"ham\",\"ham\",\"spam\",\"ham\",\"ham\",\"ham\",\"ham\",\"spam\",\"ham\",\"ham\",\"ham\",\"ham\",\"ham\",\"ham\",\"ham\",\"ham\",\"ham\",\"ham\",\"ham\",\"ham\",\"spam\",\"ham\",\"ham\",\"ham\",\"ham\",\"ham\",\"ham\",\"ham\",\"ham\",\"ham\",\"spam\",\"ham\",\"spam\",\"spam\",\"ham\",\"ham\",\"ham\",\"ham\",\"ham\",\"ham\",\"spam\",\"ham\",\"spam\",\"ham\",\"spam\",\"ham\",\"spam\",\"ham\",\"ham\",\"ham\",\"ham\",\"ham\",\"ham\",\"ham\",\"ham\",\"ham\",\"spam\",\"ham\",\"ham\",\"ham\",\"ham\",\"ham\",\"ham\",\"ham\",\"ham\",\"ham\",\"ham\",\"ham\",\"ham\",\"ham\",\"ham\",\"ham\",\"ham\",\"ham\",\"ham\",\"ham\",\"ham\",\"ham\",\"ham\",\"spam\",\"ham\",\"ham\",\"ham\",\"ham\",\"ham\",\"ham\",\"ham\",\"ham\",\"ham\",\"ham\",\"ham\",\"spam\",\"ham\",\"ham\",\"spam\",\"ham\",\"ham\",\"ham\",\"spam\",\"ham\",\"ham\",\"ham\",\"ham\",\"ham\",\"ham\",\"ham\",\"spam\",\"spam\",\"spam\",\"ham\",\"ham\",\"ham\",\"ham\",\"spam\",\"ham\",\"ham\",\"ham\",\"ham\",\"ham\",\"ham\",\"ham\",\"ham\",\"spam\",\"ham\",\"ham\",\"ham\",\"spam\",\"ham\",\"ham\",\"ham\",\"ham\",\"ham\",\"ham\",\"ham\",\"ham\",\"ham\",\"ham\",\"ham\",\"ham\",\"ham\",\"ham\",\"ham\",\"ham\",\"ham\",\"spam\",\"spam\",\"ham\",\"ham\",\"ham\",\"ham\",\"spam\",\"ham\",\"ham\",\"ham\",\"ham\",\"ham\",\"ham\",\"ham\",\"ham\",\"ham\",\"ham\",\"ham\",\"ham\",\"spam\",\"ham\",\"spam\",\"ham\",\"ham\",\"ham\",\"ham\",\"ham\",\"ham\",\"ham\",\"ham\",\"ham\",\"spam\",\"ham\",\"ham\",\"ham\",\"ham\",\"ham\",\"ham\",\"ham\",\"ham\",\"ham\",\"ham\",\"ham\",\"spam\",\"spam\",\"ham\",\"ham\",\"ham\",\"ham\",\"ham\",\"ham\",\"ham\",\"ham\",\"ham\",\"ham\",\"spam\",\"ham\",\"ham\",\"ham\",\"ham\",\"ham\",\"spam\",\"ham\",\"ham\",\"ham\",\"ham\",\"ham\",\"ham\",\"ham\",\"ham\",\"ham\",\"ham\",\"ham\",\"ham\",\"ham\",\"ham\",\"ham\",\"ham\",\"ham\",\"ham\",\"spam\",\"spam\",\"ham\",\"ham\",\"spam\",\"ham\",\"ham\",\"ham\",\"spam\",\"ham\",\"spam\",\"ham\",\"ham\",\"ham\",\"ham\",\"ham\",\"ham\",\"ham\",\"ham\",\"ham\",\"ham\",\"ham\",\"spam\",\"ham\",\"ham\",\"ham\",\"ham\",\"ham\",\"ham\",\"spam\",\"ham\",\"ham\",\"ham\",\"ham\",\"ham\",\"ham\",\"ham\",\"ham\",\"ham\",\"spam\",\"ham\",\"ham\",\"spam\",\"spam\",\"ham\",\"ham\",\"ham\",\"ham\",\"ham\",\"ham\",\"ham\",\"ham\",\"spam\",\"ham\",\"spam\",\"ham\",\"ham\",\"spam\",\"ham\",\"ham\",\"ham\",\"ham\",\"ham\",\"ham\",\"ham\",\"ham\",\"ham\",\"ham\",\"ham\",\"ham\",\"ham\",\"ham\",\"ham\",\"ham\",\"ham\",\"spam\",\"ham\",\"ham\",\"ham\",\"spam\",\"spam\",\"ham\",\"ham\",\"ham\",\"ham\",\"ham\",\"ham\",\"ham\",\"spam\",\"ham\",\"ham\",\"ham\",\"spam\",\"ham\",\"spam\",\"spam\",\"ham\",\"ham\",\"ham\",\"ham\",\"ham\",\"ham\",\"ham\",\"ham\",\"spam\",\"ham\",\"spam\",\"ham\",\"ham\",\"ham\",\"ham\",\"ham\",\"ham\",\"ham\",\"spam\",\"spam\",\"ham\",\"ham\",\"ham\",\"ham\",\"ham\",\"ham\",\"spam\",\"ham\",\"spam\",\"ham\",\"ham\",\"ham\",\"spam\",\"ham\",\"spam\",\"spam\",\"ham\",\"ham\",\"ham\",\"spam\",\"ham\",\"ham\",\"ham\",\"ham\",\"ham\",\"spam\",\"ham\",\"ham\",\"ham\",\"ham\",\"ham\",\"spam\",\"ham\",\"ham\",\"ham\",\"ham\",\"ham\",\"ham\",\"ham\",\"ham\",\"ham\",\"spam\",\"ham\",\"spam\",\"spam\",\"spam\",\"ham\",\"ham\",\"ham\",\"ham\",\"ham\",\"spam\",\"ham\",\"spam\",\"spam\",\"spam\",\"spam\",\"ham\",\"ham\",\"ham\",\"ham\",\"ham\",\"ham\",\"ham\",\"ham\",\"ham\",\"ham\",\"ham\",\"ham\",\"ham\",\"ham\",\"ham\",\"ham\",\"ham\",\"ham\",\"spam\",\"ham\",\"ham\",\"ham\",\"ham\",\"ham\",\"ham\",\"spam\",\"ham\",\"ham\",\"spam\",\"ham\",\"ham\",\"ham\",\"ham\",\"ham\",\"ham\",\"ham\",\"ham\",\"ham\",\"ham\",\"ham\",\"ham\",\"ham\",\"ham\",\"ham\",\"ham\",\"ham\",\"ham\",\"ham\",\"spam\",\"ham\",\"ham\",\"ham\",\"ham\",\"spam\",\"ham\",\"ham\",\"ham\",\"spam\",\"ham\",\"ham\",\"ham\",\"spam\",\"ham\",\"ham\",\"ham\",\"spam\",\"ham\",\"ham\",\"ham\",\"ham\",\"ham\",\"ham\",\"ham\",\"spam\",\"ham\",\"ham\",\"ham\",\"ham\",\"ham\",\"ham\",\"spam\",\"ham\",\"ham\",\"ham\",\"ham\",\"ham\",\"ham\",\"ham\",\"ham\",\"ham\",\"ham\",\"ham\",\"ham\",\"ham\",\"ham\",\"ham\",\"ham\",\"ham\",\"ham\",\"ham\",\"ham\",\"spam\",\"ham\",\"ham\",\"ham\",\"ham\",\"ham\",\"ham\",\"ham\",\"ham\",\"ham\",\"ham\",\"ham\",\"ham\",\"ham\",\"ham\",\"ham\",\"ham\",\"ham\",\"ham\",\"spam\",\"ham\",\"ham\",\"ham\",\"ham\",\"spam\",\"ham\",\"ham\",\"ham\",\"ham\",\"ham\",\"ham\",\"ham\",\"ham\",\"ham\",\"spam\",\"ham\",\"ham\",\"ham\",\"ham\",\"spam\",\"ham\",\"ham\",\"ham\",\"ham\",\"ham\",\"ham\",\"ham\",\"ham\",\"ham\",\"ham\",\"ham\",\"ham\",\"ham\",\"ham\",\"ham\",\"ham\",\"ham\",\"ham\",\"ham\",\"ham\",\"ham\",\"ham\",\"spam\",\"ham\",\"ham\",\"spam\",\"ham\",\"spam\",\"ham\",\"ham\",\"ham\",\"ham\",\"ham\",\"ham\",\"ham\",\"ham\",\"ham\",\"spam\",\"ham\",\"ham\",\"ham\",\"spam\",\"ham\",\"ham\",\"ham\",\"ham\",\"spam\",\"ham\",\"ham\",\"spam\",\"spam\",\"ham\",\"ham\",\"ham\",\"ham\",\"ham\",\"ham\",\"ham\",\"ham\",\"ham\",\"ham\",\"ham\",\"ham\",\"ham\",\"ham\",\"ham\",\"spam\",\"ham\",\"spam\",\"ham\",\"ham\",\"ham\",\"ham\",\"ham\",\"spam\",\"ham\",\"ham\",\"ham\",\"ham\",\"ham\",\"ham\",\"ham\",\"spam\",\"ham\",\"ham\",\"ham\",\"ham\",\"ham\",\"ham\",\"ham\",\"ham\",\"ham\",\"ham\",\"ham\",\"ham\",\"spam\",\"ham\",\"spam\",\"ham\",\"spam\",\"ham\",\"ham\",\"ham\",\"spam\",\"ham\",\"ham\",\"spam\",\"ham\",\"ham\",\"ham\",\"ham\",\"ham\",\"ham\",\"ham\",\"spam\",\"ham\",\"ham\",\"ham\",\"ham\",\"spam\",\"ham\",\"ham\",\"ham\",\"spam\",\"ham\",\"ham\",\"ham\",\"ham\",\"ham\",\"ham\",\"ham\",\"spam\",\"ham\",\"ham\",\"ham\",\"ham\",\"ham\",\"ham\",\"ham\",\"ham\",\"spam\",\"ham\",\"ham\",\"ham\",\"ham\",\"ham\",\"ham\",\"ham\",\"ham\",\"spam\",\"ham\",\"ham\",\"ham\",\"ham\",\"ham\",\"ham\",\"ham\",\"ham\",\"ham\",\"ham\",\"ham\",\"ham\",\"ham\",\"ham\",\"ham\",\"ham\",\"ham\",\"ham\",\"ham\",\"ham\",\"ham\",\"spam\",\"ham\",\"spam\",\"ham\",\"ham\",\"ham\",\"ham\",\"ham\",\"ham\",\"ham\",\"ham\",\"spam\",\"ham\",\"spam\",\"ham\",\"ham\",\"ham\",\"ham\",\"ham\",\"ham\",\"ham\",\"ham\",\"ham\",\"spam\",\"ham\",\"ham\",\"ham\",\"spam\",\"ham\",\"ham\",\"ham\",\"spam\",\"ham\",\"spam\",\"ham\",\"spam\",\"ham\",\"ham\",\"ham\",\"ham\",\"ham\",\"ham\",\"ham\",\"ham\",\"ham\",\"ham\",\"ham\",\"ham\",\"ham\",\"ham\",\"ham\",\"ham\",\"ham\",\"ham\",\"ham\",\"ham\",\"ham\",\"ham\",\"spam\",\"ham\",\"ham\",\"ham\",\"ham\",\"ham\",\"ham\",\"ham\",\"ham\",\"ham\",\"ham\",\"spam\",\"ham\",\"ham\",\"ham\",\"ham\",\"ham\",\"spam\",\"ham\",\"ham\",\"ham\",\"ham\",\"spam\",\"ham\",\"ham\",\"ham\",\"ham\",\"ham\",\"ham\",\"ham\",\"ham\",\"ham\",\"ham\",\"ham\",\"ham\",\"ham\",\"ham\",\"ham\",\"ham\",\"ham\",\"ham\",\"ham\",\"ham\",\"ham\",\"ham\",\"ham\",\"ham\",\"ham\",\"ham\",\"ham\",\"ham\",\"ham\",\"ham\",\"ham\",\"ham\",\"spam\",\"spam\",\"ham\",\"ham\",\"ham\",\"ham\",\"ham\",\"ham\",\"ham\",\"ham\",\"ham\",\"spam\",\"ham\",\"ham\",\"ham\",\"ham\",\"ham\",\"ham\",\"ham\",\"ham\",\"ham\",\"spam\",\"ham\",\"ham\",\"ham\",\"ham\",\"ham\",\"ham\",\"ham\",\"ham\",\"ham\",\"ham\",\"ham\",\"ham\",\"ham\",\"ham\",\"ham\",\"ham\",\"ham\",\"ham\",\"ham\",\"ham\",\"ham\",\"spam\",\"ham\",\"ham\",\"ham\",\"ham\",\"ham\",\"ham\",\"ham\",\"ham\",\"ham\",\"ham\",\"ham\",\"ham\",\"ham\",\"ham\",\"ham\",\"spam\",\"ham\",\"ham\",\"ham\",\"ham\",\"ham\",\"ham\",\"ham\",\"spam\",\"spam\",\"ham\",\"ham\",\"spam\",\"ham\",\"spam\",\"ham\",\"ham\",\"ham\",\"ham\",\"ham\",\"ham\",\"ham\",\"ham\",\"ham\",\"ham\",\"ham\",\"ham\",\"ham\",\"ham\",\"ham\",\"ham\",\"ham\",\"ham\",\"ham\",\"ham\",\"ham\",\"ham\",\"ham\",\"ham\",\"ham\",\"ham\",\"spam\",\"ham\",\"ham\",\"ham\",\"ham\",\"ham\",\"ham\",\"spam\",\"ham\",\"ham\",\"ham\",\"ham\",\"ham\",\"ham\",\"ham\",\"ham\",\"spam\",\"ham\",\"ham\",\"ham\",\"ham\",\"ham\",\"ham\",\"spam\",\"ham\",\"ham\",\"ham\",\"ham\",\"ham\",\"ham\",\"ham\",\"ham\",\"ham\",\"ham\",\"ham\",\"ham\",\"ham\",\"spam\",\"ham\",\"ham\",\"ham\",\"ham\",\"spam\",\"ham\",\"ham\",\"ham\",\"ham\",\"ham\",\"ham\",\"spam\",\"ham\",\"spam\",\"ham\",\"spam\",\"ham\",\"ham\",\"spam\",\"ham\",\"ham\",\"spam\",\"ham\",\"ham\",\"spam\",\"ham\",\"ham\",\"ham\",\"ham\",\"ham\",\"ham\",\"ham\",\"ham\",\"ham\",\"ham\",\"ham\",\"ham\",\"ham\",\"ham\",\"ham\",\"ham\",\"ham\",\"ham\",\"ham\",\"ham\",\"ham\",\"ham\",\"spam\",\"ham\",\"ham\",\"ham\",\"ham\",\"ham\",\"ham\",\"ham\",\"spam\",\"ham\",\"spam\",\"ham\",\"ham\",\"ham\",\"ham\",\"spam\",\"ham\",\"ham\",\"ham\",\"ham\",\"ham\",\"ham\",\"ham\",\"ham\",\"ham\",\"ham\",\"spam\",\"ham\",\"ham\",\"spam\",\"ham\",\"ham\",\"ham\",\"ham\",\"ham\",\"ham\",\"ham\",\"ham\",\"ham\",\"ham\",\"ham\",\"ham\",\"ham\",\"ham\",\"spam\",\"ham\",\"ham\",\"ham\",\"ham\",\"ham\",\"ham\",\"ham\",\"spam\",\"ham\",\"ham\",\"ham\",\"ham\",\"ham\",\"ham\",\"ham\",\"ham\",\"ham\",\"ham\",\"ham\",\"ham\",\"ham\",\"ham\",\"ham\",\"ham\",\"ham\",\"ham\",\"ham\",\"ham\",\"ham\",\"ham\",\"ham\",\"ham\",\"ham\",\"ham\",\"ham\",\"ham\",\"spam\",\"spam\",\"ham\",\"ham\",\"ham\",\"ham\",\"ham\",\"ham\",\"ham\",\"ham\",\"ham\",\"ham\",\"ham\",\"ham\",\"ham\",\"ham\",\"ham\",\"ham\",\"ham\",\"ham\",\"ham\",\"spam\",\"ham\",\"ham\",\"spam\",\"spam\",\"ham\",\"ham\",\"ham\",\"ham\",\"ham\",\"ham\",\"ham\",\"ham\",\"ham\",\"ham\",\"ham\",\"ham\",\"ham\",\"ham\",\"spam\",\"ham\",\"ham\",\"ham\",\"ham\",\"ham\",\"ham\",\"ham\",\"ham\",\"ham\",\"spam\",\"ham\",\"spam\",\"ham\",\"ham\",\"spam\",\"ham\",\"ham\",\"ham\",\"ham\",\"ham\",\"ham\",\"spam\",\"ham\",\"ham\",\"spam\",\"ham\",\"spam\",\"ham\",\"ham\",\"ham\",\"ham\",\"ham\",\"ham\",\"ham\",\"ham\",\"ham\",\"ham\",\"ham\",\"ham\",\"spam\",\"ham\",\"ham\",\"ham\",\"ham\",\"ham\",\"spam\",\"ham\",\"ham\",\"ham\",\"spam\",\"ham\",\"ham\",\"ham\",\"ham\",\"ham\",\"ham\",\"ham\",\"ham\",\"ham\",\"spam\",\"spam\",\"ham\",\"ham\",\"ham\",\"ham\",\"ham\",\"ham\",\"ham\",\"ham\",\"ham\",\"ham\",\"ham\",\"ham\",\"spam\",\"spam\",\"ham\",\"ham\",\"spam\",\"ham\",\"ham\",\"ham\",\"ham\",\"ham\",\"ham\",\"ham\",\"spam\",\"ham\",\"ham\",\"ham\",\"ham\",\"ham\",\"ham\",\"ham\",\"ham\",\"ham\",\"ham\",\"ham\",\"ham\",\"ham\",\"ham\",\"spam\",\"ham\",\"ham\",\"ham\",\"spam\",\"ham\",\"ham\",\"ham\",\"ham\",\"ham\",\"ham\",\"ham\",\"ham\",\"ham\",\"ham\",\"ham\",\"ham\",\"ham\",\"ham\",\"ham\",\"spam\",\"ham\",\"ham\",\"ham\",\"ham\",\"ham\",\"ham\",\"spam\",\"ham\",\"ham\",\"ham\",\"spam\",\"ham\",\"ham\",\"ham\",\"ham\",\"ham\",\"ham\",\"ham\",\"ham\",\"ham\",\"ham\",\"ham\",\"ham\",\"ham\",\"ham\",\"ham\",\"ham\",\"ham\",\"ham\",\"ham\",\"spam\",\"ham\",\"spam\",\"ham\",\"ham\",\"ham\",\"ham\",\"ham\",\"ham\",\"ham\",\"ham\",\"ham\",\"spam\",\"spam\",\"ham\",\"spam\",\"spam\",\"ham\",\"ham\",\"ham\",\"ham\",\"ham\",\"ham\",\"ham\",\"ham\",\"ham\",\"ham\",\"ham\",\"spam\",\"ham\",\"ham\",\"ham\",\"ham\",\"ham\",\"ham\",\"ham\",\"ham\",\"ham\",\"ham\",\"ham\",\"ham\",\"ham\",\"spam\",\"ham\",\"ham\",\"ham\",\"ham\",\"ham\",\"ham\",\"ham\",\"ham\",\"ham\",\"ham\",\"ham\",\"ham\",\"ham\",\"ham\",\"ham\",\"ham\",\"ham\",\"ham\",\"ham\",\"ham\",\"ham\",\"ham\",\"spam\",\"ham\",\"ham\",\"ham\",\"ham\",\"ham\",\"ham\",\"ham\",\"ham\",\"spam\",\"ham\",\"ham\",\"ham\",\"ham\",\"ham\",\"ham\",\"ham\",\"ham\",\"spam\",\"ham\",\"ham\",\"ham\",\"ham\",\"spam\",\"ham\",\"ham\",\"ham\",\"ham\",\"ham\",\"ham\",\"ham\",\"ham\",\"ham\",\"ham\",\"ham\",\"ham\",\"ham\",\"ham\",\"ham\",\"ham\",\"ham\",\"ham\",\"ham\",\"ham\",\"spam\",\"spam\",\"spam\",\"ham\",\"ham\",\"ham\",\"spam\",\"ham\",\"ham\",\"ham\",\"ham\",\"ham\",\"ham\",\"spam\",\"spam\",\"ham\",\"ham\",\"ham\",\"ham\",\"spam\",\"ham\",\"spam\",\"ham\",\"ham\",\"ham\",\"ham\",\"ham\",\"ham\",\"ham\",\"ham\",\"spam\",\"ham\",\"ham\",\"ham\",\"ham\",\"ham\",\"ham\",\"ham\",\"ham\",\"ham\",\"ham\",\"spam\",\"ham\",\"ham\",\"ham\",\"ham\",\"ham\",\"ham\",\"ham\",\"ham\",\"ham\",\"ham\",\"ham\",\"ham\",\"ham\",\"spam\",\"spam\",\"ham\",\"ham\",\"ham\",\"ham\",\"ham\",\"ham\",\"ham\",\"ham\",\"ham\",\"spam\",\"ham\",\"spam\",\"ham\",\"ham\",\"ham\",\"ham\",\"ham\",\"ham\",\"ham\",\"ham\",\"ham\",\"ham\",\"ham\",\"ham\",\"ham\",\"ham\",\"ham\",\"ham\",\"ham\",\"ham\",\"spam\",\"ham\",\"spam\",\"ham\",\"ham\",\"ham\",\"ham\",\"ham\",\"ham\",\"spam\",\"ham\",\"ham\",\"ham\",\"ham\",\"ham\",\"ham\",\"ham\",\"spam\",\"ham\",\"ham\",\"ham\",\"ham\",\"ham\",\"ham\",\"spam\",\"ham\",\"ham\",\"ham\",\"ham\",\"ham\",\"ham\",\"ham\",\"spam\",\"ham\",\"ham\",\"ham\",\"ham\",\"ham\",\"ham\",\"ham\",\"ham\",\"ham\",\"spam\",\"ham\",\"ham\",\"ham\",\"ham\",\"ham\",\"ham\",\"ham\",\"ham\",\"ham\",\"ham\",\"spam\",\"ham\",\"ham\",\"ham\",\"ham\",\"ham\",\"ham\",\"ham\",\"ham\",\"spam\",\"ham\",\"ham\",\"ham\",\"ham\",\"ham\",\"ham\",\"ham\",\"ham\",\"ham\",\"ham\",\"ham\",\"ham\",\"ham\",\"ham\",\"ham\",\"ham\",\"ham\",\"ham\",\"ham\",\"ham\",\"spam\",\"ham\",\"ham\",\"ham\",\"ham\",\"ham\",\"ham\",\"ham\",\"ham\",\"spam\",\"ham\",\"ham\",\"ham\",\"ham\",\"ham\",\"ham\",\"ham\",\"ham\",\"ham\",\"ham\",\"spam\",\"ham\",\"ham\",\"ham\",\"ham\",\"ham\",\"spam\",\"spam\",\"ham\",\"ham\",\"spam\",\"ham\",\"ham\",\"ham\",\"ham\",\"spam\",\"ham\",\"ham\",\"ham\",\"ham\",\"ham\",\"ham\",\"ham\",\"ham\",\"ham\",\"spam\",\"ham\",\"ham\",\"ham\",\"ham\",\"spam\",\"spam\",\"ham\",\"ham\",\"ham\",\"ham\",\"spam\",\"ham\",\"ham\",\"ham\",\"ham\",\"ham\",\"ham\",\"ham\",\"ham\",\"spam\",\"ham\",\"ham\",\"ham\",\"spam\",\"ham\",\"spam\",\"ham\",\"ham\",\"ham\",\"spam\",\"ham\",\"ham\",\"ham\",\"ham\",\"spam\",\"ham\",\"ham\",\"ham\",\"ham\",\"ham\",\"ham\",\"ham\",\"ham\",\"spam\",\"ham\",\"ham\",\"ham\",\"ham\",\"ham\",\"ham\",\"ham\",\"ham\",\"ham\",\"ham\",\"ham\",\"spam\",\"spam\",\"ham\",\"ham\",\"ham\",\"ham\",\"ham\",\"ham\",\"ham\",\"ham\",\"ham\",\"ham\",\"ham\",\"ham\",\"ham\",\"spam\",\"ham\",\"ham\",\"ham\",\"ham\",\"ham\",\"ham\",\"ham\",\"ham\",\"ham\",\"spam\",\"ham\",\"ham\",\"ham\",\"ham\",\"ham\",\"ham\",\"ham\",\"ham\",\"ham\",\"ham\",\"ham\",\"ham\",\"ham\",\"ham\",\"ham\",\"ham\",\"ham\",\"ham\",\"spam\",\"ham\",\"ham\",\"ham\",\"ham\",\"ham\",\"ham\",\"ham\",\"ham\",\"ham\",\"ham\",\"ham\",\"ham\",\"ham\",\"ham\",\"ham\",\"ham\",\"ham\",\"spam\",\"ham\",\"spam\",\"ham\",\"ham\",\"ham\",\"ham\",\"ham\",\"ham\",\"ham\",\"ham\",\"ham\",\"ham\",\"spam\",\"ham\",\"ham\",\"ham\",\"spam\",\"ham\",\"ham\",\"ham\",\"ham\",\"ham\",\"ham\",\"ham\",\"ham\",\"ham\",\"ham\",\"ham\",\"ham\",\"ham\",\"ham\",\"ham\",\"ham\",\"ham\",\"ham\",\"ham\",\"ham\",\"ham\",\"ham\",\"spam\",\"spam\",\"ham\",\"spam\",\"ham\",\"ham\",\"ham\",\"ham\",\"ham\",\"ham\",\"ham\",\"ham\",\"ham\",\"ham\",\"spam\",\"ham\",\"ham\",\"spam\",\"ham\",\"ham\",\"spam\",\"ham\",\"spam\",\"ham\",\"ham\",\"ham\",\"ham\",\"ham\",\"ham\",\"ham\",\"ham\",\"ham\",\"ham\",\"ham\",\"ham\",\"ham\",\"ham\",\"ham\",\"ham\",\"ham\",\"ham\",\"ham\",\"ham\",\"spam\",\"ham\",\"ham\",\"ham\",\"ham\",\"spam\",\"ham\",\"spam\",\"ham\",\"ham\",\"spam\",\"ham\",\"ham\",\"ham\",\"ham\",\"ham\",\"ham\",\"ham\",\"spam\",\"spam\",\"ham\",\"spam\",\"spam\",\"spam\",\"ham\",\"ham\",\"ham\",\"ham\",\"ham\",\"ham\",\"ham\",\"ham\",\"ham\",\"ham\",\"ham\",\"ham\",\"ham\",\"ham\",\"spam\",\"ham\",\"ham\",\"ham\",\"ham\",\"ham\",\"ham\",\"ham\",\"ham\",\"ham\",\"ham\",\"ham\",\"ham\",\"ham\",\"ham\",\"spam\",\"ham\",\"ham\",\"ham\",\"ham\",\"ham\",\"ham\",\"ham\",\"ham\",\"spam\",\"ham\",\"spam\",\"ham\",\"ham\",\"ham\",\"ham\",\"ham\",\"spam\",\"ham\",\"ham\",\"ham\",\"spam\",\"ham\",\"ham\",\"spam\",\"ham\",\"ham\",\"ham\",\"ham\",\"ham\",\"ham\",\"spam\",\"ham\",\"ham\",\"ham\",\"spam\",\"ham\",\"ham\",\"ham\",\"ham\",\"ham\",\"ham\",\"ham\",\"spam\",\"ham\",\"ham\",\"ham\",\"ham\",\"ham\",\"ham\",\"ham\",\"ham\",\"ham\",\"ham\",\"ham\",\"ham\",\"ham\",\"ham\",\"ham\",\"spam\",\"ham\",\"ham\",\"ham\",\"ham\",\"ham\",\"ham\",\"ham\",\"ham\",\"ham\",\"ham\",\"spam\",\"ham\",\"ham\",\"ham\",\"ham\",\"ham\",\"ham\",\"spam\",\"ham\",\"ham\",\"ham\",\"ham\",\"ham\",\"ham\",\"spam\",\"ham\",\"ham\",\"spam\",\"ham\",\"ham\",\"ham\",\"ham\",\"ham\",\"ham\",\"ham\",\"spam\",\"ham\",\"ham\",\"ham\",\"ham\",\"ham\",\"ham\",\"ham\",\"ham\",\"ham\",\"ham\",\"ham\",\"ham\",\"ham\",\"ham\",\"ham\",\"ham\",\"ham\",\"ham\",\"ham\",\"ham\",\"ham\",\"ham\",\"ham\",\"ham\",\"ham\",\"ham\",\"ham\",\"ham\",\"ham\",\"ham\",\"ham\",\"ham\",\"ham\",\"ham\",\"spam\",\"ham\",\"ham\",\"ham\",\"ham\",\"ham\",\"ham\",\"spam\",\"spam\",\"ham\",\"ham\",\"ham\",\"ham\",\"ham\",\"ham\",\"ham\",\"ham\",\"ham\",\"ham\",\"ham\",\"ham\",\"ham\",\"ham\",\"spam\",\"ham\",\"ham\",\"ham\",\"ham\",\"ham\",\"ham\",\"ham\",\"ham\",\"ham\",\"ham\",\"ham\",\"ham\",\"ham\",\"ham\",\"ham\",\"ham\",\"ham\",\"spam\",\"ham\",\"ham\",\"ham\",\"ham\",\"ham\",\"ham\",\"ham\",\"ham\",\"ham\",\"ham\",\"spam\",\"ham\",\"ham\",\"ham\",\"ham\",\"ham\",\"ham\",\"ham\",\"ham\",\"ham\",\"ham\",\"ham\",\"ham\",\"ham\",\"ham\",\"ham\",\"ham\",\"ham\",\"ham\",\"ham\",\"ham\",\"ham\",\"ham\",\"spam\",\"ham\",\"ham\",\"ham\",\"ham\",\"ham\",\"ham\",\"ham\",\"spam\",\"ham\",\"spam\",\"ham\",\"ham\",\"ham\",\"ham\",\"ham\",\"ham\",\"ham\",\"ham\",\"ham\",\"ham\",\"ham\",\"ham\",\"ham\",\"ham\",\"ham\",\"spam\",\"spam\",\"ham\",\"ham\",\"ham\",\"ham\",\"ham\",\"spam\",\"ham\",\"spam\",\"ham\",\"ham\",\"ham\",\"ham\",\"ham\",\"ham\",\"spam\",\"ham\",\"ham\",\"ham\",\"ham\",\"ham\",\"spam\",\"ham\",\"ham\",\"ham\",\"ham\",\"ham\",\"ham\",\"ham\",\"ham\",\"ham\",\"ham\",\"ham\",\"ham\",\"ham\",\"ham\",\"ham\",\"spam\",\"ham\",\"ham\",\"ham\",\"ham\",\"ham\",\"ham\",\"ham\",\"spam\",\"ham\",\"ham\",\"ham\",\"ham\",\"ham\",\"spam\",\"ham\",\"ham\",\"ham\",\"ham\",\"ham\",\"spam\",\"ham\",\"ham\",\"ham\",\"ham\",\"ham\",\"ham\",\"ham\",\"ham\",\"ham\",\"spam\",\"ham\",\"ham\",\"ham\",\"ham\",\"ham\",\"ham\",\"ham\",\"ham\",\"ham\",\"ham\",\"ham\",\"ham\",\"ham\",\"ham\",\"ham\",\"ham\",\"ham\",\"ham\",\"ham\",\"ham\",\"spam\",\"spam\",\"ham\",\"ham\",\"ham\",\"ham\",\"spam\",\"spam\",\"ham\",\"ham\",\"ham\",\"ham\",\"ham\",\"ham\",\"ham\",\"ham\",\"ham\",\"spam\",\"ham\",\"ham\",\"ham\",\"ham\",\"ham\",\"spam\",\"ham\",\"ham\",\"ham\",\"ham\",\"spam\",\"ham\",\"spam\",\"ham\",\"ham\",\"ham\",\"ham\",\"ham\",\"spam\",\"ham\",\"ham\",\"ham\",\"ham\",\"ham\",\"spam\",\"ham\",\"ham\",\"spam\",\"ham\",\"ham\",\"spam\",\"ham\",\"ham\",\"ham\",\"ham\",\"ham\",\"ham\",\"ham\",\"spam\",\"ham\",\"ham\",\"ham\",\"ham\",\"ham\",\"ham\",\"ham\",\"ham\",\"ham\",\"spam\",\"spam\",\"ham\",\"ham\",\"ham\",\"ham\",\"ham\",\"ham\",\"ham\",\"ham\",\"ham\",\"ham\",\"ham\",\"spam\",\"ham\",\"ham\",\"ham\",\"ham\",\"ham\",\"ham\",\"ham\",\"ham\",\"ham\",\"ham\",\"ham\",\"ham\",\"ham\",\"ham\",\"ham\",\"ham\",\"ham\",\"ham\",\"ham\",\"ham\",\"ham\",\"ham\",\"ham\",\"ham\",\"spam\",\"ham\",\"ham\",\"spam\",\"ham\",\"ham\",\"ham\",\"spam\",\"ham\",\"ham\",\"ham\",\"ham\",\"spam\",\"ham\",\"ham\",\"ham\",\"ham\",\"ham\",\"ham\",\"ham\",\"ham\",\"ham\",\"ham\",\"ham\",\"spam\",\"ham\",\"ham\",\"ham\",\"ham\",\"ham\",\"ham\",\"ham\",\"ham\",\"ham\",\"ham\",\"ham\",\"spam\",\"ham\",\"ham\",\"ham\",\"spam\",\"ham\",\"ham\",\"ham\",\"ham\",\"ham\",\"ham\",\"ham\",\"ham\",\"ham\",\"spam\",\"ham\",\"ham\",\"spam\",\"ham\",\"spam\",\"ham\",\"ham\",\"spam\",\"ham\",\"ham\",\"ham\",\"spam\",\"ham\",\"ham\",\"ham\",\"spam\",\"ham\",\"ham\",\"ham\",\"ham\",\"ham\",\"ham\",\"ham\",\"ham\",\"ham\",\"ham\",\"ham\",\"ham\",\"ham\",\"spam\",\"ham\",\"spam\",\"ham\",\"ham\",\"ham\",\"ham\",\"ham\",\"ham\",\"ham\",\"ham\",\"ham\",\"ham\",\"ham\",\"ham\",\"spam\",\"ham\",\"ham\",\"ham\",\"ham\",\"ham\",\"ham\",\"ham\",\"spam\",\"ham\",\"ham\",\"ham\",\"ham\",\"ham\",\"ham\",\"ham\",\"spam\",\"ham\",\"spam\",\"ham\",\"ham\",\"ham\",\"ham\",\"ham\",\"ham\",\"ham\",\"ham\",\"ham\",\"ham\",\"ham\",\"ham\",\"ham\",\"ham\",\"ham\",\"spam\",\"ham\",\"ham\",\"ham\",\"ham\",\"spam\",\"ham\",\"ham\",\"ham\",\"ham\",\"ham\",\"ham\",\"ham\",\"spam\",\"ham\",\"ham\",\"ham\",\"ham\",\"spam\",\"ham\",\"ham\",\"ham\",\"ham\",\"ham\",\"ham\",\"ham\",\"ham\",\"ham\",\"ham\",\"ham\",\"ham\",\"ham\",\"ham\",\"ham\",\"ham\",\"ham\",\"ham\",\"ham\",\"ham\",\"ham\",\"ham\",\"ham\",\"ham\",\"ham\",\"spam\",\"ham\",\"ham\",\"ham\",\"spam\",\"ham\",\"ham\",\"ham\",\"ham\",\"ham\",\"ham\",\"ham\",\"ham\",\"spam\",\"ham\",\"ham\",\"ham\",\"ham\",\"spam\",\"ham\",\"ham\",\"ham\",\"ham\",\"ham\",\"spam\",\"ham\",\"ham\",\"ham\",\"ham\",\"ham\",\"ham\",\"ham\",\"ham\",\"ham\",\"ham\",\"ham\",\"ham\",\"ham\",\"ham\",\"spam\",\"ham\",\"ham\",\"ham\",\"ham\",\"ham\",\"ham\",\"spam\",\"ham\",\"ham\",\"spam\",\"ham\",\"spam\",\"ham\",\"ham\",\"ham\",\"ham\",\"ham\",\"ham\",\"ham\",\"ham\",\"ham\",\"spam\",\"ham\",\"ham\",\"spam\",\"ham\",\"ham\",\"ham\",\"spam\",\"spam\",\"ham\",\"ham\",\"ham\",\"spam\",\"ham\",\"ham\",\"ham\",\"ham\",\"ham\",\"ham\",\"ham\",\"ham\",\"ham\",\"ham\",\"ham\",\"ham\",\"ham\",\"ham\",\"ham\",\"ham\",\"ham\",\"ham\",\"ham\",\"ham\",\"ham\",\"ham\",\"ham\",\"ham\",\"ham\",\"ham\",\"ham\",\"ham\",\"ham\",\"ham\",\"ham\",\"ham\",\"ham\",\"ham\",\"ham\",\"ham\",\"ham\",\"ham\",\"ham\",\"ham\",\"ham\",\"spam\",\"ham\",\"ham\",\"spam\",\"ham\",\"ham\",\"ham\",\"ham\",\"spam\",\"ham\",\"ham\",\"spam\",\"ham\",\"ham\",\"ham\",\"ham\",\"ham\",\"ham\",\"ham\",\"ham\",\"ham\",\"ham\",\"ham\",\"ham\",\"ham\",\"ham\",\"ham\",\"ham\",\"ham\",\"ham\",\"ham\",\"ham\",\"ham\",\"ham\",\"ham\",\"ham\",\"spam\",\"ham\",\"ham\",\"ham\",\"ham\",\"ham\",\"ham\",\"ham\",\"ham\",\"ham\",\"ham\",\"ham\",\"ham\",\"ham\",\"ham\",\"ham\",\"ham\",\"ham\",\"ham\",\"spam\",\"ham\",\"ham\",\"ham\",\"ham\",\"ham\",\"ham\",\"ham\",\"ham\",\"ham\",\"ham\",\"ham\",\"spam\",\"ham\",\"ham\",\"spam\",\"ham\",\"ham\",\"ham\",\"ham\",\"ham\",\"spam\",\"ham\",\"ham\",\"ham\",\"ham\",\"ham\",\"ham\",\"ham\",\"ham\",\"spam\",\"ham\",\"ham\",\"ham\",\"ham\",\"ham\",\"ham\",\"ham\",\"ham\",\"ham\",\"ham\",\"ham\",\"spam\",\"ham\",\"spam\",\"ham\",\"ham\",\"ham\",\"ham\",\"ham\",\"ham\",\"ham\",\"ham\",\"spam\",\"ham\",\"ham\",\"spam\",\"ham\",\"ham\",\"ham\",\"ham\",\"ham\",\"ham\",\"spam\",\"ham\",\"spam\",\"ham\",\"ham\",\"ham\",\"ham\",\"ham\",\"ham\",\"ham\",\"ham\",\"ham\",\"ham\",\"ham\",\"ham\",\"spam\",\"ham\",\"ham\",\"spam\",\"ham\",\"ham\",\"ham\",\"ham\",\"ham\",\"ham\",\"ham\",\"ham\",\"ham\",\"ham\",\"ham\",\"ham\",\"ham\",\"ham\",\"ham\",\"ham\",\"ham\",\"ham\",\"ham\",\"ham\",\"ham\",\"ham\",\"ham\",\"ham\",\"spam\",\"ham\",\"ham\",\"ham\",\"ham\",\"spam\",\"ham\",\"ham\",\"ham\",\"ham\",\"ham\",\"ham\",\"spam\",\"spam\",\"ham\",\"ham\",\"ham\",\"ham\",\"ham\",\"ham\",\"ham\",\"ham\",\"ham\",\"ham\",\"ham\",\"ham\",\"ham\",\"ham\",\"ham\",\"ham\",\"ham\",\"ham\",\"ham\",\"ham\",\"ham\",\"ham\",\"ham\",\"ham\",\"ham\",\"ham\",\"ham\",\"ham\",\"ham\",\"spam\",\"ham\",\"ham\",\"ham\",\"ham\",\"ham\",\"spam\",\"ham\",\"ham\",\"ham\",\"ham\",\"ham\",\"spam\",\"ham\",\"ham\",\"ham\",\"ham\",\"ham\",\"ham\",\"ham\",\"ham\",\"ham\",\"ham\",\"ham\",\"ham\",\"ham\",\"ham\",\"ham\",\"ham\",\"spam\",\"spam\",\"ham\",\"ham\",\"ham\",\"ham\",\"ham\",\"ham\",\"ham\",\"spam\",\"spam\",\"ham\",\"ham\",\"spam\",\"ham\",\"ham\",\"ham\",\"ham\",\"ham\",\"ham\",\"ham\",\"ham\",\"ham\",\"ham\",\"ham\",\"ham\",\"ham\",\"spam\",\"ham\",\"ham\",\"ham\",\"ham\",\"ham\",\"ham\",\"ham\",\"ham\",\"ham\",\"ham\",\"ham\",\"ham\",\"ham\",\"ham\",\"ham\",\"ham\",\"ham\",\"spam\",\"ham\",\"ham\",\"ham\",\"ham\",\"ham\",\"ham\",\"ham\",\"ham\",\"ham\",\"ham\",\"ham\",\"ham\",\"ham\",\"ham\",\"ham\",\"ham\",\"ham\",\"ham\",\"ham\",\"ham\",\"ham\",\"ham\",\"ham\",\"ham\",\"ham\",\"spam\",\"ham\",\"ham\",\"ham\",\"ham\",\"ham\",\"ham\",\"ham\",\"ham\",\"ham\",\"ham\",\"ham\",\"ham\",\"ham\",\"ham\",\"ham\",\"ham\",\"ham\",\"ham\",\"ham\",\"ham\",\"ham\",\"spam\",\"ham\",\"ham\",\"spam\",\"ham\",\"ham\",\"ham\",\"ham\",\"ham\",\"spam\",\"ham\",\"ham\",\"ham\",\"ham\",\"ham\",\"spam\",\"ham\",\"ham\",\"ham\",\"spam\",\"ham\",\"ham\",\"ham\",\"ham\",\"ham\",\"ham\",\"ham\",\"spam\",\"ham\",\"ham\",\"ham\",\"ham\",\"ham\",\"ham\",\"ham\",\"ham\",\"ham\",\"spam\",\"spam\",\"spam\",\"spam\",\"spam\",\"spam\",\"spam\",\"ham\",\"ham\",\"ham\",\"ham\",\"ham\",\"ham\",\"ham\",\"spam\",\"ham\",\"ham\",\"ham\",\"ham\",\"ham\",\"ham\",\"ham\",\"ham\",\"spam\",\"spam\",\"ham\",\"ham\",\"ham\",\"ham\",\"ham\",\"ham\",\"ham\",\"ham\",\"ham\",\"ham\",\"ham\",\"ham\",\"ham\",\"ham\",\"ham\",\"ham\",\"spam\",\"ham\",\"ham\",\"spam\",\"ham\",\"ham\",\"ham\",\"ham\",\"spam\",\"ham\",\"ham\",\"ham\",\"ham\",\"ham\",\"ham\",\"ham\",\"ham\",\"ham\",\"ham\",\"ham\",\"ham\",\"ham\",\"ham\",\"spam\",\"ham\",\"ham\",\"ham\",\"ham\",\"ham\",\"ham\",\"ham\",\"ham\",\"ham\",\"ham\",\"ham\",\"spam\",\"spam\",\"ham\",\"ham\",\"ham\",\"ham\",\"spam\",\"ham\",\"ham\",\"ham\",\"ham\",\"ham\",\"ham\",\"ham\",\"ham\",\"ham\",\"ham\",\"ham\",\"ham\",\"ham\",\"ham\",\"ham\",\"ham\",\"ham\",\"ham\",\"ham\",\"ham\",\"ham\",\"ham\",\"ham\",\"ham\",\"ham\",\"ham\",\"ham\",\"spam\",\"spam\",\"ham\",\"ham\",\"ham\",\"ham\",\"ham\",\"ham\",\"ham\",\"ham\",\"ham\",\"ham\",\"ham\",\"ham\",\"ham\",\"ham\",\"ham\",\"ham\",\"ham\",\"spam\",\"ham\",\"ham\",\"ham\",\"ham\",\"ham\",\"ham\",\"ham\",\"spam\",\"ham\",\"ham\",\"ham\",\"spam\",\"ham\",\"spam\",\"ham\",\"spam\",\"ham\",\"ham\",\"ham\",\"spam\",\"ham\",\"ham\",\"spam\",\"ham\",\"ham\",\"spam\",\"ham\",\"ham\",\"ham\",\"ham\",\"ham\",\"ham\",\"ham\",\"ham\",\"ham\",\"ham\",\"spam\",\"ham\",\"spam\",\"ham\",\"ham\",\"ham\",\"ham\",\"ham\",\"ham\",\"ham\",\"spam\",\"ham\",\"ham\",\"spam\",\"ham\",\"ham\",\"ham\",\"ham\",\"ham\",\"ham\",\"ham\",\"ham\",\"ham\",\"ham\",\"ham\",\"ham\",\"ham\",\"ham\",\"ham\",\"ham\",\"ham\",\"ham\",\"ham\",\"ham\",\"ham\",\"spam\",\"ham\",\"ham\",\"ham\",\"ham\",\"ham\",\"ham\",\"ham\",\"ham\",\"ham\",\"ham\",\"spam\",\"ham\",\"ham\",\"ham\",\"ham\",\"ham\",\"ham\",\"ham\",\"spam\",\"ham\",\"ham\",\"spam\",\"ham\",\"ham\",\"ham\",\"spam\",\"ham\",\"ham\",\"ham\",\"ham\",\"ham\",\"ham\",\"ham\",\"ham\",\"ham\",\"ham\",\"ham\",\"ham\",\"ham\",\"ham\",\"ham\",\"ham\",\"ham\",\"ham\",\"ham\",\"ham\",\"ham\",\"ham\",\"ham\",\"ham\",\"ham\",\"ham\",\"ham\",\"ham\",\"spam\",\"ham\",\"ham\",\"ham\",\"spam\",\"ham\",\"ham\",\"ham\",\"ham\",\"ham\",\"ham\",\"ham\",\"ham\",\"ham\",\"ham\",\"ham\",\"ham\",\"ham\",\"ham\",\"ham\",\"ham\",\"ham\",\"ham\",\"spam\",\"ham\",\"ham\",\"ham\",\"ham\",\"ham\",\"ham\",\"ham\",\"ham\",\"ham\",\"ham\",\"spam\",\"ham\",\"ham\",\"ham\",\"ham\",\"ham\",\"ham\",\"ham\",\"ham\",\"ham\",\"ham\",\"spam\",\"ham\",\"ham\",\"ham\",\"ham\",\"spam\",\"ham\",\"ham\",\"ham\",\"ham\",\"ham\",\"ham\",\"ham\",\"ham\",\"ham\",\"ham\",\"ham\",\"ham\",\"ham\",\"ham\",\"ham\",\"ham\",\"spam\",\"ham\",\"ham\",\"ham\",\"ham\",\"ham\",\"ham\",\"ham\",\"spam\",\"ham\",\"ham\",\"ham\",\"ham\",\"spam\",\"ham\",\"ham\",\"spam\",\"ham\",\"ham\",\"ham\",\"ham\",\"spam\",\"ham\",\"ham\",\"spam\",\"ham\",\"ham\",\"ham\",\"ham\",\"ham\",\"ham\",\"ham\",\"ham\",\"ham\",\"ham\",\"ham\",\"spam\",\"ham\",\"spam\",\"ham\",\"ham\",\"ham\",\"ham\",\"ham\",\"ham\",\"ham\",\"ham\",\"spam\",\"ham\",\"ham\",\"spam\",\"ham\",\"ham\",\"ham\",\"ham\",\"ham\",\"ham\",\"ham\",\"ham\",\"spam\",\"ham\",\"ham\",\"ham\",\"ham\",\"ham\",\"spam\",\"ham\",\"ham\",\"ham\",\"ham\",\"ham\",\"ham\",\"ham\",\"ham\",\"ham\",\"ham\",\"ham\",\"spam\",\"ham\",\"ham\",\"ham\",\"ham\",\"ham\",\"ham\",\"ham\",\"ham\",\"spam\",\"ham\",\"ham\",\"ham\",\"ham\",\"ham\",\"ham\",\"ham\",\"ham\",\"ham\",\"ham\",\"ham\",\"ham\",\"ham\",\"ham\",\"ham\",\"ham\",\"ham\",\"ham\",\"ham\",\"spam\",\"ham\",\"ham\",\"ham\",\"ham\",\"ham\",\"ham\",\"ham\",\"spam\",\"ham\",\"ham\",\"ham\",\"spam\",\"ham\",\"spam\",\"ham\",\"spam\",\"ham\",\"ham\",\"ham\",\"ham\",\"ham\",\"ham\",\"ham\",\"ham\",\"ham\",\"ham\",\"ham\",\"ham\",\"ham\",\"ham\",\"ham\",\"ham\",\"ham\",\"ham\",\"ham\",\"ham\",\"spam\",\"ham\",\"ham\",\"ham\",\"ham\",\"ham\",\"spam\",\"ham\",\"spam\",\"ham\",\"spam\",\"ham\",\"spam\",\"ham\",\"ham\",\"ham\",\"ham\",\"ham\",\"ham\",\"ham\",\"spam\",\"spam\",\"ham\",\"ham\",\"ham\",\"ham\",\"ham\",\"ham\",\"spam\",\"ham\",\"ham\",\"ham\",\"ham\",\"ham\",\"ham\",\"ham\",\"spam\",\"ham\",\"ham\",\"ham\",\"ham\",\"ham\",\"ham\",\"ham\",\"ham\",\"ham\",\"ham\",\"ham\",\"ham\",\"ham\",\"ham\",\"ham\",\"ham\",\"ham\",\"ham\",\"ham\",\"ham\",\"spam\",\"ham\",\"ham\",\"ham\",\"ham\",\"ham\",\"ham\",\"ham\",\"ham\",\"ham\",\"ham\",\"ham\",\"spam\",\"ham\",\"ham\",\"ham\",\"ham\",\"ham\",\"ham\",\"ham\",\"ham\",\"spam\",\"ham\",\"ham\",\"ham\",\"ham\",\"spam\",\"ham\",\"ham\",\"ham\",\"spam\",\"ham\",\"ham\",\"ham\",\"ham\",\"ham\",\"spam\",\"ham\",\"ham\",\"spam\",\"ham\",\"ham\",\"ham\",\"ham\",\"ham\",\"ham\",\"spam\",\"ham\",\"ham\",\"spam\",\"ham\",\"ham\",\"ham\",\"ham\",\"ham\",\"ham\",\"spam\",\"spam\",\"ham\",\"spam\",\"ham\",\"ham\",\"ham\",\"ham\",\"ham\",\"ham\",\"ham\",\"ham\",\"ham\",\"spam\",\"spam\",\"ham\",\"ham\",\"ham\",\"spam\",\"ham\",\"ham\",\"ham\",\"spam\",\"ham\",\"ham\",\"ham\",\"ham\",\"ham\",\"ham\",\"ham\",\"ham\",\"ham\",\"ham\",\"ham\",\"ham\",\"ham\",\"ham\",\"ham\",\"spam\",\"ham\",\"ham\",\"ham\",\"ham\",\"ham\",\"spam\",\"ham\",\"ham\",\"ham\",\"ham\",\"spam\",\"spam\",\"ham\",\"ham\",\"ham\",\"ham\",\"ham\",\"ham\",\"ham\",\"ham\",\"ham\",\"ham\",\"ham\",\"spam\",\"spam\",\"ham\",\"ham\",\"ham\",\"ham\",\"ham\",\"ham\",\"spam\",\"spam\",\"ham\",\"ham\",\"ham\",\"spam\",\"ham\",\"ham\",\"ham\",\"spam\",\"ham\",\"ham\",\"ham\",\"ham\",\"ham\",\"ham\",\"ham\",\"ham\",\"spam\",\"ham\",\"spam\",\"ham\",\"ham\",\"spam\",\"ham\",\"ham\",\"ham\",\"ham\",\"ham\",\"ham\",\"ham\",\"ham\",\"ham\",\"ham\",\"spam\",\"ham\",\"spam\",\"ham\",\"ham\",\"ham\",\"spam\",\"ham\",\"ham\",\"ham\",\"spam\",\"ham\",\"ham\",\"ham\",\"ham\",\"ham\",\"ham\",\"ham\",\"ham\",\"ham\",\"ham\",\"ham\",\"ham\",\"ham\",\"ham\",\"spam\",\"ham\",\"ham\",\"ham\",\"ham\",\"ham\",\"ham\",\"spam\",\"ham\",\"ham\",\"ham\",\"ham\",\"ham\",\"ham\",\"ham\",\"ham\",\"ham\",\"spam\",\"ham\",\"ham\",\"ham\",\"ham\",\"spam\",\"ham\",\"ham\",\"ham\",\"ham\",\"spam\",\"ham\",\"spam\",\"ham\",\"ham\",\"ham\",\"ham\",\"ham\",\"spam\",\"ham\",\"ham\",\"ham\",\"spam\",\"ham\",\"ham\",\"spam\",\"ham\",\"ham\",\"ham\",\"ham\",\"ham\",\"ham\",\"ham\",\"ham\",\"ham\",\"ham\",\"ham\",\"ham\",\"ham\",\"spam\",\"ham\",\"ham\",\"ham\",\"ham\",\"ham\",\"ham\",\"ham\",\"ham\",\"ham\",\"ham\",\"ham\",\"ham\",\"spam\",\"ham\",\"spam\",\"spam\",\"spam\",\"ham\",\"ham\",\"ham\",\"ham\",\"ham\",\"spam\",\"ham\",\"ham\",\"ham\",\"ham\",\"ham\",\"ham\",\"spam\",\"ham\",\"ham\",\"ham\",\"ham\",\"ham\",\"ham\",\"ham\",\"ham\",\"ham\",\"ham\",\"ham\",\"ham\",\"ham\",\"ham\",\"ham\",\"ham\",\"ham\",\"ham\",\"ham\",\"ham\",\"ham\",\"ham\",\"spam\",\"spam\",\"ham\",\"ham\",\"ham\",\"ham\",\"ham\",\"spam\",\"ham\",\"ham\",\"ham\",\"ham\",\"spam\",\"spam\",\"ham\",\"ham\",\"ham\",\"ham\",\"ham\",\"ham\",\"spam\",\"ham\",\"spam\",\"ham\",\"ham\",\"ham\",\"ham\",\"ham\",\"ham\",\"ham\",\"ham\",\"ham\",\"ham\",\"ham\",\"ham\",\"ham\",\"spam\",\"ham\",\"ham\",\"ham\",\"ham\",\"ham\",\"ham\",\"ham\",\"spam\",\"spam\",\"ham\",\"ham\",\"ham\",\"ham\",\"ham\",\"ham\",\"ham\",\"ham\",\"ham\",\"ham\",\"ham\",\"ham\",\"ham\",\"spam\",\"spam\",\"spam\",\"spam\",\"spam\",\"ham\",\"ham\",\"ham\",\"ham\",\"ham\",\"ham\",\"ham\",\"ham\",\"ham\",\"ham\",\"ham\",\"spam\",\"ham\",\"ham\",\"ham\",\"ham\",\"ham\",\"ham\",\"ham\",\"ham\",\"ham\",\"ham\",\"ham\",\"ham\",\"ham\",\"ham\",\"ham\",\"ham\",\"ham\",\"spam\",\"ham\",\"ham\",\"ham\",\"ham\",\"ham\",\"ham\",\"ham\",\"ham\",\"ham\",\"ham\",\"ham\",\"ham\",\"ham\",\"ham\",\"ham\",\"ham\",\"ham\",\"ham\",\"spam\",\"ham\",\"ham\",\"ham\",\"ham\",\"ham\",\"ham\",\"spam\",\"ham\",\"ham\",\"ham\",\"spam\",\"ham\",\"ham\",\"ham\",\"ham\",\"ham\",\"ham\",\"ham\",\"ham\",\"ham\",\"ham\",\"ham\",\"spam\",\"ham\",\"spam\",\"ham\",\"ham\",\"spam\",\"spam\",\"ham\",\"ham\",\"ham\",\"ham\",\"ham\",\"ham\",\"ham\",\"ham\",\"spam\",\"ham\",\"ham\",\"ham\",\"ham\",\"ham\",\"ham\",\"ham\",\"spam\",\"ham\",\"ham\",\"ham\",\"ham\",\"ham\",\"ham\",\"ham\",\"ham\",\"ham\",\"ham\",\"ham\",\"ham\",\"spam\",\"ham\",\"ham\",\"spam\",\"ham\",\"ham\",\"ham\",\"ham\",\"ham\",\"ham\",\"ham\",\"ham\",\"ham\",\"ham\",\"ham\",\"ham\",\"ham\",\"ham\",\"ham\",\"ham\",\"ham\",\"ham\",\"ham\",\"ham\",\"ham\",\"ham\",\"ham\",\"ham\",\"ham\",\"spam\",\"ham\",\"ham\",\"ham\",\"ham\",\"ham\",\"ham\",\"ham\",\"ham\",\"ham\",\"ham\",\"ham\",\"ham\",\"ham\",\"spam\",\"ham\",\"ham\",\"ham\",\"ham\",\"ham\",\"ham\",\"ham\",\"ham\",\"ham\",\"spam\",\"ham\",\"ham\",\"ham\",\"ham\",\"ham\",\"ham\",\"ham\",\"ham\",\"ham\",\"ham\",\"ham\",\"ham\",\"spam\",\"ham\",\"spam\",\"ham\",\"ham\",\"ham\",\"ham\",\"ham\",\"ham\",\"ham\",\"ham\",\"ham\",\"ham\",\"ham\",\"ham\",\"ham\",\"ham\",\"ham\",\"ham\",\"ham\",\"ham\",\"ham\",\"ham\",\"ham\",\"ham\",\"ham\",\"spam\",\"spam\",\"ham\",\"ham\",\"ham\",\"ham\",\"ham\",\"spam\",\"ham\",\"ham\",\"ham\",\"ham\",\"ham\",\"ham\",\"ham\",\"spam\",\"ham\",\"ham\",\"spam\",\"ham\",\"ham\",\"ham\",\"ham\",\"ham\",\"ham\",\"ham\",\"ham\",\"ham\",\"spam\",\"ham\",\"ham\",\"ham\",\"ham\",\"ham\",\"ham\",\"spam\",\"ham\",\"ham\",\"ham\",\"ham\",\"ham\",\"ham\",\"ham\",\"ham\",\"spam\",\"ham\",\"ham\",\"ham\",\"ham\",\"ham\",\"ham\",\"ham\",\"ham\",\"ham\",\"ham\",\"ham\",\"ham\",\"ham\",\"ham\",\"ham\",\"ham\",\"ham\",\"ham\",\"ham\",\"ham\",\"ham\",\"ham\",\"ham\",\"ham\",\"ham\",\"ham\",\"ham\",\"spam\",\"ham\",\"ham\",\"spam\",\"ham\",\"ham\",\"spam\",\"spam\",\"spam\",\"ham\",\"ham\",\"ham\",\"ham\",\"spam\",\"ham\",\"spam\",\"spam\",\"ham\",\"ham\",\"ham\",\"ham\",\"spam\",\"ham\",\"ham\",\"ham\",\"ham\",\"ham\",\"ham\",\"ham\",\"ham\",\"ham\",\"spam\",\"ham\",\"ham\",\"ham\",\"ham\",\"ham\",\"ham\",\"ham\",\"ham\",\"ham\",\"ham\",\"ham\",\"ham\",\"ham\",\"spam\",\"ham\",\"ham\",\"ham\",\"ham\",\"ham\",\"ham\",\"ham\",\"ham\",\"ham\",\"ham\",\"ham\",\"spam\",\"spam\",\"ham\",\"ham\",\"ham\",\"ham\",\"ham\",\"ham\",\"ham\",\"ham\",\"ham\",\"ham\",\"ham\",\"ham\",\"ham\",\"spam\",\"ham\",\"ham\",\"ham\",\"spam\",\"ham\",\"ham\",\"ham\",\"ham\",\"spam\",\"ham\",\"ham\",\"ham\",\"ham\",\"ham\",\"spam\",\"ham\",\"ham\",\"ham\",\"ham\",\"ham\",\"ham\",\"ham\",\"ham\",\"ham\",\"ham\",\"ham\",\"ham\",\"ham\",\"ham\",\"spam\",\"ham\",\"ham\",\"spam\",\"ham\",\"ham\",\"ham\",\"ham\",\"ham\",\"ham\",\"ham\",\"ham\",\"ham\",\"ham\",\"ham\",\"ham\",\"ham\",\"ham\",\"ham\",\"ham\",\"ham\",\"ham\",\"ham\",\"spam\",\"ham\",\"ham\",\"ham\",\"ham\",\"spam\",\"ham\",\"ham\",\"ham\",\"ham\",\"ham\",\"ham\",\"ham\",\"ham\",\"ham\",\"ham\",\"ham\",\"ham\",\"ham\",\"ham\",\"ham\",\"ham\",\"ham\",\"ham\",\"ham\",\"ham\",\"ham\",\"ham\",\"ham\",\"spam\",\"ham\",\"ham\",\"spam\",\"ham\",\"ham\",\"ham\",\"ham\",\"ham\",\"ham\",\"spam\",\"ham\",\"ham\",\"ham\",\"ham\",\"ham\",\"ham\",\"ham\",\"ham\",\"ham\",\"ham\",\"spam\",\"ham\",\"ham\",\"ham\",\"ham\",\"ham\",\"spam\",\"ham\",\"spam\",\"ham\",\"ham\",\"ham\",\"ham\",\"spam\",\"spam\",\"ham\",\"ham\",\"ham\",\"ham\",\"ham\",\"ham\",\"ham\",\"spam\",\"ham\",\"ham\",\"ham\",\"ham\",\"ham\",\"ham\",\"ham\",\"ham\",\"ham\",\"ham\",\"ham\",\"ham\",\"ham\",\"ham\",\"ham\",\"ham\",\"ham\",\"spam\",\"ham\",\"ham\",\"ham\",\"ham\",\"ham\",\"ham\",\"ham\",\"ham\",\"ham\",\"ham\",\"spam\",\"spam\",\"ham\",\"ham\",\"ham\",\"ham\",\"ham\",\"ham\",\"ham\",\"ham\",\"ham\",\"spam\",\"ham\",\"ham\",\"ham\",\"ham\",\"ham\",\"ham\",\"ham\",\"ham\",\"ham\",\"ham\",\"ham\",\"ham\",\"spam\",\"ham\",\"spam\",\"ham\",\"ham\",\"ham\",\"ham\",\"ham\",\"ham\",\"ham\",\"ham\",\"ham\",\"ham\",\"spam\",\"ham\",\"ham\",\"ham\",\"ham\",\"ham\",\"ham\",\"spam\",\"ham\",\"ham\",\"ham\",\"spam\",\"ham\",\"ham\",\"ham\",\"ham\",\"ham\",\"ham\",\"ham\",\"ham\",\"ham\",\"ham\",\"ham\",\"ham\",\"ham\",\"ham\",\"ham\",\"ham\",\"ham\",\"spam\",\"spam\",\"ham\",\"ham\",\"ham\",\"ham\",\"ham\",\"ham\",\"ham\",\"ham\",\"ham\",\"ham\",\"ham\",\"ham\",\"spam\",\"ham\",\"spam\",\"ham\",\"ham\",\"ham\",\"ham\",\"ham\",\"ham\",\"ham\",\"ham\",\"spam\",\"ham\",\"ham\",\"ham\",\"ham\",\"ham\",\"ham\",\"ham\",\"spam\",\"ham\",\"ham\",\"ham\",\"ham\",\"spam\",\"ham\",\"spam\",\"ham\",\"ham\",\"spam\",\"ham\",\"ham\",\"ham\",\"ham\",\"ham\",\"ham\",\"ham\",\"spam\",\"ham\",\"ham\",\"ham\",\"spam\",\"ham\",\"ham\",\"ham\",\"ham\",\"ham\",\"ham\",\"ham\",\"ham\",\"ham\",\"ham\",\"ham\",\"spam\",\"spam\",\"ham\",\"ham\",\"ham\",\"ham\",\"ham\",\"ham\",\"ham\",\"ham\",\"ham\",\"ham\",\"ham\",\"ham\",\"ham\",\"ham\",\"ham\",\"ham\",\"spam\",\"spam\",\"ham\",\"ham\",\"ham\",\"spam\",\"ham\",\"ham\",\"ham\",\"ham\",\"ham\",\"ham\",\"ham\",\"ham\",\"ham\",\"ham\",\"ham\",\"spam\",\"ham\",\"spam\",\"spam\",\"ham\",\"ham\",\"ham\",\"ham\",\"ham\",\"ham\",\"ham\",\"ham\",\"ham\",\"ham\",\"ham\",\"ham\",\"ham\",\"ham\",\"ham\",\"ham\",\"spam\",\"ham\",\"ham\",\"ham\",\"ham\",\"ham\",\"spam\",\"ham\",\"ham\",\"ham\",\"ham\",\"ham\",\"ham\",\"ham\",\"ham\",\"ham\",\"ham\",\"ham\",\"ham\",\"spam\",\"ham\",\"ham\",\"ham\",\"ham\",\"ham\",\"ham\",\"ham\",\"spam\",\"ham\",\"ham\",\"ham\",\"ham\",\"ham\",\"spam\",\"ham\",\"ham\",\"ham\",\"ham\",\"ham\",\"ham\",\"ham\",\"ham\",\"spam\",\"spam\",\"ham\",\"spam\",\"ham\",\"ham\",\"ham\",\"ham\",\"ham\",\"ham\",\"spam\",\"ham\",\"ham\",\"ham\",\"spam\",\"ham\",\"spam\",\"ham\",\"ham\",\"ham\",\"ham\",\"ham\",\"ham\",\"ham\",\"ham\",\"ham\",\"ham\",\"ham\",\"spam\",\"ham\",\"ham\",\"ham\",\"ham\",\"spam\",\"ham\",\"ham\",\"ham\",\"ham\",\"ham\",\"ham\",\"ham\",\"spam\",\"ham\",\"ham\",\"spam\",\"ham\",\"spam\",\"ham\",\"ham\",\"spam\",\"ham\",\"ham\",\"spam\",\"ham\",\"ham\",\"ham\",\"ham\",\"ham\",\"ham\",\"ham\",\"ham\",\"ham\",\"ham\",\"ham\",\"ham\",\"ham\",\"ham\",\"ham\",\"ham\",\"ham\",\"ham\",\"ham\",\"ham\",\"spam\",\"ham\",\"ham\",\"ham\",\"spam\",\"ham\",\"ham\",\"ham\",\"ham\",\"ham\",\"ham\",\"ham\",\"spam\",\"ham\",\"spam\",\"ham\",\"ham\",\"spam\",\"ham\",\"ham\",\"ham\",\"ham\",\"spam\",\"ham\",\"ham\",\"ham\",\"ham\",\"ham\",\"ham\",\"ham\",\"ham\",\"ham\",\"ham\",\"ham\",\"ham\",\"ham\",\"ham\",\"ham\",\"ham\",\"spam\",\"ham\",\"ham\",\"ham\",\"spam\",\"ham\",\"ham\",\"ham\",\"ham\",\"ham\",\"spam\",\"ham\",\"ham\",\"ham\",\"ham\",\"ham\",\"ham\",\"ham\",\"ham\",\"ham\",\"ham\",\"ham\",\"ham\",\"ham\",\"ham\",\"ham\",\"ham\",\"spam\",\"ham\",\"ham\",\"ham\",\"ham\",\"ham\",\"ham\",\"ham\",\"ham\",\"ham\",\"ham\",\"ham\",\"ham\",\"ham\",\"spam\",\"ham\",\"ham\",\"ham\",\"ham\",\"ham\",\"ham\",\"ham\",\"ham\",\"ham\",\"ham\",\"spam\",\"spam\",\"ham\",\"ham\",\"ham\",\"ham\",\"ham\",\"spam\",\"ham\",\"ham\",\"ham\",\"spam\",\"spam\",\"ham\",\"ham\",\"ham\",\"spam\",\"ham\",\"ham\",\"ham\",\"ham\",\"ham\",\"ham\",\"ham\",\"ham\",\"spam\",\"ham\",\"ham\",\"ham\",\"ham\",\"ham\",\"ham\",\"ham\",\"ham\",\"ham\",\"ham\",\"ham\",\"ham\",\"ham\",\"spam\",\"ham\",\"ham\",\"ham\",\"spam\",\"ham\",\"ham\",\"ham\",\"ham\",\"spam\",\"ham\",\"ham\",\"ham\",\"ham\",\"ham\",\"ham\",\"ham\",\"ham\",\"ham\",\"ham\",\"ham\",\"ham\",\"spam\",\"ham\",\"ham\",\"ham\",\"ham\",\"ham\",\"ham\",\"ham\",\"ham\",\"ham\",\"ham\",\"ham\",\"ham\",\"ham\",\"ham\",\"ham\",\"ham\",\"ham\",\"ham\",\"spam\",\"ham\",\"ham\",\"ham\",\"ham\",\"ham\",\"ham\",\"ham\",\"ham\",\"spam\",\"ham\",\"ham\",\"ham\",\"ham\",\"ham\",\"ham\",\"spam\",\"ham\",\"ham\",\"ham\",\"ham\",\"ham\",\"ham\",\"spam\",\"ham\",\"spam\",\"ham\",\"ham\",\"ham\",\"ham\",\"ham\",\"ham\",\"ham\",\"ham\",\"ham\",\"ham\",\"ham\",\"ham\",\"ham\",\"ham\",\"ham\",\"ham\",\"ham\",\"ham\",\"ham\",\"spam\",\"ham\",\"ham\",\"ham\",\"ham\",\"ham\",\"ham\",\"ham\",\"ham\",\"ham\",\"ham\",\"ham\",\"ham\",\"ham\",\"ham\",\"ham\",\"ham\",\"ham\",\"ham\",\"ham\",\"ham\",\"ham\",\"ham\",\"ham\",\"ham\",\"ham\",\"ham\",\"ham\",\"spam\",\"ham\",\"ham\",\"ham\",\"ham\",\"ham\",\"ham\",\"ham\",\"ham\",\"ham\",\"ham\",\"ham\",\"ham\",\"ham\",\"ham\",\"ham\",\"ham\",\"ham\",\"ham\",\"ham\",\"ham\",\"ham\",\"spam\",\"spam\",\"spam\",\"ham\",\"spam\",\"ham\",\"spam\",\"ham\",\"ham\",\"ham\",\"ham\",\"ham\",\"ham\",\"spam\",\"spam\",\"ham\",\"ham\",\"spam\",\"ham\",\"ham\",\"ham\",\"ham\",\"ham\",\"ham\",\"ham\",\"ham\",\"ham\",\"ham\",\"ham\",\"ham\",\"ham\",\"ham\",\"ham\",\"ham\",\"ham\",\"ham\",\"ham\",\"ham\",\"ham\",\"ham\",\"ham\",\"ham\",\"ham\",\"ham\",\"ham\",\"ham\",\"ham\",\"ham\",\"ham\",\"ham\",\"ham\",\"ham\",\"ham\",\"ham\",\"ham\",\"ham\",\"ham\",\"ham\",\"ham\",\"ham\",\"ham\",\"ham\",\"ham\",\"spam\",\"ham\",\"ham\",\"ham\",\"ham\",\"ham\",\"ham\",\"ham\",\"ham\",\"ham\",\"ham\",\"ham\",\"ham\",\"ham\",\"ham\",\"ham\",\"spam\",\"ham\",\"ham\",\"ham\",\"ham\",\"ham\",\"spam\",\"ham\",\"ham\",\"ham\",\"ham\",\"ham\",\"ham\",\"spam\",\"ham\",\"ham\",\"ham\",\"spam\",\"ham\",\"spam\",\"ham\",\"ham\",\"ham\",\"spam\",\"spam\",\"spam\",\"ham\",\"ham\",\"ham\",\"ham\",\"ham\",\"ham\",\"ham\",\"ham\",\"ham\",\"ham\",\"ham\",\"ham\",\"ham\",\"spam\",\"ham\",\"ham\",\"ham\",\"ham\",\"spam\",\"ham\",\"ham\",\"ham\",\"ham\",\"spam\",\"ham\",\"ham\",\"ham\",\"ham\",\"spam\",\"ham\",\"ham\",\"ham\",\"spam\",\"ham\",\"ham\",\"ham\",\"ham\",\"ham\",\"ham\",\"ham\",\"ham\",\"ham\",\"ham\",\"ham\",\"ham\",\"ham\",\"ham\",\"ham\",\"ham\",\"ham\",\"ham\",\"ham\",\"ham\",\"ham\",\"ham\",\"spam\",\"ham\",\"spam\",\"ham\",\"ham\",\"ham\",\"ham\",\"ham\",\"ham\",\"ham\",\"ham\",\"ham\",\"ham\",\"spam\",\"ham\",\"ham\",\"spam\",\"ham\",\"ham\",\"ham\",\"ham\",\"ham\",\"ham\",\"spam\",\"ham\",\"ham\",\"ham\",\"ham\",\"ham\",\"ham\",\"ham\",\"ham\",\"ham\",\"ham\",\"ham\",\"ham\",\"ham\",\"ham\",\"ham\",\"ham\",\"ham\",\"ham\",\"spam\",\"spam\",\"ham\",\"ham\",\"ham\",\"ham\"],\"xaxis\":\"x\",\"yaxis\":\"y\",\"type\":\"histogram\"}],                        {\"template\":{\"data\":{\"histogram2dcontour\":[{\"type\":\"histogram2dcontour\",\"colorbar\":{\"outlinewidth\":0,\"ticks\":\"\"},\"colorscale\":[[0.0,\"#0d0887\"],[0.1111111111111111,\"#46039f\"],[0.2222222222222222,\"#7201a8\"],[0.3333333333333333,\"#9c179e\"],[0.4444444444444444,\"#bd3786\"],[0.5555555555555556,\"#d8576b\"],[0.6666666666666666,\"#ed7953\"],[0.7777777777777778,\"#fb9f3a\"],[0.8888888888888888,\"#fdca26\"],[1.0,\"#f0f921\"]]}],\"choropleth\":[{\"type\":\"choropleth\",\"colorbar\":{\"outlinewidth\":0,\"ticks\":\"\"}}],\"histogram2d\":[{\"type\":\"histogram2d\",\"colorbar\":{\"outlinewidth\":0,\"ticks\":\"\"},\"colorscale\":[[0.0,\"#0d0887\"],[0.1111111111111111,\"#46039f\"],[0.2222222222222222,\"#7201a8\"],[0.3333333333333333,\"#9c179e\"],[0.4444444444444444,\"#bd3786\"],[0.5555555555555556,\"#d8576b\"],[0.6666666666666666,\"#ed7953\"],[0.7777777777777778,\"#fb9f3a\"],[0.8888888888888888,\"#fdca26\"],[1.0,\"#f0f921\"]]}],\"heatmap\":[{\"type\":\"heatmap\",\"colorbar\":{\"outlinewidth\":0,\"ticks\":\"\"},\"colorscale\":[[0.0,\"#0d0887\"],[0.1111111111111111,\"#46039f\"],[0.2222222222222222,\"#7201a8\"],[0.3333333333333333,\"#9c179e\"],[0.4444444444444444,\"#bd3786\"],[0.5555555555555556,\"#d8576b\"],[0.6666666666666666,\"#ed7953\"],[0.7777777777777778,\"#fb9f3a\"],[0.8888888888888888,\"#fdca26\"],[1.0,\"#f0f921\"]]}],\"heatmapgl\":[{\"type\":\"heatmapgl\",\"colorbar\":{\"outlinewidth\":0,\"ticks\":\"\"},\"colorscale\":[[0.0,\"#0d0887\"],[0.1111111111111111,\"#46039f\"],[0.2222222222222222,\"#7201a8\"],[0.3333333333333333,\"#9c179e\"],[0.4444444444444444,\"#bd3786\"],[0.5555555555555556,\"#d8576b\"],[0.6666666666666666,\"#ed7953\"],[0.7777777777777778,\"#fb9f3a\"],[0.8888888888888888,\"#fdca26\"],[1.0,\"#f0f921\"]]}],\"contourcarpet\":[{\"type\":\"contourcarpet\",\"colorbar\":{\"outlinewidth\":0,\"ticks\":\"\"}}],\"contour\":[{\"type\":\"contour\",\"colorbar\":{\"outlinewidth\":0,\"ticks\":\"\"},\"colorscale\":[[0.0,\"#0d0887\"],[0.1111111111111111,\"#46039f\"],[0.2222222222222222,\"#7201a8\"],[0.3333333333333333,\"#9c179e\"],[0.4444444444444444,\"#bd3786\"],[0.5555555555555556,\"#d8576b\"],[0.6666666666666666,\"#ed7953\"],[0.7777777777777778,\"#fb9f3a\"],[0.8888888888888888,\"#fdca26\"],[1.0,\"#f0f921\"]]}],\"surface\":[{\"type\":\"surface\",\"colorbar\":{\"outlinewidth\":0,\"ticks\":\"\"},\"colorscale\":[[0.0,\"#0d0887\"],[0.1111111111111111,\"#46039f\"],[0.2222222222222222,\"#7201a8\"],[0.3333333333333333,\"#9c179e\"],[0.4444444444444444,\"#bd3786\"],[0.5555555555555556,\"#d8576b\"],[0.6666666666666666,\"#ed7953\"],[0.7777777777777778,\"#fb9f3a\"],[0.8888888888888888,\"#fdca26\"],[1.0,\"#f0f921\"]]}],\"mesh3d\":[{\"type\":\"mesh3d\",\"colorbar\":{\"outlinewidth\":0,\"ticks\":\"\"}}],\"scatter\":[{\"fillpattern\":{\"fillmode\":\"overlay\",\"size\":10,\"solidity\":0.2},\"type\":\"scatter\"}],\"parcoords\":[{\"type\":\"parcoords\",\"line\":{\"colorbar\":{\"outlinewidth\":0,\"ticks\":\"\"}}}],\"scatterpolargl\":[{\"type\":\"scatterpolargl\",\"marker\":{\"colorbar\":{\"outlinewidth\":0,\"ticks\":\"\"}}}],\"bar\":[{\"error_x\":{\"color\":\"#2a3f5f\"},\"error_y\":{\"color\":\"#2a3f5f\"},\"marker\":{\"line\":{\"color\":\"#E5ECF6\",\"width\":0.5},\"pattern\":{\"fillmode\":\"overlay\",\"size\":10,\"solidity\":0.2}},\"type\":\"bar\"}],\"scattergeo\":[{\"type\":\"scattergeo\",\"marker\":{\"colorbar\":{\"outlinewidth\":0,\"ticks\":\"\"}}}],\"scatterpolar\":[{\"type\":\"scatterpolar\",\"marker\":{\"colorbar\":{\"outlinewidth\":0,\"ticks\":\"\"}}}],\"histogram\":[{\"marker\":{\"pattern\":{\"fillmode\":\"overlay\",\"size\":10,\"solidity\":0.2}},\"type\":\"histogram\"}],\"scattergl\":[{\"type\":\"scattergl\",\"marker\":{\"colorbar\":{\"outlinewidth\":0,\"ticks\":\"\"}}}],\"scatter3d\":[{\"type\":\"scatter3d\",\"line\":{\"colorbar\":{\"outlinewidth\":0,\"ticks\":\"\"}},\"marker\":{\"colorbar\":{\"outlinewidth\":0,\"ticks\":\"\"}}}],\"scattermapbox\":[{\"type\":\"scattermapbox\",\"marker\":{\"colorbar\":{\"outlinewidth\":0,\"ticks\":\"\"}}}],\"scatterternary\":[{\"type\":\"scatterternary\",\"marker\":{\"colorbar\":{\"outlinewidth\":0,\"ticks\":\"\"}}}],\"scattercarpet\":[{\"type\":\"scattercarpet\",\"marker\":{\"colorbar\":{\"outlinewidth\":0,\"ticks\":\"\"}}}],\"carpet\":[{\"aaxis\":{\"endlinecolor\":\"#2a3f5f\",\"gridcolor\":\"white\",\"linecolor\":\"white\",\"minorgridcolor\":\"white\",\"startlinecolor\":\"#2a3f5f\"},\"baxis\":{\"endlinecolor\":\"#2a3f5f\",\"gridcolor\":\"white\",\"linecolor\":\"white\",\"minorgridcolor\":\"white\",\"startlinecolor\":\"#2a3f5f\"},\"type\":\"carpet\"}],\"table\":[{\"cells\":{\"fill\":{\"color\":\"#EBF0F8\"},\"line\":{\"color\":\"white\"}},\"header\":{\"fill\":{\"color\":\"#C8D4E3\"},\"line\":{\"color\":\"white\"}},\"type\":\"table\"}],\"barpolar\":[{\"marker\":{\"line\":{\"color\":\"#E5ECF6\",\"width\":0.5},\"pattern\":{\"fillmode\":\"overlay\",\"size\":10,\"solidity\":0.2}},\"type\":\"barpolar\"}],\"pie\":[{\"automargin\":true,\"type\":\"pie\"}]},\"layout\":{\"autotypenumbers\":\"strict\",\"colorway\":[\"#636efa\",\"#EF553B\",\"#00cc96\",\"#ab63fa\",\"#FFA15A\",\"#19d3f3\",\"#FF6692\",\"#B6E880\",\"#FF97FF\",\"#FECB52\"],\"font\":{\"color\":\"#2a3f5f\"},\"hovermode\":\"closest\",\"hoverlabel\":{\"align\":\"left\"},\"paper_bgcolor\":\"white\",\"plot_bgcolor\":\"#E5ECF6\",\"polar\":{\"bgcolor\":\"#E5ECF6\",\"angularaxis\":{\"gridcolor\":\"white\",\"linecolor\":\"white\",\"ticks\":\"\"},\"radialaxis\":{\"gridcolor\":\"white\",\"linecolor\":\"white\",\"ticks\":\"\"}},\"ternary\":{\"bgcolor\":\"#E5ECF6\",\"aaxis\":{\"gridcolor\":\"white\",\"linecolor\":\"white\",\"ticks\":\"\"},\"baxis\":{\"gridcolor\":\"white\",\"linecolor\":\"white\",\"ticks\":\"\"},\"caxis\":{\"gridcolor\":\"white\",\"linecolor\":\"white\",\"ticks\":\"\"}},\"coloraxis\":{\"colorbar\":{\"outlinewidth\":0,\"ticks\":\"\"}},\"colorscale\":{\"sequential\":[[0.0,\"#0d0887\"],[0.1111111111111111,\"#46039f\"],[0.2222222222222222,\"#7201a8\"],[0.3333333333333333,\"#9c179e\"],[0.4444444444444444,\"#bd3786\"],[0.5555555555555556,\"#d8576b\"],[0.6666666666666666,\"#ed7953\"],[0.7777777777777778,\"#fb9f3a\"],[0.8888888888888888,\"#fdca26\"],[1.0,\"#f0f921\"]],\"sequentialminus\":[[0.0,\"#0d0887\"],[0.1111111111111111,\"#46039f\"],[0.2222222222222222,\"#7201a8\"],[0.3333333333333333,\"#9c179e\"],[0.4444444444444444,\"#bd3786\"],[0.5555555555555556,\"#d8576b\"],[0.6666666666666666,\"#ed7953\"],[0.7777777777777778,\"#fb9f3a\"],[0.8888888888888888,\"#fdca26\"],[1.0,\"#f0f921\"]],\"diverging\":[[0,\"#8e0152\"],[0.1,\"#c51b7d\"],[0.2,\"#de77ae\"],[0.3,\"#f1b6da\"],[0.4,\"#fde0ef\"],[0.5,\"#f7f7f7\"],[0.6,\"#e6f5d0\"],[0.7,\"#b8e186\"],[0.8,\"#7fbc41\"],[0.9,\"#4d9221\"],[1,\"#276419\"]]},\"xaxis\":{\"gridcolor\":\"white\",\"linecolor\":\"white\",\"ticks\":\"\",\"title\":{\"standoff\":15},\"zerolinecolor\":\"white\",\"automargin\":true,\"zerolinewidth\":2},\"yaxis\":{\"gridcolor\":\"white\",\"linecolor\":\"white\",\"ticks\":\"\",\"title\":{\"standoff\":15},\"zerolinecolor\":\"white\",\"automargin\":true,\"zerolinewidth\":2},\"scene\":{\"xaxis\":{\"backgroundcolor\":\"#E5ECF6\",\"gridcolor\":\"white\",\"linecolor\":\"white\",\"showbackground\":true,\"ticks\":\"\",\"zerolinecolor\":\"white\",\"gridwidth\":2},\"yaxis\":{\"backgroundcolor\":\"#E5ECF6\",\"gridcolor\":\"white\",\"linecolor\":\"white\",\"showbackground\":true,\"ticks\":\"\",\"zerolinecolor\":\"white\",\"gridwidth\":2},\"zaxis\":{\"backgroundcolor\":\"#E5ECF6\",\"gridcolor\":\"white\",\"linecolor\":\"white\",\"showbackground\":true,\"ticks\":\"\",\"zerolinecolor\":\"white\",\"gridwidth\":2}},\"shapedefaults\":{\"line\":{\"color\":\"#2a3f5f\"}},\"annotationdefaults\":{\"arrowcolor\":\"#2a3f5f\",\"arrowhead\":0,\"arrowwidth\":1},\"geo\":{\"bgcolor\":\"white\",\"landcolor\":\"#E5ECF6\",\"subunitcolor\":\"white\",\"showland\":true,\"showlakes\":true,\"lakecolor\":\"white\"},\"title\":{\"x\":0.05},\"mapbox\":{\"style\":\"light\"}}},\"xaxis\":{\"anchor\":\"y\",\"domain\":[0.0,1.0],\"title\":{\"text\":\"v1\"}},\"yaxis\":{\"anchor\":\"x\",\"domain\":[0.0,1.0],\"title\":{\"text\":\"Number of Observations\"}},\"legend\":{\"tracegroupgap\":0},\"title\":{\"text\":\"Class Distribution (Spam vs Ham)\"},\"barmode\":\"relative\",\"bargap\":0.2},                        {\"responsive\": true}                    ).then(function(){\n",
              "                            \n",
              "var gd = document.getElementById('1abef969-143d-4ff0-9a74-6293771121bc');\n",
              "var x = new MutationObserver(function (mutations, observer) {{\n",
              "        var display = window.getComputedStyle(gd).display;\n",
              "        if (!display || display === 'none') {{\n",
              "            console.log([gd, 'removed!']);\n",
              "            Plotly.purge(gd);\n",
              "            observer.disconnect();\n",
              "        }}\n",
              "}});\n",
              "\n",
              "// Listen for the removal of the full notebook cells\n",
              "var notebookContainer = gd.closest('#notebook-container');\n",
              "if (notebookContainer) {{\n",
              "    x.observe(notebookContainer, {childList: true});\n",
              "}}\n",
              "\n",
              "// Listen for the clearing of the current output cell\n",
              "var outputEl = gd.closest('.output');\n",
              "if (outputEl) {{\n",
              "    x.observe(outputEl, {childList: true});\n",
              "}}\n",
              "\n",
              "                        })                };                            </script>        </div>\n",
              "</body>\n",
              "</html>"
            ]
          },
          "metadata": {}
        }
      ]
    },
    {
      "cell_type": "markdown",
      "source": [
        "***observations***:\n",
        "\n",
        "The v1 column, which indicates whether a message is spam or not, shows that the dataset is imbalanced with a higher frequency of 'ham' (non-spam) messages (4,825 occurrences) compared to 'spam' messages."
      ],
      "metadata": {
        "id": "hwPG6-iE9Xin"
      }
    },
    {
      "cell_type": "code",
      "source": [
        "#Convert labels to ham=0 and spam=1\n",
        "df[\"v1\"]=df[\"v1\"].apply(lambda x: 0 if x == \"ham\" else 1)\n",
        "df.head()"
      ],
      "metadata": {
        "colab": {
          "base_uri": "https://localhost:8080/",
          "height": 206
        },
        "id": "DqDCNwbMsR4w",
        "outputId": "7f85080e-a536-432a-8de2-fa3d61028aa3"
      },
      "execution_count": 6,
      "outputs": [
        {
          "output_type": "execute_result",
          "data": {
            "text/plain": [
              "   v1                                                 v2\n",
              "0   0  Go until jurong point, crazy.. Available only ...\n",
              "1   0                      Ok lar... Joking wif u oni...\n",
              "2   1  Free entry in 2 a wkly comp to win FA Cup fina...\n",
              "3   0  U dun say so early hor... U c already then say...\n",
              "4   0  Nah I don't think he goes to usf, he lives aro..."
            ],
            "text/html": [
              "\n",
              "  <div id=\"df-430ae355-790b-400d-89cd-a6c606630a34\" class=\"colab-df-container\">\n",
              "    <div>\n",
              "<style scoped>\n",
              "    .dataframe tbody tr th:only-of-type {\n",
              "        vertical-align: middle;\n",
              "    }\n",
              "\n",
              "    .dataframe tbody tr th {\n",
              "        vertical-align: top;\n",
              "    }\n",
              "\n",
              "    .dataframe thead th {\n",
              "        text-align: right;\n",
              "    }\n",
              "</style>\n",
              "<table border=\"1\" class=\"dataframe\">\n",
              "  <thead>\n",
              "    <tr style=\"text-align: right;\">\n",
              "      <th></th>\n",
              "      <th>v1</th>\n",
              "      <th>v2</th>\n",
              "    </tr>\n",
              "  </thead>\n",
              "  <tbody>\n",
              "    <tr>\n",
              "      <th>0</th>\n",
              "      <td>0</td>\n",
              "      <td>Go until jurong point, crazy.. Available only ...</td>\n",
              "    </tr>\n",
              "    <tr>\n",
              "      <th>1</th>\n",
              "      <td>0</td>\n",
              "      <td>Ok lar... Joking wif u oni...</td>\n",
              "    </tr>\n",
              "    <tr>\n",
              "      <th>2</th>\n",
              "      <td>1</td>\n",
              "      <td>Free entry in 2 a wkly comp to win FA Cup fina...</td>\n",
              "    </tr>\n",
              "    <tr>\n",
              "      <th>3</th>\n",
              "      <td>0</td>\n",
              "      <td>U dun say so early hor... U c already then say...</td>\n",
              "    </tr>\n",
              "    <tr>\n",
              "      <th>4</th>\n",
              "      <td>0</td>\n",
              "      <td>Nah I don't think he goes to usf, he lives aro...</td>\n",
              "    </tr>\n",
              "  </tbody>\n",
              "</table>\n",
              "</div>\n",
              "    <div class=\"colab-df-buttons\">\n",
              "\n",
              "  <div class=\"colab-df-container\">\n",
              "    <button class=\"colab-df-convert\" onclick=\"convertToInteractive('df-430ae355-790b-400d-89cd-a6c606630a34')\"\n",
              "            title=\"Convert this dataframe to an interactive table.\"\n",
              "            style=\"display:none;\">\n",
              "\n",
              "  <svg xmlns=\"http://www.w3.org/2000/svg\" height=\"24px\" viewBox=\"0 -960 960 960\">\n",
              "    <path d=\"M120-120v-720h720v720H120Zm60-500h600v-160H180v160Zm220 220h160v-160H400v160Zm0 220h160v-160H400v160ZM180-400h160v-160H180v160Zm440 0h160v-160H620v160ZM180-180h160v-160H180v160Zm440 0h160v-160H620v160Z\"/>\n",
              "  </svg>\n",
              "    </button>\n",
              "\n",
              "  <style>\n",
              "    .colab-df-container {\n",
              "      display:flex;\n",
              "      gap: 12px;\n",
              "    }\n",
              "\n",
              "    .colab-df-convert {\n",
              "      background-color: #E8F0FE;\n",
              "      border: none;\n",
              "      border-radius: 50%;\n",
              "      cursor: pointer;\n",
              "      display: none;\n",
              "      fill: #1967D2;\n",
              "      height: 32px;\n",
              "      padding: 0 0 0 0;\n",
              "      width: 32px;\n",
              "    }\n",
              "\n",
              "    .colab-df-convert:hover {\n",
              "      background-color: #E2EBFA;\n",
              "      box-shadow: 0px 1px 2px rgba(60, 64, 67, 0.3), 0px 1px 3px 1px rgba(60, 64, 67, 0.15);\n",
              "      fill: #174EA6;\n",
              "    }\n",
              "\n",
              "    .colab-df-buttons div {\n",
              "      margin-bottom: 4px;\n",
              "    }\n",
              "\n",
              "    [theme=dark] .colab-df-convert {\n",
              "      background-color: #3B4455;\n",
              "      fill: #D2E3FC;\n",
              "    }\n",
              "\n",
              "    [theme=dark] .colab-df-convert:hover {\n",
              "      background-color: #434B5C;\n",
              "      box-shadow: 0px 1px 3px 1px rgba(0, 0, 0, 0.15);\n",
              "      filter: drop-shadow(0px 1px 2px rgba(0, 0, 0, 0.3));\n",
              "      fill: #FFFFFF;\n",
              "    }\n",
              "  </style>\n",
              "\n",
              "    <script>\n",
              "      const buttonEl =\n",
              "        document.querySelector('#df-430ae355-790b-400d-89cd-a6c606630a34 button.colab-df-convert');\n",
              "      buttonEl.style.display =\n",
              "        google.colab.kernel.accessAllowed ? 'block' : 'none';\n",
              "\n",
              "      async function convertToInteractive(key) {\n",
              "        const element = document.querySelector('#df-430ae355-790b-400d-89cd-a6c606630a34');\n",
              "        const dataTable =\n",
              "          await google.colab.kernel.invokeFunction('convertToInteractive',\n",
              "                                                    [key], {});\n",
              "        if (!dataTable) return;\n",
              "\n",
              "        const docLinkHtml = 'Like what you see? Visit the ' +\n",
              "          '<a target=\"_blank\" href=https://colab.research.google.com/notebooks/data_table.ipynb>data table notebook</a>'\n",
              "          + ' to learn more about interactive tables.';\n",
              "        element.innerHTML = '';\n",
              "        dataTable['output_type'] = 'display_data';\n",
              "        await google.colab.output.renderOutput(dataTable, element);\n",
              "        const docLink = document.createElement('div');\n",
              "        docLink.innerHTML = docLinkHtml;\n",
              "        element.appendChild(docLink);\n",
              "      }\n",
              "    </script>\n",
              "  </div>\n",
              "\n",
              "\n",
              "<div id=\"df-6404e591-92d0-44a6-be5e-20df89ec628a\">\n",
              "  <button class=\"colab-df-quickchart\" onclick=\"quickchart('df-6404e591-92d0-44a6-be5e-20df89ec628a')\"\n",
              "            title=\"Suggest charts\"\n",
              "            style=\"display:none;\">\n",
              "\n",
              "<svg xmlns=\"http://www.w3.org/2000/svg\" height=\"24px\"viewBox=\"0 0 24 24\"\n",
              "     width=\"24px\">\n",
              "    <g>\n",
              "        <path d=\"M19 3H5c-1.1 0-2 .9-2 2v14c0 1.1.9 2 2 2h14c1.1 0 2-.9 2-2V5c0-1.1-.9-2-2-2zM9 17H7v-7h2v7zm4 0h-2V7h2v10zm4 0h-2v-4h2v4z\"/>\n",
              "    </g>\n",
              "</svg>\n",
              "  </button>\n",
              "\n",
              "<style>\n",
              "  .colab-df-quickchart {\n",
              "      --bg-color: #E8F0FE;\n",
              "      --fill-color: #1967D2;\n",
              "      --hover-bg-color: #E2EBFA;\n",
              "      --hover-fill-color: #174EA6;\n",
              "      --disabled-fill-color: #AAA;\n",
              "      --disabled-bg-color: #DDD;\n",
              "  }\n",
              "\n",
              "  [theme=dark] .colab-df-quickchart {\n",
              "      --bg-color: #3B4455;\n",
              "      --fill-color: #D2E3FC;\n",
              "      --hover-bg-color: #434B5C;\n",
              "      --hover-fill-color: #FFFFFF;\n",
              "      --disabled-bg-color: #3B4455;\n",
              "      --disabled-fill-color: #666;\n",
              "  }\n",
              "\n",
              "  .colab-df-quickchart {\n",
              "    background-color: var(--bg-color);\n",
              "    border: none;\n",
              "    border-radius: 50%;\n",
              "    cursor: pointer;\n",
              "    display: none;\n",
              "    fill: var(--fill-color);\n",
              "    height: 32px;\n",
              "    padding: 0;\n",
              "    width: 32px;\n",
              "  }\n",
              "\n",
              "  .colab-df-quickchart:hover {\n",
              "    background-color: var(--hover-bg-color);\n",
              "    box-shadow: 0 1px 2px rgba(60, 64, 67, 0.3), 0 1px 3px 1px rgba(60, 64, 67, 0.15);\n",
              "    fill: var(--button-hover-fill-color);\n",
              "  }\n",
              "\n",
              "  .colab-df-quickchart-complete:disabled,\n",
              "  .colab-df-quickchart-complete:disabled:hover {\n",
              "    background-color: var(--disabled-bg-color);\n",
              "    fill: var(--disabled-fill-color);\n",
              "    box-shadow: none;\n",
              "  }\n",
              "\n",
              "  .colab-df-spinner {\n",
              "    border: 2px solid var(--fill-color);\n",
              "    border-color: transparent;\n",
              "    border-bottom-color: var(--fill-color);\n",
              "    animation:\n",
              "      spin 1s steps(1) infinite;\n",
              "  }\n",
              "\n",
              "  @keyframes spin {\n",
              "    0% {\n",
              "      border-color: transparent;\n",
              "      border-bottom-color: var(--fill-color);\n",
              "      border-left-color: var(--fill-color);\n",
              "    }\n",
              "    20% {\n",
              "      border-color: transparent;\n",
              "      border-left-color: var(--fill-color);\n",
              "      border-top-color: var(--fill-color);\n",
              "    }\n",
              "    30% {\n",
              "      border-color: transparent;\n",
              "      border-left-color: var(--fill-color);\n",
              "      border-top-color: var(--fill-color);\n",
              "      border-right-color: var(--fill-color);\n",
              "    }\n",
              "    40% {\n",
              "      border-color: transparent;\n",
              "      border-right-color: var(--fill-color);\n",
              "      border-top-color: var(--fill-color);\n",
              "    }\n",
              "    60% {\n",
              "      border-color: transparent;\n",
              "      border-right-color: var(--fill-color);\n",
              "    }\n",
              "    80% {\n",
              "      border-color: transparent;\n",
              "      border-right-color: var(--fill-color);\n",
              "      border-bottom-color: var(--fill-color);\n",
              "    }\n",
              "    90% {\n",
              "      border-color: transparent;\n",
              "      border-bottom-color: var(--fill-color);\n",
              "    }\n",
              "  }\n",
              "</style>\n",
              "\n",
              "  <script>\n",
              "    async function quickchart(key) {\n",
              "      const quickchartButtonEl =\n",
              "        document.querySelector('#' + key + ' button');\n",
              "      quickchartButtonEl.disabled = true;  // To prevent multiple clicks.\n",
              "      quickchartButtonEl.classList.add('colab-df-spinner');\n",
              "      try {\n",
              "        const charts = await google.colab.kernel.invokeFunction(\n",
              "            'suggestCharts', [key], {});\n",
              "      } catch (error) {\n",
              "        console.error('Error during call to suggestCharts:', error);\n",
              "      }\n",
              "      quickchartButtonEl.classList.remove('colab-df-spinner');\n",
              "      quickchartButtonEl.classList.add('colab-df-quickchart-complete');\n",
              "    }\n",
              "    (() => {\n",
              "      let quickchartButtonEl =\n",
              "        document.querySelector('#df-6404e591-92d0-44a6-be5e-20df89ec628a button');\n",
              "      quickchartButtonEl.style.display =\n",
              "        google.colab.kernel.accessAllowed ? 'block' : 'none';\n",
              "    })();\n",
              "  </script>\n",
              "</div>\n",
              "    </div>\n",
              "  </div>\n"
            ]
          },
          "metadata": {},
          "execution_count": 6
        }
      ]
    },
    {
      "cell_type": "markdown",
      "source": [
        "## <u> Part 3 : Preprocessing"
      ],
      "metadata": {
        "id": "rZKaZWHeRD-_"
      }
    },
    {
      "cell_type": "markdown",
      "source": [
        "### <u> Clean up the character strings"
      ],
      "metadata": {
        "id": "jIadizpDWQ_3"
      }
    },
    {
      "cell_type": "markdown",
      "source": [
        "<u><h4>1.Download spaCy's English model"
      ],
      "metadata": {
        "id": "oTiKFimX1C_n"
      }
    },
    {
      "cell_type": "code",
      "source": [
        "# Download all language elements related to the English language\n",
        "\n",
        "print(\"Loading...\")\n",
        "! python -m spacy download en_core_web_md -q\n",
        "print(\"...Done\")"
      ],
      "metadata": {
        "colab": {
          "base_uri": "https://localhost:8080/"
        },
        "id": "kWx_5PduMBWW",
        "outputId": "58ec0bea-5430-40b3-c012-a2ae896fa16e"
      },
      "execution_count": 7,
      "outputs": [
        {
          "output_type": "stream",
          "name": "stdout",
          "text": [
            "Loading...\n",
            "\u001b[2K     \u001b[90m━━━━━━━━━━━━━━━━━━━━━━━━━━━━━━━━━━━━━━━━\u001b[0m \u001b[32m42.8/42.8 MB\u001b[0m \u001b[31m5.1 MB/s\u001b[0m eta \u001b[36m0:00:00\u001b[0m\n",
            "\u001b[?25h\u001b[38;5;2m✔ Download and installation successful\u001b[0m\n",
            "You can now load the package via spacy.load('en_core_web_md')\n",
            "\u001b[38;5;3m⚠ Restart to reload dependencies\u001b[0m\n",
            "If you are in a Jupyter or Colab notebook, you may need to restart Python in\n",
            "order to load all the package's dependencies. You can do this by selecting the\n",
            "'Restart kernel' or 'Restart runtime' option.\n",
            "...Done\n"
          ]
        }
      ]
    },
    {
      "cell_type": "code",
      "source": [
        "# Import Spacy and English initialisation into nlp variable\n",
        "\n",
        "print(\"Loading...\")\n",
        "import en_core_web_md\n",
        "nlp = en_core_web_md.load()\n",
        "print(\"...Done\")\n"
      ],
      "metadata": {
        "id": "LsY9vC_qMjsB",
        "colab": {
          "base_uri": "https://localhost:8080/"
        },
        "outputId": "5a92461a-a185-4b2f-df99-5d9ff337044f"
      },
      "execution_count": 8,
      "outputs": [
        {
          "output_type": "stream",
          "name": "stdout",
          "text": [
            "Loading...\n",
            "...Done\n"
          ]
        }
      ]
    },
    {
      "cell_type": "markdown",
      "source": [
        "<u><h4>2. Managing Stop Words in Text Analysis with spaCy"
      ],
      "metadata": {
        "id": "FvPn7zTNBtdS"
      }
    },
    {
      "cell_type": "code",
      "source": [
        "# Import English Stop Words\n",
        "from spacy.lang.en.stop_words import STOP_WORDS"
      ],
      "metadata": {
        "id": "NEz2GzRzNNOJ"
      },
      "execution_count": 9,
      "outputs": []
    },
    {
      "cell_type": "markdown",
      "source": [
        "<u><h4>3.Text Preprocessing for Analysis with spaCy"
      ],
      "metadata": {
        "id": "8aUmPLU_HVSM"
      }
    },
    {
      "cell_type": "code",
      "source": [
        "# Cleaning the texts in order to prepare them for training\n",
        "\n",
        "df[\"review_clean\"] = df[\"v2\"].apply(lambda x:''.join(ch for ch in x if ch.isalnum() or ch==\" \" or ch==\"'\" ))\n",
        "df[\"review_clean\"] = df[\"review_clean\"].apply(lambda x: x.replace(\" +\",\" \").lower().strip())\n",
        "df[\"review_clean\"] = df[\"review_clean\"].apply(lambda x: \" \".join([token.lemma_ for token in nlp(x) if (token.lemma_ not in STOP_WORDS) and (token.text not in STOP_WORDS)]))\n",
        "\n",
        "df.head()\n"
      ],
      "metadata": {
        "colab": {
          "base_uri": "https://localhost:8080/",
          "height": 206
        },
        "id": "yvqOfn6PXHDd",
        "outputId": "5eab642d-df76-4faf-87cc-60a775814fe7"
      },
      "execution_count": 10,
      "outputs": [
        {
          "output_type": "execute_result",
          "data": {
            "text/plain": [
              "   v1                                                 v2  \\\n",
              "0   0  Go until jurong point, crazy.. Available only ...   \n",
              "1   0                      Ok lar... Joking wif u oni...   \n",
              "2   1  Free entry in 2 a wkly comp to win FA Cup fina...   \n",
              "3   0  U dun say so early hor... U c already then say...   \n",
              "4   0  Nah I don't think he goes to usf, he lives aro...   \n",
              "\n",
              "                                        review_clean  \n",
              "0  jurong point crazy available bugis n great wor...  \n",
              "1                              ok lar joke wif u oni  \n",
              "2  free entry 2 wkly comp win fa cup final tkts 2...  \n",
              "3                                u dun early hor u c  \n",
              "4                                 nah think usf live  "
            ],
            "text/html": [
              "\n",
              "  <div id=\"df-3305b2e2-7fa2-4695-bd89-0cfdf8ab29de\" class=\"colab-df-container\">\n",
              "    <div>\n",
              "<style scoped>\n",
              "    .dataframe tbody tr th:only-of-type {\n",
              "        vertical-align: middle;\n",
              "    }\n",
              "\n",
              "    .dataframe tbody tr th {\n",
              "        vertical-align: top;\n",
              "    }\n",
              "\n",
              "    .dataframe thead th {\n",
              "        text-align: right;\n",
              "    }\n",
              "</style>\n",
              "<table border=\"1\" class=\"dataframe\">\n",
              "  <thead>\n",
              "    <tr style=\"text-align: right;\">\n",
              "      <th></th>\n",
              "      <th>v1</th>\n",
              "      <th>v2</th>\n",
              "      <th>review_clean</th>\n",
              "    </tr>\n",
              "  </thead>\n",
              "  <tbody>\n",
              "    <tr>\n",
              "      <th>0</th>\n",
              "      <td>0</td>\n",
              "      <td>Go until jurong point, crazy.. Available only ...</td>\n",
              "      <td>jurong point crazy available bugis n great wor...</td>\n",
              "    </tr>\n",
              "    <tr>\n",
              "      <th>1</th>\n",
              "      <td>0</td>\n",
              "      <td>Ok lar... Joking wif u oni...</td>\n",
              "      <td>ok lar joke wif u oni</td>\n",
              "    </tr>\n",
              "    <tr>\n",
              "      <th>2</th>\n",
              "      <td>1</td>\n",
              "      <td>Free entry in 2 a wkly comp to win FA Cup fina...</td>\n",
              "      <td>free entry 2 wkly comp win fa cup final tkts 2...</td>\n",
              "    </tr>\n",
              "    <tr>\n",
              "      <th>3</th>\n",
              "      <td>0</td>\n",
              "      <td>U dun say so early hor... U c already then say...</td>\n",
              "      <td>u dun early hor u c</td>\n",
              "    </tr>\n",
              "    <tr>\n",
              "      <th>4</th>\n",
              "      <td>0</td>\n",
              "      <td>Nah I don't think he goes to usf, he lives aro...</td>\n",
              "      <td>nah think usf live</td>\n",
              "    </tr>\n",
              "  </tbody>\n",
              "</table>\n",
              "</div>\n",
              "    <div class=\"colab-df-buttons\">\n",
              "\n",
              "  <div class=\"colab-df-container\">\n",
              "    <button class=\"colab-df-convert\" onclick=\"convertToInteractive('df-3305b2e2-7fa2-4695-bd89-0cfdf8ab29de')\"\n",
              "            title=\"Convert this dataframe to an interactive table.\"\n",
              "            style=\"display:none;\">\n",
              "\n",
              "  <svg xmlns=\"http://www.w3.org/2000/svg\" height=\"24px\" viewBox=\"0 -960 960 960\">\n",
              "    <path d=\"M120-120v-720h720v720H120Zm60-500h600v-160H180v160Zm220 220h160v-160H400v160Zm0 220h160v-160H400v160ZM180-400h160v-160H180v160Zm440 0h160v-160H620v160ZM180-180h160v-160H180v160Zm440 0h160v-160H620v160Z\"/>\n",
              "  </svg>\n",
              "    </button>\n",
              "\n",
              "  <style>\n",
              "    .colab-df-container {\n",
              "      display:flex;\n",
              "      gap: 12px;\n",
              "    }\n",
              "\n",
              "    .colab-df-convert {\n",
              "      background-color: #E8F0FE;\n",
              "      border: none;\n",
              "      border-radius: 50%;\n",
              "      cursor: pointer;\n",
              "      display: none;\n",
              "      fill: #1967D2;\n",
              "      height: 32px;\n",
              "      padding: 0 0 0 0;\n",
              "      width: 32px;\n",
              "    }\n",
              "\n",
              "    .colab-df-convert:hover {\n",
              "      background-color: #E2EBFA;\n",
              "      box-shadow: 0px 1px 2px rgba(60, 64, 67, 0.3), 0px 1px 3px 1px rgba(60, 64, 67, 0.15);\n",
              "      fill: #174EA6;\n",
              "    }\n",
              "\n",
              "    .colab-df-buttons div {\n",
              "      margin-bottom: 4px;\n",
              "    }\n",
              "\n",
              "    [theme=dark] .colab-df-convert {\n",
              "      background-color: #3B4455;\n",
              "      fill: #D2E3FC;\n",
              "    }\n",
              "\n",
              "    [theme=dark] .colab-df-convert:hover {\n",
              "      background-color: #434B5C;\n",
              "      box-shadow: 0px 1px 3px 1px rgba(0, 0, 0, 0.15);\n",
              "      filter: drop-shadow(0px 1px 2px rgba(0, 0, 0, 0.3));\n",
              "      fill: #FFFFFF;\n",
              "    }\n",
              "  </style>\n",
              "\n",
              "    <script>\n",
              "      const buttonEl =\n",
              "        document.querySelector('#df-3305b2e2-7fa2-4695-bd89-0cfdf8ab29de button.colab-df-convert');\n",
              "      buttonEl.style.display =\n",
              "        google.colab.kernel.accessAllowed ? 'block' : 'none';\n",
              "\n",
              "      async function convertToInteractive(key) {\n",
              "        const element = document.querySelector('#df-3305b2e2-7fa2-4695-bd89-0cfdf8ab29de');\n",
              "        const dataTable =\n",
              "          await google.colab.kernel.invokeFunction('convertToInteractive',\n",
              "                                                    [key], {});\n",
              "        if (!dataTable) return;\n",
              "\n",
              "        const docLinkHtml = 'Like what you see? Visit the ' +\n",
              "          '<a target=\"_blank\" href=https://colab.research.google.com/notebooks/data_table.ipynb>data table notebook</a>'\n",
              "          + ' to learn more about interactive tables.';\n",
              "        element.innerHTML = '';\n",
              "        dataTable['output_type'] = 'display_data';\n",
              "        await google.colab.output.renderOutput(dataTable, element);\n",
              "        const docLink = document.createElement('div');\n",
              "        docLink.innerHTML = docLinkHtml;\n",
              "        element.appendChild(docLink);\n",
              "      }\n",
              "    </script>\n",
              "  </div>\n",
              "\n",
              "\n",
              "<div id=\"df-899164d3-d228-4b0f-8b41-f8a93795e128\">\n",
              "  <button class=\"colab-df-quickchart\" onclick=\"quickchart('df-899164d3-d228-4b0f-8b41-f8a93795e128')\"\n",
              "            title=\"Suggest charts\"\n",
              "            style=\"display:none;\">\n",
              "\n",
              "<svg xmlns=\"http://www.w3.org/2000/svg\" height=\"24px\"viewBox=\"0 0 24 24\"\n",
              "     width=\"24px\">\n",
              "    <g>\n",
              "        <path d=\"M19 3H5c-1.1 0-2 .9-2 2v14c0 1.1.9 2 2 2h14c1.1 0 2-.9 2-2V5c0-1.1-.9-2-2-2zM9 17H7v-7h2v7zm4 0h-2V7h2v10zm4 0h-2v-4h2v4z\"/>\n",
              "    </g>\n",
              "</svg>\n",
              "  </button>\n",
              "\n",
              "<style>\n",
              "  .colab-df-quickchart {\n",
              "      --bg-color: #E8F0FE;\n",
              "      --fill-color: #1967D2;\n",
              "      --hover-bg-color: #E2EBFA;\n",
              "      --hover-fill-color: #174EA6;\n",
              "      --disabled-fill-color: #AAA;\n",
              "      --disabled-bg-color: #DDD;\n",
              "  }\n",
              "\n",
              "  [theme=dark] .colab-df-quickchart {\n",
              "      --bg-color: #3B4455;\n",
              "      --fill-color: #D2E3FC;\n",
              "      --hover-bg-color: #434B5C;\n",
              "      --hover-fill-color: #FFFFFF;\n",
              "      --disabled-bg-color: #3B4455;\n",
              "      --disabled-fill-color: #666;\n",
              "  }\n",
              "\n",
              "  .colab-df-quickchart {\n",
              "    background-color: var(--bg-color);\n",
              "    border: none;\n",
              "    border-radius: 50%;\n",
              "    cursor: pointer;\n",
              "    display: none;\n",
              "    fill: var(--fill-color);\n",
              "    height: 32px;\n",
              "    padding: 0;\n",
              "    width: 32px;\n",
              "  }\n",
              "\n",
              "  .colab-df-quickchart:hover {\n",
              "    background-color: var(--hover-bg-color);\n",
              "    box-shadow: 0 1px 2px rgba(60, 64, 67, 0.3), 0 1px 3px 1px rgba(60, 64, 67, 0.15);\n",
              "    fill: var(--button-hover-fill-color);\n",
              "  }\n",
              "\n",
              "  .colab-df-quickchart-complete:disabled,\n",
              "  .colab-df-quickchart-complete:disabled:hover {\n",
              "    background-color: var(--disabled-bg-color);\n",
              "    fill: var(--disabled-fill-color);\n",
              "    box-shadow: none;\n",
              "  }\n",
              "\n",
              "  .colab-df-spinner {\n",
              "    border: 2px solid var(--fill-color);\n",
              "    border-color: transparent;\n",
              "    border-bottom-color: var(--fill-color);\n",
              "    animation:\n",
              "      spin 1s steps(1) infinite;\n",
              "  }\n",
              "\n",
              "  @keyframes spin {\n",
              "    0% {\n",
              "      border-color: transparent;\n",
              "      border-bottom-color: var(--fill-color);\n",
              "      border-left-color: var(--fill-color);\n",
              "    }\n",
              "    20% {\n",
              "      border-color: transparent;\n",
              "      border-left-color: var(--fill-color);\n",
              "      border-top-color: var(--fill-color);\n",
              "    }\n",
              "    30% {\n",
              "      border-color: transparent;\n",
              "      border-left-color: var(--fill-color);\n",
              "      border-top-color: var(--fill-color);\n",
              "      border-right-color: var(--fill-color);\n",
              "    }\n",
              "    40% {\n",
              "      border-color: transparent;\n",
              "      border-right-color: var(--fill-color);\n",
              "      border-top-color: var(--fill-color);\n",
              "    }\n",
              "    60% {\n",
              "      border-color: transparent;\n",
              "      border-right-color: var(--fill-color);\n",
              "    }\n",
              "    80% {\n",
              "      border-color: transparent;\n",
              "      border-right-color: var(--fill-color);\n",
              "      border-bottom-color: var(--fill-color);\n",
              "    }\n",
              "    90% {\n",
              "      border-color: transparent;\n",
              "      border-bottom-color: var(--fill-color);\n",
              "    }\n",
              "  }\n",
              "</style>\n",
              "\n",
              "  <script>\n",
              "    async function quickchart(key) {\n",
              "      const quickchartButtonEl =\n",
              "        document.querySelector('#' + key + ' button');\n",
              "      quickchartButtonEl.disabled = true;  // To prevent multiple clicks.\n",
              "      quickchartButtonEl.classList.add('colab-df-spinner');\n",
              "      try {\n",
              "        const charts = await google.colab.kernel.invokeFunction(\n",
              "            'suggestCharts', [key], {});\n",
              "      } catch (error) {\n",
              "        console.error('Error during call to suggestCharts:', error);\n",
              "      }\n",
              "      quickchartButtonEl.classList.remove('colab-df-spinner');\n",
              "      quickchartButtonEl.classList.add('colab-df-quickchart-complete');\n",
              "    }\n",
              "    (() => {\n",
              "      let quickchartButtonEl =\n",
              "        document.querySelector('#df-899164d3-d228-4b0f-8b41-f8a93795e128 button');\n",
              "      quickchartButtonEl.style.display =\n",
              "        google.colab.kernel.accessAllowed ? 'block' : 'none';\n",
              "    })();\n",
              "  </script>\n",
              "</div>\n",
              "    </div>\n",
              "  </div>\n"
            ]
          },
          "metadata": {},
          "execution_count": 10
        }
      ]
    },
    {
      "cell_type": "markdown",
      "source": [
        "<u><h4>4.Data Filtering with Type Checking"
      ],
      "metadata": {
        "id": "0pxwE26mKQCG"
      }
    },
    {
      "cell_type": "code",
      "source": [
        "print(\" Data string filtering ...\")\n",
        "mask= df.review_clean.apply(lambda x: type(x) == str)\n",
        "mask.value_counts()\n",
        "print(\"...Done\")"
      ],
      "metadata": {
        "colab": {
          "base_uri": "https://localhost:8080/"
        },
        "id": "hc7t7xlIRlR7",
        "outputId": "3713e59a-bf4f-494e-b1f6-4d368651adfc"
      },
      "execution_count": 31,
      "outputs": [
        {
          "output_type": "stream",
          "name": "stdout",
          "text": [
            " Data string filtering ...\n",
            "...Done\n"
          ]
        }
      ]
    },
    {
      "cell_type": "markdown",
      "source": [
        "***observations***:\n",
        "\n",
        "All 5572 rows in the review_clean column are strings, confirming data uniformity and readiness for text processing with no rows excluded.\""
      ],
      "metadata": {
        "id": "9JAvSVXDLp65"
      }
    },
    {
      "cell_type": "markdown",
      "source": [
        "### <u>Comprehensive Data Preparation for NLP"
      ],
      "metadata": {
        "id": "uAllqfKZT8m4"
      }
    },
    {
      "cell_type": "markdown",
      "source": [
        "<u><h4>1.Encoding all the reviews"
      ],
      "metadata": {
        "id": "NRTFJj2tWnx6"
      }
    },
    {
      "cell_type": "code",
      "source": [
        "#Instanciate the tokenizer and text encoding\n",
        "\n",
        "print(\"Tokenizing and encoding...\")\n",
        "tokenizer = tf.keras.preprocessing.text.Tokenizer ( num_words= 1000, oov_token=\"out_of_vocab\")\n",
        "tokenizer.fit_on_texts(df[\"review_clean\"])\n",
        "df[\"review_encoded\"] = tokenizer.texts_to_sequences(df[\"review_clean\"])\n",
        "print(\"...Done\")"
      ],
      "metadata": {
        "id": "hPTU5FOFTOH3",
        "colab": {
          "base_uri": "https://localhost:8080/"
        },
        "outputId": "e7dd76b1-27e8-4ac1-ef60-b43e3fb99925"
      },
      "execution_count": 12,
      "outputs": [
        {
          "output_type": "stream",
          "name": "stdout",
          "text": [
            "Tokenizing and encoding...\n",
            "...Done\n"
          ]
        }
      ]
    },
    {
      "cell_type": "code",
      "source": [
        "df.head()"
      ],
      "metadata": {
        "id": "xNzPuX9eUwhv",
        "outputId": "84155274-26a6-4a75-ded4-9c85682fad37",
        "colab": {
          "base_uri": "https://localhost:8080/",
          "height": 206
        }
      },
      "execution_count": 13,
      "outputs": [
        {
          "output_type": "execute_result",
          "data": {
            "text/plain": [
              "   v1                                                 v2  \\\n",
              "0   0  Go until jurong point, crazy.. Available only ...   \n",
              "1   0                      Ok lar... Joking wif u oni...   \n",
              "2   1  Free entry in 2 a wkly comp to win FA Cup fina...   \n",
              "3   0  U dun say so early hor... U c already then say...   \n",
              "4   0  Nah I don't think he goes to usf, he lives aro...   \n",
              "\n",
              "                                        review_clean  \\\n",
              "0  jurong point crazy available bugis n great wor...   \n",
              "1                              ok lar joke wif u oni   \n",
              "2  free entry 2 wkly comp win fa cup final tkts 2...   \n",
              "3                                u dun early hor u c   \n",
              "4                                 nah think usf live   \n",
              "\n",
              "                                      review_encoded  \n",
              "0  [1, 232, 446, 462, 939, 32, 50, 206, 940, 78, ...  \n",
              "1                           [8, 195, 463, 290, 2, 1]  \n",
              "2  [10, 302, 3, 528, 657, 30, 1, 842, 423, 1, 1, ...  \n",
              "3                            [2, 125, 149, 1, 2, 79]  \n",
              "4                                [702, 20, 658, 130]  "
            ],
            "text/html": [
              "\n",
              "  <div id=\"df-131783a4-6675-4813-a79b-9bf1eaf6208b\" class=\"colab-df-container\">\n",
              "    <div>\n",
              "<style scoped>\n",
              "    .dataframe tbody tr th:only-of-type {\n",
              "        vertical-align: middle;\n",
              "    }\n",
              "\n",
              "    .dataframe tbody tr th {\n",
              "        vertical-align: top;\n",
              "    }\n",
              "\n",
              "    .dataframe thead th {\n",
              "        text-align: right;\n",
              "    }\n",
              "</style>\n",
              "<table border=\"1\" class=\"dataframe\">\n",
              "  <thead>\n",
              "    <tr style=\"text-align: right;\">\n",
              "      <th></th>\n",
              "      <th>v1</th>\n",
              "      <th>v2</th>\n",
              "      <th>review_clean</th>\n",
              "      <th>review_encoded</th>\n",
              "    </tr>\n",
              "  </thead>\n",
              "  <tbody>\n",
              "    <tr>\n",
              "      <th>0</th>\n",
              "      <td>0</td>\n",
              "      <td>Go until jurong point, crazy.. Available only ...</td>\n",
              "      <td>jurong point crazy available bugis n great wor...</td>\n",
              "      <td>[1, 232, 446, 462, 939, 32, 50, 206, 940, 78, ...</td>\n",
              "    </tr>\n",
              "    <tr>\n",
              "      <th>1</th>\n",
              "      <td>0</td>\n",
              "      <td>Ok lar... Joking wif u oni...</td>\n",
              "      <td>ok lar joke wif u oni</td>\n",
              "      <td>[8, 195, 463, 290, 2, 1]</td>\n",
              "    </tr>\n",
              "    <tr>\n",
              "      <th>2</th>\n",
              "      <td>1</td>\n",
              "      <td>Free entry in 2 a wkly comp to win FA Cup fina...</td>\n",
              "      <td>free entry 2 wkly comp win fa cup final tkts 2...</td>\n",
              "      <td>[10, 302, 3, 528, 657, 30, 1, 842, 423, 1, 1, ...</td>\n",
              "    </tr>\n",
              "    <tr>\n",
              "      <th>3</th>\n",
              "      <td>0</td>\n",
              "      <td>U dun say so early hor... U c already then say...</td>\n",
              "      <td>u dun early hor u c</td>\n",
              "      <td>[2, 125, 149, 1, 2, 79]</td>\n",
              "    </tr>\n",
              "    <tr>\n",
              "      <th>4</th>\n",
              "      <td>0</td>\n",
              "      <td>Nah I don't think he goes to usf, he lives aro...</td>\n",
              "      <td>nah think usf live</td>\n",
              "      <td>[702, 20, 658, 130]</td>\n",
              "    </tr>\n",
              "  </tbody>\n",
              "</table>\n",
              "</div>\n",
              "    <div class=\"colab-df-buttons\">\n",
              "\n",
              "  <div class=\"colab-df-container\">\n",
              "    <button class=\"colab-df-convert\" onclick=\"convertToInteractive('df-131783a4-6675-4813-a79b-9bf1eaf6208b')\"\n",
              "            title=\"Convert this dataframe to an interactive table.\"\n",
              "            style=\"display:none;\">\n",
              "\n",
              "  <svg xmlns=\"http://www.w3.org/2000/svg\" height=\"24px\" viewBox=\"0 -960 960 960\">\n",
              "    <path d=\"M120-120v-720h720v720H120Zm60-500h600v-160H180v160Zm220 220h160v-160H400v160Zm0 220h160v-160H400v160ZM180-400h160v-160H180v160Zm440 0h160v-160H620v160ZM180-180h160v-160H180v160Zm440 0h160v-160H620v160Z\"/>\n",
              "  </svg>\n",
              "    </button>\n",
              "\n",
              "  <style>\n",
              "    .colab-df-container {\n",
              "      display:flex;\n",
              "      gap: 12px;\n",
              "    }\n",
              "\n",
              "    .colab-df-convert {\n",
              "      background-color: #E8F0FE;\n",
              "      border: none;\n",
              "      border-radius: 50%;\n",
              "      cursor: pointer;\n",
              "      display: none;\n",
              "      fill: #1967D2;\n",
              "      height: 32px;\n",
              "      padding: 0 0 0 0;\n",
              "      width: 32px;\n",
              "    }\n",
              "\n",
              "    .colab-df-convert:hover {\n",
              "      background-color: #E2EBFA;\n",
              "      box-shadow: 0px 1px 2px rgba(60, 64, 67, 0.3), 0px 1px 3px 1px rgba(60, 64, 67, 0.15);\n",
              "      fill: #174EA6;\n",
              "    }\n",
              "\n",
              "    .colab-df-buttons div {\n",
              "      margin-bottom: 4px;\n",
              "    }\n",
              "\n",
              "    [theme=dark] .colab-df-convert {\n",
              "      background-color: #3B4455;\n",
              "      fill: #D2E3FC;\n",
              "    }\n",
              "\n",
              "    [theme=dark] .colab-df-convert:hover {\n",
              "      background-color: #434B5C;\n",
              "      box-shadow: 0px 1px 3px 1px rgba(0, 0, 0, 0.15);\n",
              "      filter: drop-shadow(0px 1px 2px rgba(0, 0, 0, 0.3));\n",
              "      fill: #FFFFFF;\n",
              "    }\n",
              "  </style>\n",
              "\n",
              "    <script>\n",
              "      const buttonEl =\n",
              "        document.querySelector('#df-131783a4-6675-4813-a79b-9bf1eaf6208b button.colab-df-convert');\n",
              "      buttonEl.style.display =\n",
              "        google.colab.kernel.accessAllowed ? 'block' : 'none';\n",
              "\n",
              "      async function convertToInteractive(key) {\n",
              "        const element = document.querySelector('#df-131783a4-6675-4813-a79b-9bf1eaf6208b');\n",
              "        const dataTable =\n",
              "          await google.colab.kernel.invokeFunction('convertToInteractive',\n",
              "                                                    [key], {});\n",
              "        if (!dataTable) return;\n",
              "\n",
              "        const docLinkHtml = 'Like what you see? Visit the ' +\n",
              "          '<a target=\"_blank\" href=https://colab.research.google.com/notebooks/data_table.ipynb>data table notebook</a>'\n",
              "          + ' to learn more about interactive tables.';\n",
              "        element.innerHTML = '';\n",
              "        dataTable['output_type'] = 'display_data';\n",
              "        await google.colab.output.renderOutput(dataTable, element);\n",
              "        const docLink = document.createElement('div');\n",
              "        docLink.innerHTML = docLinkHtml;\n",
              "        element.appendChild(docLink);\n",
              "      }\n",
              "    </script>\n",
              "  </div>\n",
              "\n",
              "\n",
              "<div id=\"df-07344778-b60b-42a6-a62f-930441896ce3\">\n",
              "  <button class=\"colab-df-quickchart\" onclick=\"quickchart('df-07344778-b60b-42a6-a62f-930441896ce3')\"\n",
              "            title=\"Suggest charts\"\n",
              "            style=\"display:none;\">\n",
              "\n",
              "<svg xmlns=\"http://www.w3.org/2000/svg\" height=\"24px\"viewBox=\"0 0 24 24\"\n",
              "     width=\"24px\">\n",
              "    <g>\n",
              "        <path d=\"M19 3H5c-1.1 0-2 .9-2 2v14c0 1.1.9 2 2 2h14c1.1 0 2-.9 2-2V5c0-1.1-.9-2-2-2zM9 17H7v-7h2v7zm4 0h-2V7h2v10zm4 0h-2v-4h2v4z\"/>\n",
              "    </g>\n",
              "</svg>\n",
              "  </button>\n",
              "\n",
              "<style>\n",
              "  .colab-df-quickchart {\n",
              "      --bg-color: #E8F0FE;\n",
              "      --fill-color: #1967D2;\n",
              "      --hover-bg-color: #E2EBFA;\n",
              "      --hover-fill-color: #174EA6;\n",
              "      --disabled-fill-color: #AAA;\n",
              "      --disabled-bg-color: #DDD;\n",
              "  }\n",
              "\n",
              "  [theme=dark] .colab-df-quickchart {\n",
              "      --bg-color: #3B4455;\n",
              "      --fill-color: #D2E3FC;\n",
              "      --hover-bg-color: #434B5C;\n",
              "      --hover-fill-color: #FFFFFF;\n",
              "      --disabled-bg-color: #3B4455;\n",
              "      --disabled-fill-color: #666;\n",
              "  }\n",
              "\n",
              "  .colab-df-quickchart {\n",
              "    background-color: var(--bg-color);\n",
              "    border: none;\n",
              "    border-radius: 50%;\n",
              "    cursor: pointer;\n",
              "    display: none;\n",
              "    fill: var(--fill-color);\n",
              "    height: 32px;\n",
              "    padding: 0;\n",
              "    width: 32px;\n",
              "  }\n",
              "\n",
              "  .colab-df-quickchart:hover {\n",
              "    background-color: var(--hover-bg-color);\n",
              "    box-shadow: 0 1px 2px rgba(60, 64, 67, 0.3), 0 1px 3px 1px rgba(60, 64, 67, 0.15);\n",
              "    fill: var(--button-hover-fill-color);\n",
              "  }\n",
              "\n",
              "  .colab-df-quickchart-complete:disabled,\n",
              "  .colab-df-quickchart-complete:disabled:hover {\n",
              "    background-color: var(--disabled-bg-color);\n",
              "    fill: var(--disabled-fill-color);\n",
              "    box-shadow: none;\n",
              "  }\n",
              "\n",
              "  .colab-df-spinner {\n",
              "    border: 2px solid var(--fill-color);\n",
              "    border-color: transparent;\n",
              "    border-bottom-color: var(--fill-color);\n",
              "    animation:\n",
              "      spin 1s steps(1) infinite;\n",
              "  }\n",
              "\n",
              "  @keyframes spin {\n",
              "    0% {\n",
              "      border-color: transparent;\n",
              "      border-bottom-color: var(--fill-color);\n",
              "      border-left-color: var(--fill-color);\n",
              "    }\n",
              "    20% {\n",
              "      border-color: transparent;\n",
              "      border-left-color: var(--fill-color);\n",
              "      border-top-color: var(--fill-color);\n",
              "    }\n",
              "    30% {\n",
              "      border-color: transparent;\n",
              "      border-left-color: var(--fill-color);\n",
              "      border-top-color: var(--fill-color);\n",
              "      border-right-color: var(--fill-color);\n",
              "    }\n",
              "    40% {\n",
              "      border-color: transparent;\n",
              "      border-right-color: var(--fill-color);\n",
              "      border-top-color: var(--fill-color);\n",
              "    }\n",
              "    60% {\n",
              "      border-color: transparent;\n",
              "      border-right-color: var(--fill-color);\n",
              "    }\n",
              "    80% {\n",
              "      border-color: transparent;\n",
              "      border-right-color: var(--fill-color);\n",
              "      border-bottom-color: var(--fill-color);\n",
              "    }\n",
              "    90% {\n",
              "      border-color: transparent;\n",
              "      border-bottom-color: var(--fill-color);\n",
              "    }\n",
              "  }\n",
              "</style>\n",
              "\n",
              "  <script>\n",
              "    async function quickchart(key) {\n",
              "      const quickchartButtonEl =\n",
              "        document.querySelector('#' + key + ' button');\n",
              "      quickchartButtonEl.disabled = true;  // To prevent multiple clicks.\n",
              "      quickchartButtonEl.classList.add('colab-df-spinner');\n",
              "      try {\n",
              "        const charts = await google.colab.kernel.invokeFunction(\n",
              "            'suggestCharts', [key], {});\n",
              "      } catch (error) {\n",
              "        console.error('Error during call to suggestCharts:', error);\n",
              "      }\n",
              "      quickchartButtonEl.classList.remove('colab-df-spinner');\n",
              "      quickchartButtonEl.classList.add('colab-df-quickchart-complete');\n",
              "    }\n",
              "    (() => {\n",
              "      let quickchartButtonEl =\n",
              "        document.querySelector('#df-07344778-b60b-42a6-a62f-930441896ce3 button');\n",
              "      quickchartButtonEl.style.display =\n",
              "        google.colab.kernel.accessAllowed ? 'block' : 'none';\n",
              "    })();\n",
              "  </script>\n",
              "</div>\n",
              "    </div>\n",
              "  </div>\n"
            ]
          },
          "metadata": {},
          "execution_count": 13
        }
      ]
    },
    {
      "cell_type": "markdown",
      "source": [
        "<u><h4>2.Padding"
      ],
      "metadata": {
        "id": "1cednQ-1Nl-7"
      }
    },
    {
      "cell_type": "code",
      "source": [
        "# Normalizing the lengths' sequences\n",
        "\n",
        "print(\" Adjusting the review_encoded to the same length...\")\n",
        "reviews_pad = tf.keras.preprocessing.sequence.pad_sequences(df.review_encoded, padding=\"post\")\n",
        "print(\"...Done\")"
      ],
      "metadata": {
        "colab": {
          "base_uri": "https://localhost:8080/"
        },
        "id": "2E1Z5iRDf4Bj",
        "outputId": "4794df1b-aa58-4e5c-99e2-357bd0b5ebf0"
      },
      "execution_count": 14,
      "outputs": [
        {
          "output_type": "stream",
          "name": "stdout",
          "text": [
            " Adjusting the review_encoded to the same length...\n",
            "...Done\n"
          ]
        }
      ]
    },
    {
      "cell_type": "markdown",
      "source": [
        "<u><h4>3.Train_test_split using sklearn"
      ],
      "metadata": {
        "id": "kBafM06cParD"
      }
    },
    {
      "cell_type": "code",
      "source": [
        "#Train Test Split\n",
        "print(\"Split data into training and validation sets...\")\n",
        "x_train, x_val, y_train, y_val = train_test_split(reviews_pad, df[\"v1\"], test_size=0.3)\n",
        "print(\"...Done\")"
      ],
      "metadata": {
        "colab": {
          "base_uri": "https://localhost:8080/"
        },
        "id": "QotAseLlcSHY",
        "outputId": "4587a048-b65f-4361-c6fb-607ab0c621b6"
      },
      "execution_count": 15,
      "outputs": [
        {
          "output_type": "stream",
          "name": "stdout",
          "text": [
            "Split data into training and validation sets...\n",
            "...Done\n"
          ]
        }
      ]
    },
    {
      "cell_type": "markdown",
      "source": [
        "<u><h4>4.Create a Tensor dataset"
      ],
      "metadata": {
        "id": "EptXpl2ZO5Be"
      }
    },
    {
      "cell_type": "code",
      "source": [
        "print(\"Creating TensorFlow Dataset Objects for Train and Val...\")\n",
        "train = tf.data.Dataset.from_tensor_slices((x_train, y_train))\n",
        "val = tf.data.Dataset.from_tensor_slices((x_val, y_val))\n",
        "print(\"...Done\")"
      ],
      "metadata": {
        "colab": {
          "base_uri": "https://localhost:8080/"
        },
        "id": "yIz0nYOFffuv",
        "outputId": "6fb81470-f70f-4503-c17d-e1ca5fcc90c1"
      },
      "execution_count": 16,
      "outputs": [
        {
          "output_type": "stream",
          "name": "stdout",
          "text": [
            "Creating TensorFlow Dataset Objects for Train and Val...\n",
            "...Done\n"
          ]
        }
      ]
    },
    {
      "cell_type": "markdown",
      "source": [
        "<u><h4>5.Batching and Shuffling"
      ],
      "metadata": {
        "id": "sNn8DKJKOzDs"
      }
    },
    {
      "cell_type": "code",
      "source": [
        "#Batching and Shuffling the training and validation data\n",
        "train_batch = train.shuffle(len(train)).batch(64)\n",
        "val_batch = val.shuffle(len(val)).batch(64)"
      ],
      "metadata": {
        "id": "qk316dQLm24l"
      },
      "execution_count": 17,
      "outputs": []
    },
    {
      "cell_type": "code",
      "source": [
        "#Visualizing a batch of data\n",
        "for review_encoded, v1 in train_batch.take(1):\n",
        "  print(review_encoded.numpy(), v1.numpy())\n"
      ],
      "metadata": {
        "colab": {
          "base_uri": "https://localhost:8080/"
        },
        "id": "W5Ah07rIaWTO",
        "outputId": "c62a45b5-2845-4cb9-d334-0bf07df32cde"
      },
      "execution_count": 18,
      "outputs": [
        {
          "output_type": "stream",
          "name": "stdout",
          "text": [
            "[[ 20 130  11 ...   0   0   0]\n",
            " [  4 182  30 ...   0   0   0]\n",
            " [174   8  23 ...   0   0   0]\n",
            " ...\n",
            " [234   1  58 ...   0   0   0]\n",
            " [  1  31 153 ...   0   0   0]\n",
            " [ 27  39   1 ...   0   0   0]] [1 1 0 0 1 1 0 1 0 0 0 0 0 0 0 0 0 0 0 0 1 1 0 0 0 0 0 0 0 0 0 0 0 0 0 1 1\n",
            " 0 0 0 0 0 0 0 0 0 0 1 0 0 0 0 1 1 1 0 0 0 1 0 0 0 1 0]\n"
          ]
        }
      ]
    },
    {
      "cell_type": "markdown",
      "source": [
        "## <u> Part 4 : Modeling"
      ],
      "metadata": {
        "id": "b7UbhE6pD43S"
      }
    },
    {
      "cell_type": "markdown",
      "source": [
        "### <u> First Model : Global Average Pooling"
      ],
      "metadata": {
        "id": "fLEOHk5GTnZ5"
      }
    },
    {
      "cell_type": "markdown",
      "source": [
        "<u><h4> 1. Building"
      ],
      "metadata": {
        "id": "DqSHYNIxj-Wd"
      }
    },
    {
      "cell_type": "code",
      "source": [
        "# Create a model\n",
        "vocab_size = tokenizer.num_words\n",
        "model = tf.keras.Sequential([\n",
        "    # Couche d'Input Word Embedding\n",
        "    tf.keras.layers.Embedding(vocab_size+1, 8, input_shape=[reviews_pad.shape[1],], name=\"embedding\"),\n",
        "    # Global average pooling\n",
        "    tf.keras.layers.GlobalAveragePooling1D(),\n",
        "    # Couche Dense classique\n",
        "    tf.keras.layers.Dense(16, activation='relu'),\n",
        "    # Couche de sortie avec le nombre de neurones en sortie égale au nombre de classe avec fonction softmax\n",
        "    tf.keras.layers.Dense(1, activation=\"sigmoid\")\n",
        "])\n"
      ],
      "metadata": {
        "id": "yfKaVh9MD4Yk"
      },
      "execution_count": 19,
      "outputs": []
    },
    {
      "cell_type": "code",
      "source": [
        "model.summary()"
      ],
      "metadata": {
        "colab": {
          "base_uri": "https://localhost:8080/"
        },
        "id": "48CkAoP4iQCa",
        "outputId": "9d1a9ed6-d777-499b-c52d-0a8302bdbfcc"
      },
      "execution_count": 20,
      "outputs": [
        {
          "output_type": "stream",
          "name": "stdout",
          "text": [
            "Model: \"sequential\"\n",
            "_________________________________________________________________\n",
            " Layer (type)                Output Shape              Param #   \n",
            "=================================================================\n",
            " embedding (Embedding)       (None, 74, 8)             8008      \n",
            "                                                                 \n",
            " global_average_pooling1d (  (None, 8)                 0         \n",
            " GlobalAveragePooling1D)                                         \n",
            "                                                                 \n",
            " dense (Dense)               (None, 16)                144       \n",
            "                                                                 \n",
            " dense_1 (Dense)             (None, 1)                 17        \n",
            "                                                                 \n",
            "=================================================================\n",
            "Total params: 8169 (31.91 KB)\n",
            "Trainable params: 8169 (31.91 KB)\n",
            "Non-trainable params: 0 (0.00 Byte)\n",
            "_________________________________________________________________\n"
          ]
        }
      ]
    },
    {
      "cell_type": "markdown",
      "source": [
        "***observations:***\n",
        "\n",
        "\n",
        "\n",
        "1.   Embedding Layer :\n",
        "*   Each word is represented by a vector of 8 elements.\n",
        "*   For each input, this layer produces an output of shape 74x8 where 74 is the length of the input sequences.\n",
        "*  The number of parameters \"8008\" in this layer is calculated as the number of words in the vocabulary.\n",
        "\n",
        "2.   Global Average Pooling 1D Layer\n",
        "*   This layer reduces each example from its 74x8 dimension to a 1x8 dimension\n",
        "*   The output of this layer is a vector of size 8 for each review.\n",
        "*   Param: 0. This layer has no learnable parameters.\n",
        "\n",
        "\n",
        "3.   First Dense Layer\n",
        "*   It is a fully connected layer with 16 units.\n",
        "*   The output is a vector of size 16 for each review.\n",
        "*   Param : 144 either (8 * 16) + 16 = 144\n",
        "\n",
        "4.   Second Dense Layer (Output Layer)\n",
        "*   It is the output layer with a single unit for binary classification.\n",
        "*   The output is a scalar value representing the probability that the input belongs to the positive class.\n",
        "*   Param: 17 either (16 * 1) + 1 = 17.\n",
        "\n"
      ],
      "metadata": {
        "id": "083KAgRFmK9X"
      }
    },
    {
      "cell_type": "markdown",
      "source": [
        "<u><h4> 2.Compiling the model"
      ],
      "metadata": {
        "id": "4a_qyZyCevIQ"
      }
    },
    {
      "cell_type": "code",
      "source": [
        "#Compiling with Adam optimizer and Binary CrossEntropy Loss\n",
        "optimizer= tf.keras.optimizers.Adam()\n",
        "model.compile(optimizer=optimizer,\n",
        "              loss=tf.keras.losses.BinaryCrossentropy(),\n",
        "              metrics=[tf.keras.metrics.BinaryAccuracy()])\n"
      ],
      "metadata": {
        "id": "ukAgv4A2trZv"
      },
      "execution_count": 21,
      "outputs": []
    },
    {
      "cell_type": "markdown",
      "source": [
        "<u><h4> 3. Training the model"
      ],
      "metadata": {
        "id": "8Ypu3JWVhEvA"
      }
    },
    {
      "cell_type": "code",
      "source": [
        "# Fit the model on 50 epochs\n",
        "history = model.fit(train_batch, epochs=50, validation_data=val_batch)\n"
      ],
      "metadata": {
        "colab": {
          "base_uri": "https://localhost:8080/"
        },
        "id": "bD36Ale3hBzq",
        "outputId": "efe350a9-248e-406c-bbbd-c4c23db65030"
      },
      "execution_count": 22,
      "outputs": [
        {
          "output_type": "stream",
          "name": "stdout",
          "text": [
            "Epoch 1/50\n",
            "61/61 [==============================] - 3s 13ms/step - loss: 0.6138 - binary_accuracy: 0.8644 - val_loss: 0.5316 - val_binary_accuracy: 0.8696\n",
            "Epoch 2/50\n",
            "61/61 [==============================] - 1s 9ms/step - loss: 0.4591 - binary_accuracy: 0.8644 - val_loss: 0.3924 - val_binary_accuracy: 0.8696\n",
            "Epoch 3/50\n",
            "61/61 [==============================] - 0s 7ms/step - loss: 0.3754 - binary_accuracy: 0.8644 - val_loss: 0.3565 - val_binary_accuracy: 0.8696\n",
            "Epoch 4/50\n",
            "61/61 [==============================] - 1s 12ms/step - loss: 0.3570 - binary_accuracy: 0.8644 - val_loss: 0.3462 - val_binary_accuracy: 0.8696\n",
            "Epoch 5/50\n",
            "61/61 [==============================] - 1s 8ms/step - loss: 0.3462 - binary_accuracy: 0.8644 - val_loss: 0.3360 - val_binary_accuracy: 0.8696\n",
            "Epoch 6/50\n",
            "61/61 [==============================] - 1s 9ms/step - loss: 0.3337 - binary_accuracy: 0.8644 - val_loss: 0.3241 - val_binary_accuracy: 0.8696\n",
            "Epoch 7/50\n",
            "61/61 [==============================] - 0s 6ms/step - loss: 0.3186 - binary_accuracy: 0.8644 - val_loss: 0.3092 - val_binary_accuracy: 0.8696\n",
            "Epoch 8/50\n",
            "61/61 [==============================] - 0s 4ms/step - loss: 0.2991 - binary_accuracy: 0.8644 - val_loss: 0.2897 - val_binary_accuracy: 0.8696\n",
            "Epoch 9/50\n",
            "61/61 [==============================] - 0s 6ms/step - loss: 0.2743 - binary_accuracy: 0.8644 - val_loss: 0.2656 - val_binary_accuracy: 0.8696\n",
            "Epoch 10/50\n",
            "61/61 [==============================] - 0s 4ms/step - loss: 0.2466 - binary_accuracy: 0.8644 - val_loss: 0.2417 - val_binary_accuracy: 0.8696\n",
            "Epoch 11/50\n",
            "61/61 [==============================] - 0s 7ms/step - loss: 0.2224 - binary_accuracy: 0.8644 - val_loss: 0.2217 - val_binary_accuracy: 0.8696\n",
            "Epoch 12/50\n",
            "61/61 [==============================] - 0s 5ms/step - loss: 0.2033 - binary_accuracy: 0.8644 - val_loss: 0.2078 - val_binary_accuracy: 0.8696\n",
            "Epoch 13/50\n",
            "61/61 [==============================] - 0s 4ms/step - loss: 0.1892 - binary_accuracy: 0.8644 - val_loss: 0.1975 - val_binary_accuracy: 0.8696\n",
            "Epoch 14/50\n",
            "61/61 [==============================] - 0s 4ms/step - loss: 0.1786 - binary_accuracy: 0.9274 - val_loss: 0.1896 - val_binary_accuracy: 0.9366\n",
            "Epoch 15/50\n",
            "61/61 [==============================] - 0s 3ms/step - loss: 0.1702 - binary_accuracy: 0.9438 - val_loss: 0.1838 - val_binary_accuracy: 0.9348\n",
            "Epoch 16/50\n",
            "61/61 [==============================] - 0s 4ms/step - loss: 0.1631 - binary_accuracy: 0.9485 - val_loss: 0.1776 - val_binary_accuracy: 0.9462\n",
            "Epoch 17/50\n",
            "61/61 [==============================] - 0s 7ms/step - loss: 0.1566 - binary_accuracy: 0.9538 - val_loss: 0.1731 - val_binary_accuracy: 0.9486\n",
            "Epoch 18/50\n",
            "61/61 [==============================] - 0s 6ms/step - loss: 0.1507 - binary_accuracy: 0.9597 - val_loss: 0.1688 - val_binary_accuracy: 0.9492\n",
            "Epoch 19/50\n",
            "61/61 [==============================] - 0s 7ms/step - loss: 0.1459 - binary_accuracy: 0.9618 - val_loss: 0.1641 - val_binary_accuracy: 0.9528\n",
            "Epoch 20/50\n",
            "61/61 [==============================] - 0s 4ms/step - loss: 0.1407 - binary_accuracy: 0.9638 - val_loss: 0.1600 - val_binary_accuracy: 0.9551\n",
            "Epoch 21/50\n",
            "61/61 [==============================] - 0s 4ms/step - loss: 0.1359 - binary_accuracy: 0.9651 - val_loss: 0.1582 - val_binary_accuracy: 0.9528\n",
            "Epoch 22/50\n",
            "61/61 [==============================] - 0s 3ms/step - loss: 0.1317 - binary_accuracy: 0.9656 - val_loss: 0.1528 - val_binary_accuracy: 0.9593\n",
            "Epoch 23/50\n",
            "61/61 [==============================] - 0s 3ms/step - loss: 0.1271 - binary_accuracy: 0.9685 - val_loss: 0.1491 - val_binary_accuracy: 0.9611\n",
            "Epoch 24/50\n",
            "61/61 [==============================] - 0s 3ms/step - loss: 0.1228 - binary_accuracy: 0.9715 - val_loss: 0.1464 - val_binary_accuracy: 0.9623\n",
            "Epoch 25/50\n",
            "61/61 [==============================] - 0s 3ms/step - loss: 0.1197 - binary_accuracy: 0.9700 - val_loss: 0.1435 - val_binary_accuracy: 0.9629\n",
            "Epoch 26/50\n",
            "61/61 [==============================] - 0s 3ms/step - loss: 0.1152 - binary_accuracy: 0.9736 - val_loss: 0.1410 - val_binary_accuracy: 0.9635\n",
            "Epoch 27/50\n",
            "61/61 [==============================] - 0s 4ms/step - loss: 0.1114 - binary_accuracy: 0.9751 - val_loss: 0.1350 - val_binary_accuracy: 0.9677\n",
            "Epoch 28/50\n",
            "61/61 [==============================] - 0s 3ms/step - loss: 0.1080 - binary_accuracy: 0.9767 - val_loss: 0.1320 - val_binary_accuracy: 0.9701\n",
            "Epoch 29/50\n",
            "61/61 [==============================] - 0s 3ms/step - loss: 0.1043 - binary_accuracy: 0.9785 - val_loss: 0.1299 - val_binary_accuracy: 0.9713\n",
            "Epoch 30/50\n",
            "61/61 [==============================] - 0s 4ms/step - loss: 0.1006 - binary_accuracy: 0.9803 - val_loss: 0.1281 - val_binary_accuracy: 0.9713\n",
            "Epoch 31/50\n",
            "61/61 [==============================] - 0s 4ms/step - loss: 0.0975 - binary_accuracy: 0.9818 - val_loss: 0.1248 - val_binary_accuracy: 0.9719\n",
            "Epoch 32/50\n",
            "61/61 [==============================] - 0s 3ms/step - loss: 0.0944 - binary_accuracy: 0.9823 - val_loss: 0.1197 - val_binary_accuracy: 0.9725\n",
            "Epoch 33/50\n",
            "61/61 [==============================] - 0s 4ms/step - loss: 0.0908 - binary_accuracy: 0.9836 - val_loss: 0.1197 - val_binary_accuracy: 0.9731\n",
            "Epoch 34/50\n",
            "61/61 [==============================] - 0s 3ms/step - loss: 0.0880 - binary_accuracy: 0.9841 - val_loss: 0.1166 - val_binary_accuracy: 0.9737\n",
            "Epoch 35/50\n",
            "61/61 [==============================] - 0s 6ms/step - loss: 0.0852 - binary_accuracy: 0.9844 - val_loss: 0.1144 - val_binary_accuracy: 0.9737\n",
            "Epoch 36/50\n",
            "61/61 [==============================] - 0s 5ms/step - loss: 0.0823 - binary_accuracy: 0.9851 - val_loss: 0.1117 - val_binary_accuracy: 0.9743\n",
            "Epoch 37/50\n",
            "61/61 [==============================] - 0s 7ms/step - loss: 0.0800 - binary_accuracy: 0.9872 - val_loss: 0.1106 - val_binary_accuracy: 0.9749\n",
            "Epoch 38/50\n",
            "61/61 [==============================] - 0s 4ms/step - loss: 0.0773 - binary_accuracy: 0.9874 - val_loss: 0.1080 - val_binary_accuracy: 0.9749\n",
            "Epoch 39/50\n",
            "61/61 [==============================] - 0s 4ms/step - loss: 0.0750 - binary_accuracy: 0.9874 - val_loss: 0.1056 - val_binary_accuracy: 0.9743\n",
            "Epoch 40/50\n",
            "61/61 [==============================] - 0s 4ms/step - loss: 0.0727 - binary_accuracy: 0.9882 - val_loss: 0.1046 - val_binary_accuracy: 0.9749\n",
            "Epoch 41/50\n",
            "61/61 [==============================] - 0s 4ms/step - loss: 0.0703 - binary_accuracy: 0.9892 - val_loss: 0.1054 - val_binary_accuracy: 0.9755\n",
            "Epoch 42/50\n",
            "61/61 [==============================] - 0s 4ms/step - loss: 0.0679 - binary_accuracy: 0.9895 - val_loss: 0.1009 - val_binary_accuracy: 0.9767\n",
            "Epoch 43/50\n",
            "61/61 [==============================] - 0s 3ms/step - loss: 0.0658 - binary_accuracy: 0.9900 - val_loss: 0.1011 - val_binary_accuracy: 0.9767\n",
            "Epoch 44/50\n",
            "61/61 [==============================] - 0s 3ms/step - loss: 0.0636 - binary_accuracy: 0.9905 - val_loss: 0.0977 - val_binary_accuracy: 0.9767\n",
            "Epoch 45/50\n",
            "61/61 [==============================] - 0s 3ms/step - loss: 0.0617 - binary_accuracy: 0.9905 - val_loss: 0.0979 - val_binary_accuracy: 0.9767\n",
            "Epoch 46/50\n",
            "61/61 [==============================] - 0s 4ms/step - loss: 0.0599 - binary_accuracy: 0.9908 - val_loss: 0.0947 - val_binary_accuracy: 0.9767\n",
            "Epoch 47/50\n",
            "61/61 [==============================] - 0s 3ms/step - loss: 0.0583 - binary_accuracy: 0.9915 - val_loss: 0.0934 - val_binary_accuracy: 0.9767\n",
            "Epoch 48/50\n",
            "61/61 [==============================] - 0s 3ms/step - loss: 0.0564 - binary_accuracy: 0.9915 - val_loss: 0.0928 - val_binary_accuracy: 0.9773\n",
            "Epoch 49/50\n",
            "61/61 [==============================] - 0s 4ms/step - loss: 0.0548 - binary_accuracy: 0.9918 - val_loss: 0.0905 - val_binary_accuracy: 0.9791\n",
            "Epoch 50/50\n",
            "61/61 [==============================] - 0s 3ms/step - loss: 0.0532 - binary_accuracy: 0.9926 - val_loss: 0.0916 - val_binary_accuracy: 0.9767\n"
          ]
        }
      ]
    },
    {
      "cell_type": "markdown",
      "source": [
        "***observations:***\n",
        "\n",
        "\n",
        "*   We observe that the loss decreases constantly from epochs to epochs.\n",
        "which indicates that the model is improving and learning from the training set.\n",
        "*   val_loss: This value also decreases, which is a good sign. The model does not overfit and generalizes well to new data.\n",
        "*   binary_accuracy: The increase, both on training and validation, suggests that the model is becoming more accurate in its predictions.\n",
        "\n",
        "\n",
        "\n",
        "\n",
        "\n"
      ],
      "metadata": {
        "id": "7wXGNTdcUCNw"
      }
    },
    {
      "cell_type": "markdown",
      "source": [
        "<u><h4> 4. Evaluation"
      ],
      "metadata": {
        "id": "jvJiDPzkjRnk"
      }
    },
    {
      "cell_type": "code",
      "source": [
        "# Visualization of the training process on the loss function\n",
        "plt.plot(history.history[\"loss\"], color=\"b\", label=\"Training Loss\")\n",
        "plt.plot(history.history[\"val_loss\"], color=\"r\", label=\"Validation Loss\")\n",
        "plt.title(\"Training and Validation Loss over Epochs\")\n",
        "plt.ylabel(\"Loss\")\n",
        "plt.xlabel(\"Epochs\")\n",
        "plt.legend()\n",
        "plt.show()\n"
      ],
      "metadata": {
        "colab": {
          "base_uri": "https://localhost:8080/",
          "height": 472
        },
        "id": "8W6yrsANivc-",
        "outputId": "0d3ab7e3-1c3f-4145-b73c-8d678d6e5c4c"
      },
      "execution_count": 23,
      "outputs": [
        {
          "output_type": "display_data",
          "data": {
            "text/plain": [
              "<Figure size 640x480 with 1 Axes>"
            ],
            "image/png": "[encoded data removed]"
          },
          "metadata": {}
        }
      ]
    },
    {
      "cell_type": "markdown",
      "source": [
        "observations:\n",
        "\n",
        "\n",
        "*   Blue Curve (Training Loss): It shows the loss on the training set. We observe a rapid decrease in the loss during the first epochs, followed by a slower and more stable decrease. This indicates that the model learns and improves quickly at first, then continues to improve at a more measured rate.\n",
        "\n",
        "*   Red Curve (Validation Loss): It shows the loss on the validation set. Like the blue curve, the validation loss decreases quickly at first, indicating that the model generalizes well to unseen data. The validation curve continues to closely follow the training curve, suggesting that the model is not significantly overlearning.\n",
        "\n",
        "\n"
      ],
      "metadata": {
        "id": "8oZpJxRWazHs"
      }
    },
    {
      "cell_type": "code",
      "source": [
        "# Visualization of accuracy training\n",
        "plt.plot(history.history[\"binary_accuracy\"], color=\"b\", label=\"Training Binary Accuracy\")\n",
        "plt.plot(history.history[\"val_binary_accuracy\"], color=\"r\", label=\"Validation Binary Accuracy\")\n",
        "plt.title(\"Training and Validation Binary Accuracy over Epochs\")\n",
        "plt.ylabel(\"Binary Accuracy\")\n",
        "plt.xlabel(\"Epochs\")\n",
        "plt.legend()\n",
        "plt.show()\n",
        "\n"
      ],
      "metadata": {
        "colab": {
          "base_uri": "https://localhost:8080/",
          "height": 472
        },
        "id": "GYQwnKyIjjzk",
        "outputId": "52dee0cf-57e0-4f50-bd46-63efa3c34a4a"
      },
      "execution_count": 24,
      "outputs": [
        {
          "output_type": "display_data",
          "data": {
            "text/plain": [
              "<Figure size 640x480 with 1 Axes>"
            ],
            "image/png": "[encoded data removed]"
          },
          "metadata": {}
        }
      ]
    },
    {
      "cell_type": "markdown",
      "source": [
        "***observations***\n",
        "\n",
        "\n",
        "*   Blue Curve (Training Accuracy): It represents the binary precision on the training set. It shows how accuracy improves over epochs, indicating that the model is becoming more and more proficient at making correct predictions with the training data.\n",
        "*   Red Curve (Validation Accuracy): The red curve represents the binary accuracy on the validation set. This curve is particularly important because it shows how the model performs on data it didn't see during training. Like the blue curve, the red curve shows an increase in accuracy over time, suggesting that the model generalizes well to new data.\n",
        "\n"
      ],
      "metadata": {
        "id": "OTCXv1T7dI9y"
      }
    },
    {
      "cell_type": "markdown",
      "source": [
        "### <u> Second Model : GRU"
      ],
      "metadata": {
        "id": "JIKeaATOk1sz"
      }
    },
    {
      "cell_type": "markdown",
      "source": [
        "<u><h4> 1. Building"
      ],
      "metadata": {
        "id": "buoiIRmiYmW9"
      }
    },
    {
      "cell_type": "code",
      "source": [
        "# Define the vocabulary size and Create a GRU model\n",
        "\n",
        "vocab_size = tokenizer.num_words\n",
        "model_gru = tf.keras.Sequential([\n",
        "    tf.keras.layers.Embedding(vocab_size+1, 64, input_shape=[reviews_pad.shape[1],], name=\"embedding\"),\n",
        "    tf.keras.layers.GRU(units=32, return_sequences=False),\n",
        "    tf.keras.layers.Dense(1, activation=\"sigmoid\")\n",
        "])\n"
      ],
      "metadata": {
        "id": "-O62zVaahS5u"
      },
      "execution_count": 25,
      "outputs": []
    },
    {
      "cell_type": "code",
      "source": [
        "model_gru.summary()"
      ],
      "metadata": {
        "colab": {
          "base_uri": "https://localhost:8080/"
        },
        "id": "xzPD2_ZOn9sd",
        "outputId": "cfcfacb5-9fd3-48fa-dd66-a3ed0974a7bc"
      },
      "execution_count": 26,
      "outputs": [
        {
          "output_type": "stream",
          "name": "stdout",
          "text": [
            "Model: \"sequential_1\"\n",
            "_________________________________________________________________\n",
            " Layer (type)                Output Shape              Param #   \n",
            "=================================================================\n",
            " embedding (Embedding)       (None, 74, 64)            64064     \n",
            "                                                                 \n",
            " gru (GRU)                   (None, 32)                9408      \n",
            "                                                                 \n",
            " dense_2 (Dense)             (None, 1)                 33        \n",
            "                                                                 \n",
            "=================================================================\n",
            "Total params: 73505 (287.13 KB)\n",
            "Trainable params: 73505 (287.13 KB)\n",
            "Non-trainable params: 0 (0.00 Byte)\n",
            "_________________________________________________________________\n"
          ]
        }
      ]
    },
    {
      "cell_type": "markdown",
      "source": [
        "<u><h4> 2.Compiling the model"
      ],
      "metadata": {
        "id": "JPoiD-bIYsED"
      }
    },
    {
      "cell_type": "code",
      "source": [
        "#Compiling with Adam optimizer and Binary CrossEntropy Loss\n",
        "optimizer= tf.keras.optimizers.Adam()\n",
        "model_gru.compile(optimizer=optimizer,\n",
        "                     loss=tf.keras.losses.BinaryCrossentropy(),\n",
        "                     metrics=[tf.keras.metrics.BinaryAccuracy()])"
      ],
      "metadata": {
        "id": "VL_E20OjoRbm"
      },
      "execution_count": 27,
      "outputs": []
    },
    {
      "cell_type": "markdown",
      "source": [
        "<u><h4> 3. Training the model"
      ],
      "metadata": {
        "id": "fCpt6eRdZCyN"
      }
    },
    {
      "cell_type": "code",
      "source": [
        "# Model training on 40 epochs\n",
        "history = model_gru.fit(train_batch, epochs=40, validation_data=val_batch)"
      ],
      "metadata": {
        "colab": {
          "base_uri": "https://localhost:8080/"
        },
        "id": "NeaWB7e0oweQ",
        "outputId": "e420375d-2ccb-4b93-c591-3a932ca91c59"
      },
      "execution_count": 28,
      "outputs": [
        {
          "output_type": "stream",
          "name": "stdout",
          "text": [
            "Epoch 1/40\n",
            "61/61 [==============================] - 5s 51ms/step - loss: 0.4614 - binary_accuracy: 0.8413 - val_loss: 0.3871 - val_binary_accuracy: 0.8696\n",
            "Epoch 2/40\n",
            "61/61 [==============================] - 4s 60ms/step - loss: 0.3974 - binary_accuracy: 0.8644 - val_loss: 0.3882 - val_binary_accuracy: 0.8696\n",
            "Epoch 3/40\n",
            "61/61 [==============================] - 3s 43ms/step - loss: 0.3977 - binary_accuracy: 0.8644 - val_loss: 0.3888 - val_binary_accuracy: 0.8696\n",
            "Epoch 4/40\n",
            "61/61 [==============================] - 3s 50ms/step - loss: 0.3988 - binary_accuracy: 0.8644 - val_loss: 0.3912 - val_binary_accuracy: 0.8696\n",
            "Epoch 5/40\n",
            "61/61 [==============================] - 3s 56ms/step - loss: 0.3978 - binary_accuracy: 0.8644 - val_loss: 0.3884 - val_binary_accuracy: 0.8696\n",
            "Epoch 6/40\n",
            "61/61 [==============================] - 3s 43ms/step - loss: 0.3995 - binary_accuracy: 0.8644 - val_loss: 0.3909 - val_binary_accuracy: 0.8696\n",
            "Epoch 7/40\n",
            "61/61 [==============================] - 4s 73ms/step - loss: 0.3984 - binary_accuracy: 0.8644 - val_loss: 0.3871 - val_binary_accuracy: 0.8696\n",
            "Epoch 8/40\n",
            "61/61 [==============================] - 3s 43ms/step - loss: 0.3977 - binary_accuracy: 0.8644 - val_loss: 0.3880 - val_binary_accuracy: 0.8696\n",
            "Epoch 9/40\n",
            "61/61 [==============================] - 3s 43ms/step - loss: 0.3982 - binary_accuracy: 0.8644 - val_loss: 0.3874 - val_binary_accuracy: 0.8696\n",
            "Epoch 10/40\n",
            "61/61 [==============================] - 3s 54ms/step - loss: 0.3973 - binary_accuracy: 0.8644 - val_loss: 0.3871 - val_binary_accuracy: 0.8696\n",
            "Epoch 11/40\n",
            "61/61 [==============================] - 3s 50ms/step - loss: 0.3983 - binary_accuracy: 0.8644 - val_loss: 0.3889 - val_binary_accuracy: 0.8696\n",
            "Epoch 12/40\n",
            "61/61 [==============================] - 3s 43ms/step - loss: 0.3983 - binary_accuracy: 0.8644 - val_loss: 0.3871 - val_binary_accuracy: 0.8696\n",
            "Epoch 13/40\n",
            "61/61 [==============================] - 4s 65ms/step - loss: 0.3976 - binary_accuracy: 0.8644 - val_loss: 0.3873 - val_binary_accuracy: 0.8696\n",
            "Epoch 14/40\n",
            "61/61 [==============================] - 3s 43ms/step - loss: 0.3981 - binary_accuracy: 0.8644 - val_loss: 0.3871 - val_binary_accuracy: 0.8696\n",
            "Epoch 15/40\n",
            "61/61 [==============================] - 3s 43ms/step - loss: 0.3980 - binary_accuracy: 0.8644 - val_loss: 0.3875 - val_binary_accuracy: 0.8696\n",
            "Epoch 16/40\n",
            "61/61 [==============================] - 6s 95ms/step - loss: 0.3974 - binary_accuracy: 0.8644 - val_loss: 0.3893 - val_binary_accuracy: 0.8696\n",
            "Epoch 17/40\n",
            "61/61 [==============================] - 4s 69ms/step - loss: 0.3984 - binary_accuracy: 0.8644 - val_loss: 0.3900 - val_binary_accuracy: 0.8696\n",
            "Epoch 18/40\n",
            "61/61 [==============================] - 3s 44ms/step - loss: 0.3977 - binary_accuracy: 0.8644 - val_loss: 0.3872 - val_binary_accuracy: 0.8696\n",
            "Epoch 19/40\n",
            "61/61 [==============================] - 3s 43ms/step - loss: 0.3974 - binary_accuracy: 0.8644 - val_loss: 0.3884 - val_binary_accuracy: 0.8696\n",
            "Epoch 20/40\n",
            "61/61 [==============================] - 4s 61ms/step - loss: 0.3972 - binary_accuracy: 0.8644 - val_loss: 0.3890 - val_binary_accuracy: 0.8696\n",
            "Epoch 21/40\n",
            "61/61 [==============================] - 3s 43ms/step - loss: 0.4002 - binary_accuracy: 0.8644 - val_loss: 0.3872 - val_binary_accuracy: 0.8696\n",
            "Epoch 22/40\n",
            "61/61 [==============================] - 3s 43ms/step - loss: 0.3977 - binary_accuracy: 0.8644 - val_loss: 0.3871 - val_binary_accuracy: 0.8696\n",
            "Epoch 23/40\n",
            "61/61 [==============================] - 6s 94ms/step - loss: 0.3978 - binary_accuracy: 0.8644 - val_loss: 0.3881 - val_binary_accuracy: 0.8696\n",
            "Epoch 24/40\n",
            "61/61 [==============================] - 3s 43ms/step - loss: 0.3791 - binary_accuracy: 0.8644 - val_loss: 0.3076 - val_binary_accuracy: 0.8696\n",
            "Epoch 25/40\n",
            "61/61 [==============================] - 4s 71ms/step - loss: 0.1500 - binary_accuracy: 0.9405 - val_loss: 0.1096 - val_binary_accuracy: 0.9707\n",
            "Epoch 26/40\n",
            "61/61 [==============================] - 4s 61ms/step - loss: 0.0680 - binary_accuracy: 0.9821 - val_loss: 0.1050 - val_binary_accuracy: 0.9665\n",
            "Epoch 27/40\n",
            "61/61 [==============================] - 3s 53ms/step - loss: 0.0473 - binary_accuracy: 0.9877 - val_loss: 0.0866 - val_binary_accuracy: 0.9767\n",
            "Epoch 28/40\n",
            "61/61 [==============================] - 4s 60ms/step - loss: 0.0293 - binary_accuracy: 0.9931 - val_loss: 0.0860 - val_binary_accuracy: 0.9767\n",
            "Epoch 29/40\n",
            "61/61 [==============================] - 4s 71ms/step - loss: 0.0192 - binary_accuracy: 0.9962 - val_loss: 0.1019 - val_binary_accuracy: 0.9779\n",
            "Epoch 30/40\n",
            "61/61 [==============================] - 4s 73ms/step - loss: 0.0152 - binary_accuracy: 0.9974 - val_loss: 0.0997 - val_binary_accuracy: 0.9773\n",
            "Epoch 31/40\n",
            "61/61 [==============================] - 4s 67ms/step - loss: 0.0131 - binary_accuracy: 0.9977 - val_loss: 0.1071 - val_binary_accuracy: 0.9761\n",
            "Epoch 32/40\n",
            "61/61 [==============================] - 4s 66ms/step - loss: 0.0122 - binary_accuracy: 0.9979 - val_loss: 0.1022 - val_binary_accuracy: 0.9797\n",
            "Epoch 33/40\n",
            "61/61 [==============================] - 5s 85ms/step - loss: 0.0114 - binary_accuracy: 0.9982 - val_loss: 0.0996 - val_binary_accuracy: 0.9785\n",
            "Epoch 34/40\n",
            "61/61 [==============================] - 3s 56ms/step - loss: 0.0101 - binary_accuracy: 0.9985 - val_loss: 0.1017 - val_binary_accuracy: 0.9791\n",
            "Epoch 35/40\n",
            "61/61 [==============================] - 3s 43ms/step - loss: 0.0100 - binary_accuracy: 0.9985 - val_loss: 0.1014 - val_binary_accuracy: 0.9797\n",
            "Epoch 36/40\n",
            "61/61 [==============================] - 3s 43ms/step - loss: 0.0097 - binary_accuracy: 0.9985 - val_loss: 0.1025 - val_binary_accuracy: 0.9803\n",
            "Epoch 37/40\n",
            "61/61 [==============================] - 3s 52ms/step - loss: 0.0096 - binary_accuracy: 0.9982 - val_loss: 0.1011 - val_binary_accuracy: 0.9779\n",
            "Epoch 38/40\n",
            "61/61 [==============================] - 3s 43ms/step - loss: 0.0094 - binary_accuracy: 0.9982 - val_loss: 0.1003 - val_binary_accuracy: 0.9797\n",
            "Epoch 39/40\n",
            "61/61 [==============================] - 3s 43ms/step - loss: 0.0086 - binary_accuracy: 0.9982 - val_loss: 0.1011 - val_binary_accuracy: 0.9809\n",
            "Epoch 40/40\n",
            "61/61 [==============================] - 4s 63ms/step - loss: 0.0081 - binary_accuracy: 0.9987 - val_loss: 0.1010 - val_binary_accuracy: 0.9803\n"
          ]
        }
      ]
    },
    {
      "cell_type": "markdown",
      "source": [
        "*** observations :***\n",
        "\n",
        "\n",
        "*   Loss: The loss on the training set starts higher and gradually decreases, indicating that the model is improving and fitting the training data.\n",
        "By reaching very low values, it suggests that the model has become very accurate on the training set.\n",
        "*   val_loss: It also decreases, indicating that the model generalizes well to unseen data.\n",
        "However, the validation loss starts to oscillate slightly after epoch 20, which may be a sign of beginning overfitting.\n",
        "*   Binary_accuracy: It starts at a reasonable level and remains relatively stable across epochs.\n",
        "however it increases around the 22nd epochs to near-perfect levels, reflecting the reduction in loss.\n",
        "*   val_binary_accuracy: The validation precision remains fairly stable, which is a good sign of generalization then it increases around 22 epochs but at times drops a little.\n",
        "\n",
        "\n",
        "\n"
      ],
      "metadata": {
        "id": "FXnrZi-0mPuj"
      }
    },
    {
      "cell_type": "markdown",
      "source": [
        "<u><h4> 4. Evaluation"
      ],
      "metadata": {
        "id": "sfJGUkysZRYF"
      }
    },
    {
      "cell_type": "code",
      "source": [
        " # Visualization of the training process on the loss function\n",
        "\n",
        "plt.plot(history.history[\"loss\"], color=\"b\", label=\"Training Loss\")\n",
        "plt.plot(history.history[\"val_loss\"], color=\"r\", label=\"Validation Loss\")\n",
        "plt.title(\"Training and Validation Loss over Epochs\")\n",
        "plt.ylabel(\"Loss\")\n",
        "plt.xlabel(\"Epochs\")\n",
        "plt.legend()\n",
        "plt.show()\n"
      ],
      "metadata": {
        "colab": {
          "base_uri": "https://localhost:8080/",
          "height": 472
        },
        "id": "GM0S9wjGozkT",
        "outputId": "ab742b34-8bd9-4bb4-c2fe-c3374795ac6b"
      },
      "execution_count": 29,
      "outputs": [
        {
          "output_type": "display_data",
          "data": {
            "text/plain": [
              "<Figure size 640x480 with 1 Axes>"
            ],
            "image/png": "[encoded data removed]"
          },
          "metadata": {}
        }
      ]
    },
    {
      "cell_type": "markdown",
      "source": [
        "***observations:***\n",
        "\n",
        "\n",
        "*   we can see that both loss curves decrease and stabilize around the 20th epoch. This indicates that the model is improving and learning on both the training and validation data up to this point.y.\n",
        "\n",
        "*   The training loss is lower than the val_loss.This generally indicates that the model has learned the training data better and may not perform as well of course data that he didn't see during training. It is a signe of overfitting.\n",
        "\n",
        "\n",
        "\n"
      ],
      "metadata": {
        "id": "_MF-FmG6tCh9"
      }
    },
    {
      "cell_type": "code",
      "source": [
        "# Visualization of accuracy training\n",
        "plt.plot(history.history[\"binary_accuracy\"], color=\"b\", label=\"Training Binary Accuracy\")\n",
        "plt.plot(history.history[\"val_binary_accuracy\"], color=\"r\", label=\"Validation Binary Accuracy\")\n",
        "plt.title(\"Training and Validation Binary Accuracy over Epochs\")\n",
        "plt.ylabel(\"Binary Accuracy\")\n",
        "plt.xlabel(\"Epochs\")\n",
        "plt.legend()\n",
        "plt.show()\n",
        "\n"
      ],
      "metadata": {
        "colab": {
          "base_uri": "https://localhost:8080/",
          "height": 472
        },
        "id": "dhmh1ywwpFSb",
        "outputId": "c9a1b8ed-625f-4a2a-c490-5964fc5ab56a"
      },
      "execution_count": 30,
      "outputs": [
        {
          "output_type": "display_data",
          "data": {
            "text/plain": [
              "<Figure size 640x480 with 1 Axes>"
            ],
            "image/png": "[encoded data removed]"
          },
          "metadata": {}
        }
      ]
    },
    {
      "cell_type": "markdown",
      "source": [
        "***observations:***\n",
        "\n",
        "*   Both curves follow a similar trend with a rapid increase. However, after the initial peak, the val_binary fluctuates and tends to be slightly lower than the training one, indicating a possible divergence between learning on the training set and generalization on the validation set.\n",
        "This divergence can be an indicator of overfitting.\n",
        "\n"
      ],
      "metadata": {
        "id": "jlrqxV47zmRQ"
      }
    }
  ]
}